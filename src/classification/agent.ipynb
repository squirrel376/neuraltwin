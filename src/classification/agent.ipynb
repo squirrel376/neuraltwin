{
 "cells": [
  {
   "cell_type": "code",
   "execution_count": null,
   "id": "c87ab793",
   "metadata": {},
   "outputs": [],
   "source": [
    "from datetime import datetime\n",
    "import os\n",
    "\n",
    "from google.cloud import bigquery, storage\n",
    "import pandas as pd\n",
    "\n",
    "# Set up google cloud clients\n",
    "bigquery_client = bigquery.Client.from_service_account_json(\"../../config/neuraltwin-545b2b43070a.json\")\n",
    "storage_client = storage.Client.from_service_account_json(\"../../config/neuraltwin-545b2b43070a.json\")"
   ]
  },
  {
   "cell_type": "markdown",
   "id": "b27c5f32",
   "metadata": {},
   "source": [
    "# Agent input"
   ]
  },
  {
   "cell_type": "code",
   "execution_count": null,
   "id": "6e3cee96",
   "metadata": {},
   "outputs": [],
   "source": [
    "cloud_storage_location = \"gs://neuraltwin/data/wagon_data\"  # location of the data in cloud storage, must contain subfolders measurements, failures, metadata\n",
    "bigquery_dataset = \"neuraltwin.wagon_data\"  # the agent will create tables in this location\n",
    "project_id = \"neuraltwin\"  # your google cloud project id"
   ]
  },
  {
   "cell_type": "code",
   "execution_count": null,
   "id": "20e373e4",
   "metadata": {},
   "outputs": [],
   "source": [
    "TODAY = datetime(year=2025, month=8, day=2)\n",
    "TODAY_str = TODAY.strftime('%Y_%m_%d')"
   ]
  },
  {
   "cell_type": "markdown",
   "id": "87f7f220",
   "metadata": {},
   "source": [
    "# Generate bigquery tables for measurements, failures, and metadata from raw data in GCS"
   ]
  },
  {
   "cell_type": "code",
   "execution_count": 53,
   "id": "03a63c90",
   "metadata": {},
   "outputs": [],
   "source": [
    "def load_folder_into_bigquery(folder_url: str, table_id: str, bigquery_client: bigquery.Client, storage_client: storage.Client):\n",
    "    \"\"\"\n",
    "    Loads all files from a given folder in Google Cloud Storage into a BigQuery table.\n",
    "    Auto-detects:\n",
    "        - File format (CSV, NDJSON, Parquet) from a single file in the folder.\n",
    "        - Schema from the file contents.\n",
    "    Overwrites the table if it already exists.\n",
    "    After ingestion:\n",
    "        - If a column named 'timestamp' exists and is inferred as DATE,\n",
    "          automatically converts it into TIMESTAMP.\n",
    "    Assumes all files in the folder are of the same format.\n",
    "    \"\"\"\n",
    "\n",
    "    # Normalize folder path (ensure trailing slash)\n",
    "    if not folder_url.endswith(\"/\"):\n",
    "        folder_url += \"/\"\n",
    "\n",
    "    # Extract bucket name & prefix from folder URL\n",
    "    if not folder_url.startswith(\"gs://\"):\n",
    "        raise ValueError(\"folder_url must start with 'gs://'\")\n",
    "    bucket_name = folder_url.split(\"/\")[2]\n",
    "    prefix = \"/\".join(folder_url.split(\"/\")[3:])\n",
    "\n",
    "    # Use GCS client to find one file in the folder\n",
    "    blobs = list(storage_client.list_blobs(bucket_name, prefix=prefix, max_results=1))\n",
    "\n",
    "    if not blobs:\n",
    "        raise FileNotFoundError(f\"No files found in {folder_url}\")\n",
    "\n",
    "    # Get the first file's extension to determine source format\n",
    "    first_file = blobs[0].name\n",
    "    extension = os.path.splitext(first_file)[1].lower()\n",
    "\n",
    "    # Map file extension to BigQuery source format\n",
    "    if extension == \".csv\":\n",
    "        source_format = bigquery.SourceFormat.CSV\n",
    "    elif extension in (\".json\", \".ndjson\"):\n",
    "        source_format = bigquery.SourceFormat.NEWLINE_DELIMITED_JSON\n",
    "    elif extension == \".parquet\":\n",
    "        source_format = bigquery.SourceFormat.PARQUET\n",
    "    else:\n",
    "        raise ValueError(f\"Unsupported file format '{extension}' in {first_file}\")\n",
    "\n",
    "    # Configure the load job\n",
    "    job_config = bigquery.LoadJobConfig(\n",
    "        autodetect=True,\n",
    "        write_disposition=bigquery.WriteDisposition.WRITE_TRUNCATE,\n",
    "        source_format=source_format\n",
    "    )\n",
    "\n",
    "    # Start the load job for all files in the folder\n",
    "    load_job = bigquery_client.load_table_from_uri(\n",
    "        f\"{folder_url}*\",\n",
    "        table_id,\n",
    "        job_config=job_config,\n",
    "    )\n",
    "\n",
    "    # Wait for completion and handle errors\n",
    "    try:\n",
    "        load_job.result()\n",
    "    except Exception as e:\n",
    "        print(f\"❌ BigQuery load failed: {e}\")\n",
    "        if load_job.errors:\n",
    "            print(\"BigQuery job errors:\", load_job.errors)\n",
    "        raise\n",
    "\n",
    "    # Check if 'timestamp' column exists and its type\n",
    "    table = bigquery_client.get_table(table_id)\n",
    "    timestamp_field = next((f for f in table.schema if f.name.lower() == \"timestamp\"), None)\n",
    "\n",
    "    if timestamp_field:\n",
    "        if timestamp_field.field_type.upper() == \"DATE\":\n",
    "            print(f\"ℹ️ Column 'timestamp' detected as DATE. Converting to TIMESTAMP...\")\n",
    "\n",
    "            query = f\"\"\"\n",
    "            CREATE OR REPLACE TABLE `{table_id}` AS\n",
    "            SELECT\n",
    "                CAST(timestamp AS TIMESTAMP) AS timestamp,\n",
    "                *\n",
    "            EXCEPT(timestamp)\n",
    "            FROM `{table_id}`\n",
    "            \"\"\"\n",
    "\n",
    "            bigquery_client.query(query).result()\n",
    "            print(f\"✅ Converted 'timestamp' column from DATE to TIMESTAMP in {table_id}.\")\n",
    "        else:\n",
    "            print(f\"✅ Column 'timestamp' already has type {timestamp_field.field_type}. No conversion needed.\")\n",
    "    else:\n",
    "        print(f\"ℹ️ No 'timestamp' column found in {table_id}.\")\n",
    "\n",
    "    # Fetch the table and report\n",
    "    destination_table = bigquery_client.get_table(table_id)\n",
    "    print(f\"✅ Loaded {destination_table.num_rows} rows into {table_id} ({source_format}).\")"
   ]
  },
  {
   "cell_type": "code",
   "execution_count": null,
   "id": "dc44d4a5",
   "metadata": {},
   "outputs": [
    {
     "name": "stdout",
     "output_type": "stream",
     "text": [
      "✅ Column 'timestamp' already has type TIMESTAMP. No conversion needed.\n",
      "✅ Loaded 109973 rows into neuraltwin.wagon_data.measurements (PARQUET).\n"
     ]
    }
   ],
   "source": [
    "for data_type in [\"measurements\", \"failures\", \"metadata\"]:\n",
    "    load_folder_into_bigquery(\n",
    "        folder_url=f\"{cloud_storage_location}/{data_type}/\",\n",
    "        table_id=f\"{bigquery_dataset}.{data_type}\",\n",
    "        bigquery_client=bigquery_client,\n",
    "        storage_client=storage_client\n",
    "    )"
   ]
  },
  {
   "cell_type": "markdown",
   "id": "8d4fde58",
   "metadata": {},
   "source": [
    "# Train classification model"
   ]
  },
  {
   "cell_type": "code",
   "execution_count": null,
   "id": "73dc7838",
   "metadata": {},
   "outputs": [],
   "source": [
    "# load training data\n",
    "training_data = pd.read_gbq(\n",
    "    f\"SELECT * FROM `{bigquery_dataset}.measurements`\",\n",
    "    project_id=project_id,\n",
    "    dialect=\"standard\"\n",
    ")\n",
    "failures = pd.read_gbq(\n",
    "    f\"SELECT id, timestamp FROM `{bigquery_dataset}.failures`\",\n",
    "    project_id=project_id,\n",
    "    dialect=\"standard\"\n",
    ")\n",
    "\n",
    "# create a new column \"failure\" in training data, default to 0.0\n",
    "training_data[\"failure\"] = 0.0\n",
    "# in training data, set the failure flag to 1.0 for rows where id and timestamp match failures table\n",
    "for _, row in failures.iterrows():\n",
    "    training_data.loc[\n",
    "        (training_data[\"id\"] == row[\"id\"]) & (training_data[\"timestamp\"] == row[\"timestamp\"]),\n",
    "        \"failure\"\n",
    "    ] = 1.0\n",
    "training_data.drop(columns=[\"id\", \"timestamp\"], inplace=True)"
   ]
  },
  {
   "cell_type": "code",
   "execution_count": null,
   "id": "c1237cf1",
   "metadata": {},
   "outputs": [
    {
     "data": {
      "text/html": [
       "<style type=\"text/css\">\n",
       "#T_8b3d8_row8_col1 {\n",
       "  background-color: lightgreen;\n",
       "}\n",
       "</style>\n",
       "<table id=\"T_8b3d8\">\n",
       "  <thead>\n",
       "    <tr>\n",
       "      <th class=\"blank level0\" >&nbsp;</th>\n",
       "      <th id=\"T_8b3d8_level0_col0\" class=\"col_heading level0 col0\" >Description</th>\n",
       "      <th id=\"T_8b3d8_level0_col1\" class=\"col_heading level0 col1\" >Value</th>\n",
       "    </tr>\n",
       "  </thead>\n",
       "  <tbody>\n",
       "    <tr>\n",
       "      <th id=\"T_8b3d8_level0_row0\" class=\"row_heading level0 row0\" >0</th>\n",
       "      <td id=\"T_8b3d8_row0_col0\" class=\"data row0 col0\" >Session id</td>\n",
       "      <td id=\"T_8b3d8_row0_col1\" class=\"data row0 col1\" >3232</td>\n",
       "    </tr>\n",
       "    <tr>\n",
       "      <th id=\"T_8b3d8_level0_row1\" class=\"row_heading level0 row1\" >1</th>\n",
       "      <td id=\"T_8b3d8_row1_col0\" class=\"data row1 col0\" >Target</td>\n",
       "      <td id=\"T_8b3d8_row1_col1\" class=\"data row1 col1\" >failure</td>\n",
       "    </tr>\n",
       "    <tr>\n",
       "      <th id=\"T_8b3d8_level0_row2\" class=\"row_heading level0 row2\" >2</th>\n",
       "      <td id=\"T_8b3d8_row2_col0\" class=\"data row2 col0\" >Target type</td>\n",
       "      <td id=\"T_8b3d8_row2_col1\" class=\"data row2 col1\" >Binary</td>\n",
       "    </tr>\n",
       "    <tr>\n",
       "      <th id=\"T_8b3d8_level0_row3\" class=\"row_heading level0 row3\" >3</th>\n",
       "      <td id=\"T_8b3d8_row3_col0\" class=\"data row3 col0\" >Original data shape</td>\n",
       "      <td id=\"T_8b3d8_row3_col1\" class=\"data row3 col1\" >(109973, 6)</td>\n",
       "    </tr>\n",
       "    <tr>\n",
       "      <th id=\"T_8b3d8_level0_row4\" class=\"row_heading level0 row4\" >4</th>\n",
       "      <td id=\"T_8b3d8_row4_col0\" class=\"data row4 col0\" >Transformed data shape</td>\n",
       "      <td id=\"T_8b3d8_row4_col1\" class=\"data row4 col1\" >(109973, 6)</td>\n",
       "    </tr>\n",
       "    <tr>\n",
       "      <th id=\"T_8b3d8_level0_row5\" class=\"row_heading level0 row5\" >5</th>\n",
       "      <td id=\"T_8b3d8_row5_col0\" class=\"data row5 col0\" >Transformed train set shape</td>\n",
       "      <td id=\"T_8b3d8_row5_col1\" class=\"data row5 col1\" >(76981, 6)</td>\n",
       "    </tr>\n",
       "    <tr>\n",
       "      <th id=\"T_8b3d8_level0_row6\" class=\"row_heading level0 row6\" >6</th>\n",
       "      <td id=\"T_8b3d8_row6_col0\" class=\"data row6 col0\" >Transformed test set shape</td>\n",
       "      <td id=\"T_8b3d8_row6_col1\" class=\"data row6 col1\" >(32992, 6)</td>\n",
       "    </tr>\n",
       "    <tr>\n",
       "      <th id=\"T_8b3d8_level0_row7\" class=\"row_heading level0 row7\" >7</th>\n",
       "      <td id=\"T_8b3d8_row7_col0\" class=\"data row7 col0\" >Numeric features</td>\n",
       "      <td id=\"T_8b3d8_row7_col1\" class=\"data row7 col1\" >5</td>\n",
       "    </tr>\n",
       "    <tr>\n",
       "      <th id=\"T_8b3d8_level0_row8\" class=\"row_heading level0 row8\" >8</th>\n",
       "      <td id=\"T_8b3d8_row8_col0\" class=\"data row8 col0\" >Preprocess</td>\n",
       "      <td id=\"T_8b3d8_row8_col1\" class=\"data row8 col1\" >True</td>\n",
       "    </tr>\n",
       "    <tr>\n",
       "      <th id=\"T_8b3d8_level0_row9\" class=\"row_heading level0 row9\" >9</th>\n",
       "      <td id=\"T_8b3d8_row9_col0\" class=\"data row9 col0\" >Imputation type</td>\n",
       "      <td id=\"T_8b3d8_row9_col1\" class=\"data row9 col1\" >simple</td>\n",
       "    </tr>\n",
       "    <tr>\n",
       "      <th id=\"T_8b3d8_level0_row10\" class=\"row_heading level0 row10\" >10</th>\n",
       "      <td id=\"T_8b3d8_row10_col0\" class=\"data row10 col0\" >Numeric imputation</td>\n",
       "      <td id=\"T_8b3d8_row10_col1\" class=\"data row10 col1\" >mean</td>\n",
       "    </tr>\n",
       "    <tr>\n",
       "      <th id=\"T_8b3d8_level0_row11\" class=\"row_heading level0 row11\" >11</th>\n",
       "      <td id=\"T_8b3d8_row11_col0\" class=\"data row11 col0\" >Categorical imputation</td>\n",
       "      <td id=\"T_8b3d8_row11_col1\" class=\"data row11 col1\" >mode</td>\n",
       "    </tr>\n",
       "    <tr>\n",
       "      <th id=\"T_8b3d8_level0_row12\" class=\"row_heading level0 row12\" >12</th>\n",
       "      <td id=\"T_8b3d8_row12_col0\" class=\"data row12 col0\" >Fold Generator</td>\n",
       "      <td id=\"T_8b3d8_row12_col1\" class=\"data row12 col1\" >StratifiedKFold</td>\n",
       "    </tr>\n",
       "    <tr>\n",
       "      <th id=\"T_8b3d8_level0_row13\" class=\"row_heading level0 row13\" >13</th>\n",
       "      <td id=\"T_8b3d8_row13_col0\" class=\"data row13 col0\" >Fold Number</td>\n",
       "      <td id=\"T_8b3d8_row13_col1\" class=\"data row13 col1\" >10</td>\n",
       "    </tr>\n",
       "    <tr>\n",
       "      <th id=\"T_8b3d8_level0_row14\" class=\"row_heading level0 row14\" >14</th>\n",
       "      <td id=\"T_8b3d8_row14_col0\" class=\"data row14 col0\" >CPU Jobs</td>\n",
       "      <td id=\"T_8b3d8_row14_col1\" class=\"data row14 col1\" >-1</td>\n",
       "    </tr>\n",
       "    <tr>\n",
       "      <th id=\"T_8b3d8_level0_row15\" class=\"row_heading level0 row15\" >15</th>\n",
       "      <td id=\"T_8b3d8_row15_col0\" class=\"data row15 col0\" >Use GPU</td>\n",
       "      <td id=\"T_8b3d8_row15_col1\" class=\"data row15 col1\" >False</td>\n",
       "    </tr>\n",
       "    <tr>\n",
       "      <th id=\"T_8b3d8_level0_row16\" class=\"row_heading level0 row16\" >16</th>\n",
       "      <td id=\"T_8b3d8_row16_col0\" class=\"data row16 col0\" >Log Experiment</td>\n",
       "      <td id=\"T_8b3d8_row16_col1\" class=\"data row16 col1\" >False</td>\n",
       "    </tr>\n",
       "    <tr>\n",
       "      <th id=\"T_8b3d8_level0_row17\" class=\"row_heading level0 row17\" >17</th>\n",
       "      <td id=\"T_8b3d8_row17_col0\" class=\"data row17 col0\" >Experiment Name</td>\n",
       "      <td id=\"T_8b3d8_row17_col1\" class=\"data row17 col1\" >clf-default-name</td>\n",
       "    </tr>\n",
       "    <tr>\n",
       "      <th id=\"T_8b3d8_level0_row18\" class=\"row_heading level0 row18\" >18</th>\n",
       "      <td id=\"T_8b3d8_row18_col0\" class=\"data row18 col0\" >USI</td>\n",
       "      <td id=\"T_8b3d8_row18_col1\" class=\"data row18 col1\" >7af1</td>\n",
       "    </tr>\n",
       "  </tbody>\n",
       "</table>\n"
      ],
      "text/plain": [
       "<pandas.io.formats.style.Styler at 0x24c99e69f50>"
      ]
     },
     "metadata": {},
     "output_type": "display_data"
    },
    {
     "data": {
      "text/html": [],
      "text/plain": [
       "<IPython.core.display.HTML object>"
      ]
     },
     "metadata": {},
     "output_type": "display_data"
    },
    {
     "data": {
      "text/html": [
       "<style type=\"text/css\">\n",
       "#T_9a856 th {\n",
       "  text-align: left;\n",
       "}\n",
       "#T_9a856_row0_col0, #T_9a856_row0_col1, #T_9a856_row0_col2, #T_9a856_row0_col4, #T_9a856_row0_col5, #T_9a856_row0_col6, #T_9a856_row0_col7, #T_9a856_row1_col0, #T_9a856_row1_col1, #T_9a856_row1_col2, #T_9a856_row1_col4, #T_9a856_row1_col5, #T_9a856_row1_col6, #T_9a856_row1_col7, #T_9a856_row2_col0, #T_9a856_row2_col3, #T_9a856_row2_col4, #T_9a856_row3_col0, #T_9a856_row3_col1, #T_9a856_row3_col2, #T_9a856_row3_col3, #T_9a856_row3_col4, #T_9a856_row3_col5, #T_9a856_row3_col6, #T_9a856_row3_col7, #T_9a856_row4_col0, #T_9a856_row4_col1, #T_9a856_row4_col2, #T_9a856_row4_col3, #T_9a856_row4_col4, #T_9a856_row4_col5, #T_9a856_row4_col6, #T_9a856_row4_col7, #T_9a856_row5_col0, #T_9a856_row5_col1, #T_9a856_row5_col2, #T_9a856_row5_col3, #T_9a856_row5_col4, #T_9a856_row5_col5, #T_9a856_row5_col6, #T_9a856_row5_col7, #T_9a856_row6_col0, #T_9a856_row6_col2, #T_9a856_row6_col3, #T_9a856_row6_col4, #T_9a856_row6_col5, #T_9a856_row6_col6, #T_9a856_row6_col7, #T_9a856_row7_col0, #T_9a856_row7_col1, #T_9a856_row7_col2, #T_9a856_row7_col3, #T_9a856_row7_col4, #T_9a856_row7_col5, #T_9a856_row7_col6, #T_9a856_row7_col7, #T_9a856_row8_col0, #T_9a856_row8_col1, #T_9a856_row8_col2, #T_9a856_row8_col3, #T_9a856_row8_col4, #T_9a856_row8_col5, #T_9a856_row8_col6, #T_9a856_row8_col7, #T_9a856_row9_col0, #T_9a856_row9_col1, #T_9a856_row9_col3, #T_9a856_row9_col4, #T_9a856_row9_col5, #T_9a856_row9_col6, #T_9a856_row9_col7, #T_9a856_row10_col0, #T_9a856_row10_col1, #T_9a856_row10_col2, #T_9a856_row10_col3, #T_9a856_row10_col4, #T_9a856_row10_col5, #T_9a856_row10_col6, #T_9a856_row10_col7, #T_9a856_row11_col0, #T_9a856_row11_col3, #T_9a856_row11_col5, #T_9a856_row11_col6, #T_9a856_row11_col7, #T_9a856_row12_col0, #T_9a856_row12_col1, #T_9a856_row12_col2, #T_9a856_row12_col3, #T_9a856_row12_col4, #T_9a856_row12_col5, #T_9a856_row12_col6, #T_9a856_row12_col7, #T_9a856_row13_col0, #T_9a856_row13_col1, #T_9a856_row13_col2, #T_9a856_row13_col3, #T_9a856_row13_col4, #T_9a856_row13_col5, #T_9a856_row13_col6, #T_9a856_row13_col7 {\n",
       "  text-align: left;\n",
       "}\n",
       "#T_9a856_row0_col3, #T_9a856_row1_col3, #T_9a856_row2_col1, #T_9a856_row2_col2, #T_9a856_row2_col5, #T_9a856_row2_col6, #T_9a856_row2_col7, #T_9a856_row6_col1, #T_9a856_row9_col2, #T_9a856_row11_col1, #T_9a856_row11_col2, #T_9a856_row11_col4 {\n",
       "  text-align: left;\n",
       "  background-color: yellow;\n",
       "}\n",
       "#T_9a856_row0_col8, #T_9a856_row1_col8, #T_9a856_row2_col8, #T_9a856_row3_col8, #T_9a856_row4_col8, #T_9a856_row5_col8, #T_9a856_row6_col8, #T_9a856_row7_col8, #T_9a856_row8_col8, #T_9a856_row9_col8, #T_9a856_row10_col8, #T_9a856_row11_col8, #T_9a856_row12_col8 {\n",
       "  text-align: left;\n",
       "  background-color: lightgrey;\n",
       "}\n",
       "#T_9a856_row13_col8 {\n",
       "  text-align: left;\n",
       "  background-color: yellow;\n",
       "  background-color: lightgrey;\n",
       "}\n",
       "</style>\n",
       "<table id=\"T_9a856\">\n",
       "  <thead>\n",
       "    <tr>\n",
       "      <th class=\"blank level0\" >&nbsp;</th>\n",
       "      <th id=\"T_9a856_level0_col0\" class=\"col_heading level0 col0\" >Model</th>\n",
       "      <th id=\"T_9a856_level0_col1\" class=\"col_heading level0 col1\" >Accuracy</th>\n",
       "      <th id=\"T_9a856_level0_col2\" class=\"col_heading level0 col2\" >AUC</th>\n",
       "      <th id=\"T_9a856_level0_col3\" class=\"col_heading level0 col3\" >Recall</th>\n",
       "      <th id=\"T_9a856_level0_col4\" class=\"col_heading level0 col4\" >Prec.</th>\n",
       "      <th id=\"T_9a856_level0_col5\" class=\"col_heading level0 col5\" >F1</th>\n",
       "      <th id=\"T_9a856_level0_col6\" class=\"col_heading level0 col6\" >Kappa</th>\n",
       "      <th id=\"T_9a856_level0_col7\" class=\"col_heading level0 col7\" >MCC</th>\n",
       "      <th id=\"T_9a856_level0_col8\" class=\"col_heading level0 col8\" >TT (Sec)</th>\n",
       "    </tr>\n",
       "  </thead>\n",
       "  <tbody>\n",
       "    <tr>\n",
       "      <th id=\"T_9a856_level0_row0\" class=\"row_heading level0 row0\" >nb</th>\n",
       "      <td id=\"T_9a856_row0_col0\" class=\"data row0 col0\" >Naive Bayes</td>\n",
       "      <td id=\"T_9a856_row0_col1\" class=\"data row0 col1\" >0.9963</td>\n",
       "      <td id=\"T_9a856_row0_col2\" class=\"data row0 col2\" >0.9981</td>\n",
       "      <td id=\"T_9a856_row0_col3\" class=\"data row0 col3\" >1.0000</td>\n",
       "      <td id=\"T_9a856_row0_col4\" class=\"data row0 col4\" >0.4965</td>\n",
       "      <td id=\"T_9a856_row0_col5\" class=\"data row0 col5\" >0.6633</td>\n",
       "      <td id=\"T_9a856_row0_col6\" class=\"data row0 col6\" >0.6616</td>\n",
       "      <td id=\"T_9a856_row0_col7\" class=\"data row0 col7\" >0.7032</td>\n",
       "      <td id=\"T_9a856_row0_col8\" class=\"data row0 col8\" >0.0550</td>\n",
       "    </tr>\n",
       "    <tr>\n",
       "      <th id=\"T_9a856_level0_row1\" class=\"row_heading level0 row1\" >qda</th>\n",
       "      <td id=\"T_9a856_row1_col0\" class=\"data row1 col0\" >Quadratic Discriminant Analysis</td>\n",
       "      <td id=\"T_9a856_row1_col1\" class=\"data row1 col1\" >0.0036</td>\n",
       "      <td id=\"T_9a856_row1_col2\" class=\"data row1 col2\" >0.0000</td>\n",
       "      <td id=\"T_9a856_row1_col3\" class=\"data row1 col3\" >1.0000</td>\n",
       "      <td id=\"T_9a856_row1_col4\" class=\"data row1 col4\" >0.0036</td>\n",
       "      <td id=\"T_9a856_row1_col5\" class=\"data row1 col5\" >0.0072</td>\n",
       "      <td id=\"T_9a856_row1_col6\" class=\"data row1 col6\" >0.0000</td>\n",
       "      <td id=\"T_9a856_row1_col7\" class=\"data row1 col7\" >0.0000</td>\n",
       "      <td id=\"T_9a856_row1_col8\" class=\"data row1 col8\" >0.0870</td>\n",
       "    </tr>\n",
       "    <tr>\n",
       "      <th id=\"T_9a856_level0_row2\" class=\"row_heading level0 row2\" >lda</th>\n",
       "      <td id=\"T_9a856_row2_col0\" class=\"data row2 col0\" >Linear Discriminant Analysis</td>\n",
       "      <td id=\"T_9a856_row2_col1\" class=\"data row2 col1\" >0.9965</td>\n",
       "      <td id=\"T_9a856_row2_col2\" class=\"data row2 col2\" >0.9983</td>\n",
       "      <td id=\"T_9a856_row2_col3\" class=\"data row2 col3\" >0.9783</td>\n",
       "      <td id=\"T_9a856_row2_col4\" class=\"data row2 col4\" >0.5082</td>\n",
       "      <td id=\"T_9a856_row2_col5\" class=\"data row2 col5\" >0.6683</td>\n",
       "      <td id=\"T_9a856_row2_col6\" class=\"data row2 col6\" >0.6667</td>\n",
       "      <td id=\"T_9a856_row2_col7\" class=\"data row2 col7\" >0.7035</td>\n",
       "      <td id=\"T_9a856_row2_col8\" class=\"data row2 col8\" >0.0800</td>\n",
       "    </tr>\n",
       "    <tr>\n",
       "      <th id=\"T_9a856_level0_row3\" class=\"row_heading level0 row3\" >gbc</th>\n",
       "      <td id=\"T_9a856_row3_col0\" class=\"data row3 col0\" >Gradient Boosting Classifier</td>\n",
       "      <td id=\"T_9a856_row3_col1\" class=\"data row3 col1\" >0.9963</td>\n",
       "      <td id=\"T_9a856_row3_col2\" class=\"data row3 col2\" >0.8980</td>\n",
       "      <td id=\"T_9a856_row3_col3\" class=\"data row3 col3\" >0.7815</td>\n",
       "      <td id=\"T_9a856_row3_col4\" class=\"data row3 col4\" >0.4970</td>\n",
       "      <td id=\"T_9a856_row3_col5\" class=\"data row3 col5\" >0.6007</td>\n",
       "      <td id=\"T_9a856_row3_col6\" class=\"data row3 col6\" >0.5990</td>\n",
       "      <td id=\"T_9a856_row3_col7\" class=\"data row3 col7\" >0.6179</td>\n",
       "      <td id=\"T_9a856_row3_col8\" class=\"data row3 col8\" >8.1250</td>\n",
       "    </tr>\n",
       "    <tr>\n",
       "      <th id=\"T_9a856_level0_row4\" class=\"row_heading level0 row4\" >lightgbm</th>\n",
       "      <td id=\"T_9a856_row4_col0\" class=\"data row4 col0\" >Light Gradient Boosting Machine</td>\n",
       "      <td id=\"T_9a856_row4_col1\" class=\"data row4 col1\" >0.9607</td>\n",
       "      <td id=\"T_9a856_row4_col2\" class=\"data row4 col2\" >0.8558</td>\n",
       "      <td id=\"T_9a856_row4_col3\" class=\"data row4 col3\" >0.5093</td>\n",
       "      <td id=\"T_9a856_row4_col4\" class=\"data row4 col4\" >0.3635</td>\n",
       "      <td id=\"T_9a856_row4_col5\" class=\"data row4 col5\" >0.3811</td>\n",
       "      <td id=\"T_9a856_row4_col6\" class=\"data row4 col6\" >0.3780</td>\n",
       "      <td id=\"T_9a856_row4_col7\" class=\"data row4 col7\" >0.3909</td>\n",
       "      <td id=\"T_9a856_row4_col8\" class=\"data row4 col8\" >0.4570</td>\n",
       "    </tr>\n",
       "    <tr>\n",
       "      <th id=\"T_9a856_level0_row5\" class=\"row_heading level0 row5\" >knn</th>\n",
       "      <td id=\"T_9a856_row5_col0\" class=\"data row5 col0\" >K Neighbors Classifier</td>\n",
       "      <td id=\"T_9a856_row5_col1\" class=\"data row5 col1\" >0.9962</td>\n",
       "      <td id=\"T_9a856_row5_col2\" class=\"data row5 col2\" >0.9892</td>\n",
       "      <td id=\"T_9a856_row5_col3\" class=\"data row5 col3\" >0.5017</td>\n",
       "      <td id=\"T_9a856_row5_col4\" class=\"data row5 col4\" >0.4817</td>\n",
       "      <td id=\"T_9a856_row5_col5\" class=\"data row5 col5\" >0.4878</td>\n",
       "      <td id=\"T_9a856_row5_col6\" class=\"data row5 col6\" >0.4860</td>\n",
       "      <td id=\"T_9a856_row5_col7\" class=\"data row5 col7\" >0.4879</td>\n",
       "      <td id=\"T_9a856_row5_col8\" class=\"data row5 col8\" >0.3740</td>\n",
       "    </tr>\n",
       "    <tr>\n",
       "      <th id=\"T_9a856_level0_row6\" class=\"row_heading level0 row6\" >ada</th>\n",
       "      <td id=\"T_9a856_row6_col0\" class=\"data row6 col0\" >Ada Boost Classifier</td>\n",
       "      <td id=\"T_9a856_row6_col1\" class=\"data row6 col1\" >0.9965</td>\n",
       "      <td id=\"T_9a856_row6_col2\" class=\"data row6 col2\" >0.9917</td>\n",
       "      <td id=\"T_9a856_row6_col3\" class=\"data row6 col3\" >0.4980</td>\n",
       "      <td id=\"T_9a856_row6_col4\" class=\"data row6 col4\" >0.5079</td>\n",
       "      <td id=\"T_9a856_row6_col5\" class=\"data row6 col5\" >0.4999</td>\n",
       "      <td id=\"T_9a856_row6_col6\" class=\"data row6 col6\" >0.4981</td>\n",
       "      <td id=\"T_9a856_row6_col7\" class=\"data row6 col7\" >0.4997</td>\n",
       "      <td id=\"T_9a856_row6_col8\" class=\"data row6 col8\" >2.3160</td>\n",
       "    </tr>\n",
       "    <tr>\n",
       "      <th id=\"T_9a856_level0_row7\" class=\"row_heading level0 row7\" >dt</th>\n",
       "      <td id=\"T_9a856_row7_col0\" class=\"data row7 col0\" >Decision Tree Classifier</td>\n",
       "      <td id=\"T_9a856_row7_col1\" class=\"data row7 col1\" >0.9962</td>\n",
       "      <td id=\"T_9a856_row7_col2\" class=\"data row7 col2\" >0.7428</td>\n",
       "      <td id=\"T_9a856_row7_col3\" class=\"data row7 col3\" >0.4874</td>\n",
       "      <td id=\"T_9a856_row7_col4\" class=\"data row7 col4\" >0.4807</td>\n",
       "      <td id=\"T_9a856_row7_col5\" class=\"data row7 col5\" >0.4830</td>\n",
       "      <td id=\"T_9a856_row7_col6\" class=\"data row7 col6\" >0.4811</td>\n",
       "      <td id=\"T_9a856_row7_col7\" class=\"data row7 col7\" >0.4817</td>\n",
       "      <td id=\"T_9a856_row7_col8\" class=\"data row7 col8\" >0.1500</td>\n",
       "    </tr>\n",
       "    <tr>\n",
       "      <th id=\"T_9a856_level0_row8\" class=\"row_heading level0 row8\" >rf</th>\n",
       "      <td id=\"T_9a856_row8_col0\" class=\"data row8 col0\" >Random Forest Classifier</td>\n",
       "      <td id=\"T_9a856_row8_col1\" class=\"data row8 col1\" >0.9962</td>\n",
       "      <td id=\"T_9a856_row8_col2\" class=\"data row8 col2\" >0.9980</td>\n",
       "      <td id=\"T_9a856_row8_col3\" class=\"data row8 col3\" >0.4766</td>\n",
       "      <td id=\"T_9a856_row8_col4\" class=\"data row8 col4\" >0.4727</td>\n",
       "      <td id=\"T_9a856_row8_col5\" class=\"data row8 col5\" >0.4696</td>\n",
       "      <td id=\"T_9a856_row8_col6\" class=\"data row8 col6\" >0.4677</td>\n",
       "      <td id=\"T_9a856_row8_col7\" class=\"data row8 col7\" >0.4702</td>\n",
       "      <td id=\"T_9a856_row8_col8\" class=\"data row8 col8\" >1.3770</td>\n",
       "    </tr>\n",
       "    <tr>\n",
       "      <th id=\"T_9a856_level0_row9\" class=\"row_heading level0 row9\" >lr</th>\n",
       "      <td id=\"T_9a856_row9_col0\" class=\"data row9 col0\" >Logistic Regression</td>\n",
       "      <td id=\"T_9a856_row9_col1\" class=\"data row9 col1\" >0.9963</td>\n",
       "      <td id=\"T_9a856_row9_col2\" class=\"data row9 col2\" >0.9983</td>\n",
       "      <td id=\"T_9a856_row9_col3\" class=\"data row9 col3\" >0.4730</td>\n",
       "      <td id=\"T_9a856_row9_col4\" class=\"data row9 col4\" >0.4903</td>\n",
       "      <td id=\"T_9a856_row9_col5\" class=\"data row9 col5\" >0.4787</td>\n",
       "      <td id=\"T_9a856_row9_col6\" class=\"data row9 col6\" >0.4769</td>\n",
       "      <td id=\"T_9a856_row9_col7\" class=\"data row9 col7\" >0.4783</td>\n",
       "      <td id=\"T_9a856_row9_col8\" class=\"data row9 col8\" >2.7370</td>\n",
       "    </tr>\n",
       "    <tr>\n",
       "      <th id=\"T_9a856_level0_row10\" class=\"row_heading level0 row10\" >et</th>\n",
       "      <td id=\"T_9a856_row10_col0\" class=\"data row10 col0\" >Extra Trees Classifier</td>\n",
       "      <td id=\"T_9a856_row10_col1\" class=\"data row10 col1\" >0.9961</td>\n",
       "      <td id=\"T_9a856_row10_col2\" class=\"data row10 col2\" >0.9979</td>\n",
       "      <td id=\"T_9a856_row10_col3\" class=\"data row10 col3\" >0.4478</td>\n",
       "      <td id=\"T_9a856_row10_col4\" class=\"data row10 col4\" >0.4535</td>\n",
       "      <td id=\"T_9a856_row10_col5\" class=\"data row10 col5\" >0.4472</td>\n",
       "      <td id=\"T_9a856_row10_col6\" class=\"data row10 col6\" >0.4452</td>\n",
       "      <td id=\"T_9a856_row10_col7\" class=\"data row10 col7\" >0.4469</td>\n",
       "      <td id=\"T_9a856_row10_col8\" class=\"data row10 col8\" >0.4920</td>\n",
       "    </tr>\n",
       "    <tr>\n",
       "      <th id=\"T_9a856_level0_row11\" class=\"row_heading level0 row11\" >ridge</th>\n",
       "      <td id=\"T_9a856_row11_col0\" class=\"data row11 col0\" >Ridge Classifier</td>\n",
       "      <td id=\"T_9a856_row11_col1\" class=\"data row11 col1\" >0.9965</td>\n",
       "      <td id=\"T_9a856_row11_col2\" class=\"data row11 col2\" >0.9983</td>\n",
       "      <td id=\"T_9a856_row11_col3\" class=\"data row11 col3\" >0.2298</td>\n",
       "      <td id=\"T_9a856_row11_col4\" class=\"data row11 col4\" >0.5176</td>\n",
       "      <td id=\"T_9a856_row11_col5\" class=\"data row11 col5\" >0.3107</td>\n",
       "      <td id=\"T_9a856_row11_col6\" class=\"data row11 col6\" >0.3093</td>\n",
       "      <td id=\"T_9a856_row11_col7\" class=\"data row11 col7\" >0.3383</td>\n",
       "      <td id=\"T_9a856_row11_col8\" class=\"data row11 col8\" >0.0730</td>\n",
       "    </tr>\n",
       "    <tr>\n",
       "      <th id=\"T_9a856_level0_row12\" class=\"row_heading level0 row12\" >svm</th>\n",
       "      <td id=\"T_9a856_row12_col0\" class=\"data row12 col0\" >SVM - Linear Kernel</td>\n",
       "      <td id=\"T_9a856_row12_col1\" class=\"data row12 col1\" >0.9963</td>\n",
       "      <td id=\"T_9a856_row12_col2\" class=\"data row12 col2\" >0.9981</td>\n",
       "      <td id=\"T_9a856_row12_col3\" class=\"data row12 col3\" >0.2107</td>\n",
       "      <td id=\"T_9a856_row12_col4\" class=\"data row12 col4\" >0.2214</td>\n",
       "      <td id=\"T_9a856_row12_col5\" class=\"data row12 col5\" >0.1503</td>\n",
       "      <td id=\"T_9a856_row12_col6\" class=\"data row12 col6\" >0.1498</td>\n",
       "      <td id=\"T_9a856_row12_col7\" class=\"data row12 col7\" >0.1719</td>\n",
       "      <td id=\"T_9a856_row12_col8\" class=\"data row12 col8\" >0.2490</td>\n",
       "    </tr>\n",
       "    <tr>\n",
       "      <th id=\"T_9a856_level0_row13\" class=\"row_heading level0 row13\" >dummy</th>\n",
       "      <td id=\"T_9a856_row13_col0\" class=\"data row13 col0\" >Dummy Classifier</td>\n",
       "      <td id=\"T_9a856_row13_col1\" class=\"data row13 col1\" >0.9964</td>\n",
       "      <td id=\"T_9a856_row13_col2\" class=\"data row13 col2\" >0.5000</td>\n",
       "      <td id=\"T_9a856_row13_col3\" class=\"data row13 col3\" >0.0000</td>\n",
       "      <td id=\"T_9a856_row13_col4\" class=\"data row13 col4\" >0.0000</td>\n",
       "      <td id=\"T_9a856_row13_col5\" class=\"data row13 col5\" >0.0000</td>\n",
       "      <td id=\"T_9a856_row13_col6\" class=\"data row13 col6\" >0.0000</td>\n",
       "      <td id=\"T_9a856_row13_col7\" class=\"data row13 col7\" >0.0000</td>\n",
       "      <td id=\"T_9a856_row13_col8\" class=\"data row13 col8\" >0.0480</td>\n",
       "    </tr>\n",
       "  </tbody>\n",
       "</table>\n"
      ],
      "text/plain": [
       "<pandas.io.formats.style.Styler at 0x24c983ef710>"
      ]
     },
     "metadata": {},
     "output_type": "display_data"
    },
    {
     "data": {
      "text/html": [],
      "text/plain": [
       "<IPython.core.display.HTML object>"
      ]
     },
     "metadata": {},
     "output_type": "display_data"
    },
    {
     "data": {
      "text/html": [],
      "text/plain": [
       "<IPython.core.display.HTML object>"
      ]
     },
     "metadata": {},
     "output_type": "display_data"
    },
    {
     "data": {
      "image/png": "[encoded data removed]",
      "text/plain": [
       "<Figure size 800x550 with 1 Axes>"
      ]
     },
     "metadata": {},
     "output_type": "display_data"
    }
   ],
   "source": [
    "from pycaret.classification import setup, compare_models, plot_model\n",
    "\n",
    "clf = setup(data=training_data, target=\"failure\")\n",
    "\n",
    "best_model = compare_models(sort=\"Recall\")  # Sort models by recall\n",
    "plot_model(best_model, plot=\"confusion_matrix\")"
   ]
  },
  {
   "cell_type": "code",
   "execution_count": null,
   "id": "22f4060a",
   "metadata": {},
   "outputs": [
    {
     "data": {
      "text/plain": [
       "['best_model.joblib']"
      ]
     },
     "execution_count": 12,
     "metadata": {},
     "output_type": "execute_result"
    }
   ],
   "source": [
    "# save the model\n",
    "# import joblib\n",
    "# joblib.dump(best_model, 'best_model.joblib')"
   ]
  },
  {
   "cell_type": "markdown",
   "id": "628552bc",
   "metadata": {},
   "source": [
    "# Forecasting future measurements using BigQuery ML"
   ]
  },
  {
   "cell_type": "code",
   "execution_count": null,
   "id": "9b79cd99",
   "metadata": {},
   "outputs": [
    {
     "data": {
      "text/plain": [
       "['speed', 'brake', 'temp', 'vibration', 'battery']"
      ]
     },
     "execution_count": 40,
     "metadata": {},
     "output_type": "execute_result"
    }
   ],
   "source": [
    "cols_names = training_data.columns.tolist().remove(\"failure\")\n",
    "cols_names"
   ]
  },
  {
   "cell_type": "code",
   "execution_count": null,
   "id": "913e4a53",
   "metadata": {},
   "outputs": [],
   "source": [
    "def forcast_single_column(bigquery_dataset: str, col_name: str, project_id: str) -> pd.DataFrame:\n",
    "    \"\"\"\n",
    "    Forcasts a single column in {bigquery_dataset}.measurements using BigQuery ML's AI.FORECAST function.\n",
    "    Returns a DataFrame with columns: id, timestamp, <col_name>\n",
    "    \"\"\"\n",
    "    sql = f\"\"\"\n",
    "        SELECT *\n",
    "        FROM AI.FORECAST(\n",
    "            TABLE `{bigquery_dataset}.measurements`,\n",
    "            data_col => '{col_name}',\n",
    "            timestamp_col => 'timestamp',\n",
    "            model => 'TimesFM 2.0',\n",
    "            id_cols => ['id'],\n",
    "            horizon => 30,\n",
    "            confidence_level => .75\n",
    "        )\n",
    "    \"\"\"\n",
    "    forecast = pd.read_gbq(sql, project_id=project_id, dialect=\"standard\")\n",
    "    forecast[col_name] = forecast[\"forecast_value\"]\n",
    "    forecast[\"timestamp\"] = forecast[\"forecast_timestamp\"]\n",
    "    forecast = forecast[[\"id\", \"timestamp\", col_name]]\n",
    "    return forecast\n",
    "\n",
    "all_forecasts = []\n",
    "for col_name in cols_names:\n",
    "    all_forecasts.append(forcast_single_column(bigquery_dataset, col_name, project_id))"
   ]
  },
  {
   "cell_type": "code",
   "execution_count": 52,
   "id": "a7c65351",
   "metadata": {},
   "outputs": [],
   "source": [
    "# merge all forecasts on id and forecast_timestamp\n",
    "forecast = all_forecasts[0]\n",
    "for f in all_forecasts[1:]:\n",
    "    forecast = forecast.merge(f, on=[\"id\", \"timestamp\"])"
   ]
  },
  {
   "cell_type": "code",
   "execution_count": null,
   "id": "c3ab5448",
   "metadata": {},
   "outputs": [
    {
     "name": "stderr",
     "output_type": "stream",
     "text": [
      "100%|██████████| 1/1 [00:00<?, ?it/s]\n"
     ]
    }
   ],
   "source": [
    "forecast.to_gbq(\n",
    "    destination_table=f\"{bigquery_dataset}.forecast_{TODAY_str}\",\n",
    "    project_id=project_id,\n",
    "    if_exists=\"replace\"\n",
    ")"
   ]
  },
  {
   "cell_type": "code",
   "execution_count": 55,
   "id": "91145753",
   "metadata": {},
   "outputs": [],
   "source": [
    "# read forecast table\n",
    "# forecasted_data = pd.read_gbq(\n",
    "#     \"SELECT * FROM `neuraltwin.wagon_data.forecast`\",\n",
    "#     project_id=\"neuraltwin\",\n",
    "#     dialect=\"standard\"\n",
    "# )"
   ]
  },
  {
   "cell_type": "code",
   "execution_count": 56,
   "id": "cf5e6d35",
   "metadata": {},
   "outputs": [],
   "source": [
    "forecasted_failures = best_model.predict(forecast.drop(columns=[\"id\", \"timestamp\"]))"
   ]
  },
  {
   "cell_type": "code",
   "execution_count": 58,
   "id": "b2a68065",
   "metadata": {},
   "outputs": [
    {
     "data": {
      "text/plain": [
       "0.0"
      ]
     },
     "execution_count": 58,
     "metadata": {},
     "output_type": "execute_result"
    }
   ],
   "source": [
    "n_forecased_failures = forecasted_failures.sum()\n",
    "n_forecased_failures"
   ]
  },
  {
   "cell_type": "markdown",
   "id": "745fc8af",
   "metadata": {},
   "source": [
    "# Generate reports"
   ]
  },
  {
   "cell_type": "code",
   "execution_count": null,
   "id": "cca99cf7",
   "metadata": {},
   "outputs": [],
   "source": [
    "metadata = pd.read_gbq(\n",
    "    f\"SELECT * FROM `{bigquery_dataset}.metadata`\",\n",
    "    project_id=project_id,\n",
    "    dialect=\"standard\"\n",
    ")"
   ]
  },
  {
   "cell_type": "code",
   "execution_count": null,
   "id": "f2d3376d",
   "metadata": {},
   "outputs": [],
   "source": [
    "recent_failures = pd.read_gbq(\n",
    "    \"SELECT * \" \\\n",
    "    f\"FROM `{bigquery_dataset}.failures` \" \\\n",
    "    f\"WHERE timestamp >= TIMESTAMP_SUB(TIMESTAMP('{TODAY}'), INTERVAL 30 DAY)\",\n",
    "    project_id=project_id,\n",
    "    dialect=\"standard\"\n",
    ")"
   ]
  },
  {
   "cell_type": "code",
   "execution_count": null,
   "id": "b02e735b",
   "metadata": {},
   "outputs": [],
   "source": [
    "recent_measurements = pd.read_gbq(\n",
    "    \"SELECT * \" \\\n",
    "    f\"FROM `{bigquery_dataset}.measurements` \" \\\n",
    "    f\"WHERE timestamp >= TIMESTAMP_SUB(TIMESTAMP('{TODAY}'), INTERVAL 30 DAY)\",\n",
    "    project_id=project_id,\n",
    "    dialect=\"standard\"\n",
    ")"
   ]
  },
  {
   "cell_type": "code",
   "execution_count": 94,
   "id": "3450de6d",
   "metadata": {},
   "outputs": [],
   "source": [
    "pdf_report_receiver = \"Operator\""
   ]
  },
  {
   "cell_type": "code",
   "execution_count": 95,
   "id": "3186dc63",
   "metadata": {},
   "outputs": [],
   "source": [
    "enriched_recent_failures = recent_failures.merge(metadata, on=\"id\", how=\"left\")\n",
    "enriched_recent_failures\n",
    "\n",
    "def generate_failure_json_summary_for_report(df: pd.DataFrame) -> dict:\n",
    "    summary = {\n",
    "        \"n_recent_failures\": len(df),\n",
    "        \"n_percentage_failed\": (len(df) / df[\"id\"].nunique()) * 100 if df[\"id\"].nunique() > 0 else 0,\n",
    "        \"n_failures_by_type\": df[\"failure_type\"].value_counts().to_dict() if \"failure_type\" in df.columns else {},\n",
    "        \"failure_ids\": df[\"id\"].tolist(),\n",
    "        \"failure_details\": df.to_dict(orient=\"records\")\n",
    "    }\n",
    "    return summary\n",
    "\n",
    "failure_details_for_report = (\n",
    "    enriched_recent_failures\n",
    "    .groupby(pdf_report_receiver)\n",
    "    .apply(generate_failure_json_summary_for_report)\n",
    ")"
   ]
  },
  {
   "cell_type": "code",
   "execution_count": 96,
   "id": "1d155bd5",
   "metadata": {},
   "outputs": [
    {
     "data": {
      "application/vnd.microsoft.datawrangler.viewer.v0+json": {
       "columns": [
        {
         "name": "Operator",
         "rawType": "object",
         "type": "string"
        },
        {
         "name": "0",
         "rawType": "object",
         "type": "unknown"
        }
       ],
       "ref": "574bcabd-6724-44af-9425-38d477fcd069",
       "rows": [
        [
         "Brennan-Peterson",
         "{'speed': {'count': 372.0, 'mean': 40.76988876492697, 'std': 10.075364507283293, 'min': 0.0, '25%': 34.012368825539795, '50%': 39.97107825031186, '75%': 50.36205526770347, 'max': 56.73102655400077}, 'brake': {'count': 372.0, 'mean': 7.291122575878128, 'std': 1.7698575597663788, 'min': 5.209640797790172, '25%': 5.740613897912497, '50%': 7.118825227508356, '75%': 8.517232936152688, 'max': 10.868996234244095}, 'temp': {'count': 372.0, 'mean': 47.14605376509982, 'std': 4.58987714002921, 'min': 39.38057907028569, '25%': 43.627456151151435, '50%': 46.99970703930378, '75%': 49.416610490515644, 'max': 79.50175247748302}, 'vibration': {'count': 372.0, 'mean': 6.7762249896998075, 'std': 2.4143197386492563, 'min': 2.8572883015853447, '25%': 4.3783400233316865, '50%': 7.087905945304653, '75%': 8.50067265303591, 'max': 11.491250677187546}, 'battery': {'count': 372.0, 'mean': 67.34782862228222, 'std': 24.216397120975202, 'min': 11.191706356055008, '25%': 52.76047100742926, '50%': 74.69642058174367, '75%': 86.84825122230558, 'max': 98.77962843713145}, 'Height_m': {'count': 372.0, 'mean': 3.02, 'std': 0.7290946274258506, 'min': 2.06, '25%': 2.4699999999999998, '50%': 2.7800000000000002, '75%': 3.5199999999999996, 'max': 4.33}, 'Length_m': {'count': 372.0, 'mean': 16.900000000000002, 'std': 4.936610959231367, 'min': 8.16, '25%': 14.05, '50%': 16.655, '75%': 20.03, 'max': 24.81}, 'Width_m': {'count': 372.0, 'mean': 2.954166666666666, 'std': 0.3031854318888255, 'min': 2.54, '25%': 2.6950000000000003, '50%': 2.89, '75%': 3.25, 'max': 3.46}, 'Capacity_tons': {'count': 372.0, 'mean': 71.41666666666667, 'std': 33.23721879741507, 'min': 26.0, '25%': 40.5, '50%': 67.0, '75%': 106.0, 'max': 118.0}}"
        ],
        [
         "Charles and Sons",
         "{'speed': {'count': 372.0, 'mean': 41.011912793489664, 'std': 8.161183506892678, 'min': 0.0, '25%': 37.75651873393747, '50%': 42.59772185074324, '75%': 46.45729351883452, 'max': 60.530157996453454}, 'brake': {'count': 372.0, 'mean': 8.372024867424015, 'std': 1.3818959012647383, 'min': 5.765353062842441, '25%': 6.994336217850715, '50%': 8.655244943778886, '75%': 9.334421994286531, 'max': 10.489945107451348}, 'temp': {'count': 372.0, 'mean': 46.206256165318514, 'std': 6.510325497412189, 'min': 39.55516283851402, '25%': 41.74912393957488, '50%': 43.78076199743899, '75%': 51.836949518359845, 'max': 86.91367222337608}, 'vibration': {'count': 372.0, 'mean': 6.679446363496393, 'std': 1.7694858477190047, 'min': 1.6545831039066456, '25%': 5.438154986632186, '50%': 6.466810700691658, '75%': 7.545781996307509, 'max': 11.734446845018267}, 'battery': {'count': 372.0, 'mean': 62.26330471911752, 'std': 19.341847153121773, 'min': 27.8002326625765, '25%': 50.91340006027384, '50%': 61.356335563028395, '75%': 69.44085178683395, 'max': 100.79810512607938}, 'Height_m': {'count': 372.0, 'mean': 3.266666666666666, 'std': 0.8112076562972148, 'min': 2.08, '25%': 2.62, '50%': 3.035, '75%': 4.06, 'max': 4.46}, 'Length_m': {'count': 372.0, 'mean': 16.900833333333335, 'std': 4.242011754364774, 'min': 10.5, '25%': 13.307500000000001, '50%': 16.91, '75%': 18.98, 'max': 24.11}, 'Width_m': {'count': 372.0, 'mean': 2.976666666666667, 'std': 0.3098337379840544, 'min': 2.53, '25%': 2.7224999999999997, '50%': 3.005, '75%': 3.2675, 'max': 3.4}, 'Capacity_tons': {'count': 372.0, 'mean': 61.333333333333336, 'std': 26.50365720919876, 'min': 27.0, '25%': 37.5, '50%': 64.0, '75%': 78.5, 'max': 113.0}}"
        ],
        [
         "Harris-Jenkins",
         "{'speed': {'count': 403.0, 'mean': 39.785151370287004, 'std': 11.990008557466362, 'min': 0.0, '25%': 27.41133092414779, '50%': 40.942825563154166, '75%': 49.285365750414826, 'max': 60.51320219370603}, 'brake': {'count': 403.0, 'mean': 7.524625189099728, 'std': 1.6367842551906748, 'min': 4.793185643176739, '25%': 6.306470289284533, '50%': 7.08059946917484, '75%': 9.227297813548805, 'max': 10.239023090397875}, 'temp': {'count': 403.0, 'mean': 47.70551912274819, 'std': 5.46674704888813, 'min': 39.1141365864401, '25%': 43.248243282067335, '50%': 48.32770072554482, '75%': 50.92138471609327, 'max': 86.1278650038919}, 'vibration': {'count': 403.0, 'mean': 7.007485307540327, 'std': 2.93121556670343, 'min': 1.7943800211150516, '25%': 4.706583348573021, '50%': 6.752546798146512, '75%': 10.139459905784722, 'max': 12.155227975059796}, 'battery': {'count': 403.0, 'mean': 67.51356274203447, 'std': 22.30983592927157, 'min': 13.536955441398883, '25%': 62.34526060827734, '50%': 67.35141461709978, '75%': 84.95256844037915, 'max': 99.09740291491383}, 'Height_m': {'count': 403.0, 'mean': 3.406923076923077, 'std': 0.7507872892967844, 'min': 2.02, '25%': 2.97, '50%': 3.26, '75%': 4.17, 'max': 4.34}, 'Length_m': {'count': 403.0, 'mean': 16.753846153846155, 'std': 5.042517173883427, 'min': 8.2, '25%': 13.34, '50%': 17.22, '75%': 20.96, 'max': 24.74}, 'Width_m': {'count': 403.0, 'mean': 3.0738461538461546, 'std': 0.29253115011041403, 'min': 2.5, '25%': 3.01, '50%': 3.18, '75%': 3.27, 'max': 3.44}, 'Capacity_tons': {'count': 403.0, 'mean': 65.53846153846153, 'std': 29.29546489303234, 'min': 21.0, '25%': 55.0, '50%': 62.0, '75%': 95.0, 'max': 114.0}}"
        ],
        [
         "Hendricks and Sons",
         "{'speed': {'count': 248.0, 'mean': 45.71942146477024, 'std': 8.167020069296774, 'min': 0.0, '25%': 38.26634393605424, '50%': 47.83941981245556, '75%': 51.91458059294224, 'max': 54.526198244570445}, 'brake': {'count': 248.0, 'mean': 8.012535370038092, 'std': 1.5486127935739582, 'min': 5.532765614782586, '25%': 6.64885495510483, '50%': 7.998730158676263, '75%': 9.00824464886665, 'max': 10.591153195704504}, 'temp': {'count': 248.0, 'mean': 47.23419822744001, 'std': 5.841553892271761, 'min': 39.05817299250932, '25%': 42.285966708686445, '50%': 45.0878880257135, '75%': 52.184640515767725, 'max': 78.85143868479567}, 'vibration': {'count': 248.0, 'mean': 5.51954635894316, 'std': 1.8601295710794876, 'min': 3.2596943193744443, '25%': 3.8840222865934173, '50%': 5.056134254985501, '75%': 7.334856080940937, 'max': 13.395687627823133}, 'battery': {'count': 248.0, 'mean': 61.383957915523986, 'std': 25.1866640307636, 'min': 12.534350566665397, '25%': 42.29798557710144, '50%': 69.51676655461719, '75%': 76.5291845939192, 'max': 99.25728557525859}, 'Height_m': {'count': 248.0, 'mean': 2.95625, 'std': 0.7556792062462989, 'min': 2.01, '25%': 2.5425, '50%': 2.745, '75%': 3.2225, 'max': 4.39}, 'Length_m': {'count': 248.0, 'mean': 15.6175, 'std': 4.786286859647467, 'min': 9.44, '25%': 11.245000000000001, '50%': 15.68, '75%': 18.9975, 'max': 22.95}, 'Width_m': {'count': 248.0, 'mean': 3.0212499999999998, 'std': 0.2831682558720226, 'min': 2.55, '25%': 2.8775, '50%': 2.9400000000000004, '75%': 3.3, 'max': 3.41}, 'Capacity_tons': {'count': 248.0, 'mean': 81.125, 'std': 29.446659729598693, 'min': 29.0, '25%': 64.5, '50%': 91.5, '75%': 103.25, 'max': 116.0}}"
        ],
        [
         "Martin, Rogers and Mitchell",
         "{'speed': {'count': 279.0, 'mean': 48.59862402932292, 'std': 6.825078984496925, 'min': 34.41953710708957, '25%': 44.59664564280175, '50%': 49.69683597523199, '75%': 52.591395518167545, 'max': 60.70645143349686}, 'brake': {'count': 279.0, 'mean': 7.465928121413513, 'std': 1.3137390352490959, 'min': 4.915917058346104, '25%': 6.892848537594361, '50%': 7.471749840628172, '75%': 8.213335298146683, 'max': 10.143260405040703}, 'temp': {'count': 279.0, 'mean': 49.9568902967245, 'std': 5.2782350213971965, 'min': 39.81401772611834, '25%': 48.71156584363343, '50%': 51.39990585611531, '75%': 54.21005534618765, 'max': 56.821994616295235}, 'vibration': {'count': 279.0, 'mean': 4.847900196177021, 'std': 1.712346993419659, 'min': 1.8469178763670908, '25%': 3.8473197812155324, '50%': 4.52530546631078, '75%': 5.898301747469688, 'max': 8.671651607928004}, 'battery': {'count': 279.0, 'mean': 69.4840685206214, 'std': 27.69148182262342, 'min': 4.847089727569907, '25%': 54.696154409666065, '50%': 77.40198156189601, '75%': 91.23051773918945, 'max': 96.06442037441589}, 'Height_m': {'count': 279.0, 'mean': 3.207777777777778, 'std': 0.5969973495181822, 'min': 2.12, '25%': 2.91, '50%': 3.25, '75%': 3.66, 'max': 4.02}, 'Length_m': {'count': 279.0, 'mean': 16.536666666666665, 'std': 5.327747509518432, 'min': 8.42, '25%': 14.21, '50%': 15.45, '75%': 22.08, 'max': 24.02}, 'Width_m': {'count': 279.0, 'mean': 3.0833333333333335, 'std': 0.19072183971397952, 'min': 2.81, '25%': 2.93, '50%': 3.05, '75%': 3.23, 'max': 3.45}, 'Capacity_tons': {'count': 279.0, 'mean': 62.0, 'std': 30.15392168202596, 'min': 22.0, '25%': 44.0, '50%': 66.0, '75%': 74.0, 'max': 117.0}}"
        ],
        [
         "Rodriguez and Sons",
         "{'speed': {'count': 434.0, 'mean': 45.455624034621415, 'std': 11.292558859768935, 'min': 0.0, '25%': 36.384600023733995, '50%': 46.7401331424944, '75%': 56.53088414758736, 'max': 59.66073411418119}, 'brake': {'count': 434.0, 'mean': 7.270420066258451, 'std': 1.8827810183606999, 'min': 4.840583188976456, '25%': 6.062536654334684, '50%': 6.483955757653961, '75%': 8.316250172356979, 'max': 14.681099107339193}, 'temp': {'count': 434.0, 'mean': 49.73480890798067, 'std': 5.812690778054396, 'min': 41.2313026185544, '25%': 43.82985935087753, '50%': 49.34983574994961, '75%': 53.935762544928785, 'max': 84.93271930617679}, 'vibration': {'count': 434.0, 'mean': 5.6025825780977225, 'std': 2.7365672860872445, 'min': 1.8963381112789832, '25%': 2.8883580137982445, '50%': 5.2477012069760764, '75%': 7.885757191745476, 'max': 11.860081777026245}, 'battery': {'count': 434.0, 'mean': 65.28126764292998, 'std': 21.666904739959715, 'min': 24.121008345662553, '25%': 44.51125140461028, '50%': 71.69256776057212, '75%': 84.99891690609886, 'max': 94.6691335677019}, 'Height_m': {'count': 434.0, 'mean': 3.352142857142857, 'std': 0.5394722147968107, 'min': 2.47, '25%': 2.94, '50%': 3.395, '75%': 3.84, 'max': 4.08}, 'Length_m': {'count': 434.0, 'mean': 14.799285714285718, 'std': 5.553953147310537, 'min': 8.05, '25%': 10.71, '50%': 13.355, '75%': 17.99, 'max': 24.81}, 'Width_m': {'count': 434.0, 'mean': 2.9492857142857147, 'std': 0.3601663670350871, 'min': 2.5, '25%': 2.59, '50%': 2.78, '75%': 3.32, 'max': 3.45}, 'Capacity_tons': {'count': 434.0, 'mean': 75.85714285714286, 'std': 25.847444732665206, 'min': 37.0, '25%': 47.0, '50%': 78.0, '75%': 100.0, 'max': 115.0}}"
        ],
        [
         "Thomas Group",
         "{'speed': {'count': 217.0, 'mean': 43.41347044987767, 'std': 11.9611281904219, 'min': 18.33553564095418, '25%': 35.971471412909594, '50%': 45.89298541306748, '75%': 52.407393928027155, 'max': 59.415415982039846}, 'brake': {'count': 217.0, 'mean': 8.062914211574018, 'std': 1.262245925098994, 'min': 5.581690872546638, '25%': 6.932072507473942, '50%': 8.414078347276703, '75%': 8.790448602427674, 'max': 10.221380299807144}, 'temp': {'count': 217.0, 'mean': 47.04030577495117, 'std': 6.566457559948713, 'min': 39.80496889822762, '25%': 41.91218908218667, '50%': 43.62992563282292, '75%': 55.554509537629485, 'max': 59.26112524741004}, 'vibration': {'count': 217.0, 'mean': 6.171642376564242, 'std': 2.999492574365489, 'min': 2.2069203917485383, '25%': 3.9323561104864577, '50%': 5.544125940179721, '75%': 7.977780685325128, 'max': 12.665858246693352}, 'battery': {'count': 217.0, 'mean': 60.39092897713215, 'std': 27.83486943433378, 'min': -2.5461737548225214, '25%': 59.55113233997859, '50%': 63.14576909617921, '75%': 72.01417064625916, 'max': 98.75636936316064}, 'Height_m': {'count': 217.0, 'mean': 3.238571428571429, 'std': 0.7671159828975872, 'min': 2.02, '25%': 2.67, '50%': 3.19, '75%': 4.04, 'max': 4.49}, 'Length_m': {'count': 217.0, 'mean': 15.455714285714285, 'std': 5.4151176051170555, 'min': 9.07, '25%': 9.57, '50%': 13.1, '75%': 22.54, 'max': 22.76}, 'Width_m': {'count': 217.0, 'mean': 3.2600000000000002, 'std': 0.12947186166485355, 'min': 3.05, '25%': 3.16, '50%': 3.29, '75%': 3.34, 'max': 3.47}, 'Capacity_tons': {'count': 217.0, 'mean': 63.42857142857143, 'std': 29.11814558168844, 'min': 24.0, '25%': 26.0, '50%': 73.0, '75%': 97.0, 'max': 100.0}}"
        ],
        [
         "Torres-Ortiz",
         "{'speed': {'count': 186.0, 'mean': 45.156615870207865, 'std': 10.97367787841489, 'min': 0.0, '25%': 42.511678294017344, '50%': 46.82964324678711, '75%': 51.27158685320701, 'max': 60.28896648110277}, 'brake': {'count': 186.0, 'mean': 8.15593109181189, 'std': 1.6136818479307746, 'min': 6.066418323104998, '25%': 6.652911767396179, '50%': 7.907331414161506, '75%': 8.662772895707786, 'max': 11.374224935034743}, 'temp': {'count': 186.0, 'mean': 45.344500606284996, 'std': 5.36094262016517, 'min': 39.53605764249974, '25%': 41.46602524585883, '50%': 44.159342563907714, '75%': 46.197354520869155, 'max': 78.68483752045583}, 'vibration': {'count': 186.0, 'mean': 5.632982964410655, 'std': 2.4951176183234764, 'min': 1.8479630269664302, '25%': 4.1881200413115245, '50%': 5.372183335263792, '75%': 6.343902993335632, 'max': 10.937385985061272}, 'battery': {'count': 186.0, 'mean': 75.13466609970142, 'std': 10.01751795028275, 'min': 61.97109430658843, '25%': 66.09132203219032, '50%': 73.85641362267401, '75%': 82.17746450780731, 'max': 100.84583435239044}, 'Height_m': {'count': 186.0, 'mean': 2.8849999999999993, 'std': 0.6511820852174205, 'min': 2.08, '25%': 2.38, '50%': 2.74, '75%': 3.31, 'max': 4.06}, 'Length_m': {'count': 186.0, 'mean': 17.336666666666666, 'std': 4.173640405477482, 'min': 9.9, '25%': 15.68, '50%': 17.245, '75%': 21.63, 'max': 22.32}, 'Width_m': {'count': 186.0, 'mean': 3.0, 'std': 0.24479003689317544, 'min': 2.61, '25%': 2.79, '50%': 3.0549999999999997, '75%': 3.12, 'max': 3.37}, 'Capacity_tons': {'count': 186.0, 'mean': 92.0, 'std': 19.468894109266653, 'min': 59.0, '25%': 84.0, '50%': 91.0, '75%': 107.0, 'max': 120.0}}"
        ],
        [
         "Wilson-Johnson",
         "{'speed': {'count': 186.0, 'mean': 36.94627127574773, 'std': 11.632691200694577, 'min': 0.0, '25%': 29.83572935930571, '50%': 33.897180236352526, '75%': 46.851338312455105, 'max': 56.726383905444564}, 'brake': {'count': 186.0, 'mean': 7.883232847364777, 'std': 1.641506645706218, 'min': 5.397771947966494, '25%': 6.554837678322471, '50%': 7.835268196516653, '75%': 8.632731835194976, 'max': 11.055232708870777}, 'temp': {'count': 186.0, 'mean': 47.60723842579082, 'std': 7.468852283833504, 'min': 39.45854439925483, '25%': 40.89911282067469, '50%': 46.26202971719195, '75%': 52.10378681012991, 'max': 85.79743370829641}, 'vibration': {'count': 186.0, 'mean': 7.701514321462861, 'std': 2.806720617873101, 'min': 2.5940479113566304, '25%': 5.2861720364390745, '50%': 8.575591933909124, '75%': 9.615876426480305, 'max': 11.80450902953588}, 'battery': {'count': 186.0, 'mean': 73.36851520583765, 'std': 16.655411339839333, 'min': 53.41583562792985, '25%': 57.48719202852501, '50%': 68.59175767333093, '75%': 94.14844501142161, 'max': 98.27237792468279}, 'Height_m': {'count': 186.0, 'mean': 3.15, 'std': 0.6260247814799563, 'min': 2.41, '25%': 2.56, '50%': 3.08, '75%': 3.88, 'max': 3.89}, 'Length_m': {'count': 186.0, 'mean': 13.366666666666665, 'std': 3.579559185704849, 'min': 8.86, '25%': 10.15, '50%': 13.55, '75%': 14.01, 'max': 20.08}, 'Width_m': {'count': 186.0, 'mean': 3.031666666666667, 'std': 0.2443389685079552, 'min': 2.6, '25%': 2.88, '50%': 3.075, '75%': 3.25, 'max': 3.31}, 'Capacity_tons': {'count': 186.0, 'mean': 53.0, 'std': 26.236759852686983, 'min': 23.0, '25%': 24.0, '50%': 54.0, '75%': 64.0, 'max': 99.0}}"
        ],
        [
         "Wolfe and Sons",
         "{'speed': {'count': 403.0, 'mean': 40.98080614287618, 'std': 10.422231319390027, 'min': 0.0, '25%': 30.793202055005853, '50%': 39.8348798501289, '75%': 50.42209620391674, 'max': 58.857419973393405}, 'brake': {'count': 403.0, 'mean': 8.136683883232541, 'std': 1.6548346580185243, 'min': 4.904354277492412, '25%': 6.21451857816338, '50%': 8.586492850089458, '75%': 9.152003128220779, 'max': 11.620877795034398}, 'temp': {'count': 403.0, 'mean': 46.259978221463214, 'std': 4.257397584451237, 'min': 40.49170500004389, '25%': 43.15312571144331, '50%': 45.74192280215237, '75%': 48.782838900483426, 'max': 81.50972793607336}, 'vibration': {'count': 403.0, 'mean': 6.706959289252247, 'std': 2.5005366388254457, 'min': 2.3070070415201362, '25%': 4.305571818814293, '50%': 7.066009661241528, '75%': 9.188657878358109, 'max': 10.712259569002887}, 'battery': {'count': 403.0, 'mean': 60.08737386674493, 'std': 16.73791021072591, 'min': 24.60979463458803, '25%': 54.6238671896547, '50%': 63.52702678142821, '75%': 67.96006425066798, 'max': 93.08245004453025}, 'Height_m': {'count': 403.0, 'mean': 3.5015384615384613, 'std': 0.7045884550075777, 'min': 2.2, '25%': 2.98, '50%': 3.52, '75%': 4.2, 'max': 4.47}, 'Length_m': {'count': 403.0, 'mean': 18.553076923076922, 'std': 4.456245933790721, 'min': 10.51, '25%': 16.41, '50%': 17.75, '75%': 22.91, 'max': 24.5}, 'Width_m': {'count': 403.0, 'mean': 3.0346153846153854, 'std': 0.32769440086724055, 'min': 2.51, '25%': 2.74, '50%': 3.18, '75%': 3.29, 'max': 3.42}, 'Capacity_tons': {'count': 403.0, 'mean': 64.46153846153847, 'std': 22.507387059676965, 'min': 31.0, '25%': 40.0, '50%': 61.0, '75%': 82.0, 'max': 100.0}}"
        ]
       ],
       "shape": {
        "columns": 1,
        "rows": 10
       }
      },
      "text/plain": [
       "Operator\n",
       "Brennan-Peterson               {'speed': {'count': 372.0, 'mean': 40.76988876...\n",
       "Charles and Sons               {'speed': {'count': 372.0, 'mean': 41.01191279...\n",
       "Harris-Jenkins                 {'speed': {'count': 403.0, 'mean': 39.78515137...\n",
       "Hendricks and Sons             {'speed': {'count': 248.0, 'mean': 45.71942146...\n",
       "Martin, Rogers and Mitchell    {'speed': {'count': 279.0, 'mean': 48.59862402...\n",
       "Rodriguez and Sons             {'speed': {'count': 434.0, 'mean': 45.45562403...\n",
       "Thomas Group                   {'speed': {'count': 217.0, 'mean': 43.41347044...\n",
       "Torres-Ortiz                   {'speed': {'count': 186.0, 'mean': 45.15661587...\n",
       "Wilson-Johnson                 {'speed': {'count': 186.0, 'mean': 36.94627127...\n",
       "Wolfe and Sons                 {'speed': {'count': 403.0, 'mean': 40.98080614...\n",
       "dtype: object"
      ]
     },
     "execution_count": 96,
     "metadata": {},
     "output_type": "execute_result"
    }
   ],
   "source": [
    "enriched_recent_measurements = recent_measurements.merge(metadata, on=\"id\", how=\"left\")\n",
    "measurement_details_for_report = (\n",
    "    enriched_recent_measurements\n",
    "    .groupby(pdf_report_receiver)\n",
    "    .apply(lambda df: df.describe().to_dict())\n",
    ")\n",
    "measurement_details_for_report"
   ]
  },
  {
   "cell_type": "code",
   "execution_count": 100,
   "id": "197b3063",
   "metadata": {},
   "outputs": [
    {
     "data": {
      "application/vnd.microsoft.datawrangler.viewer.v0+json": {
       "columns": [
        {
         "name": "index",
         "rawType": "int64",
         "type": "integer"
        },
        {
         "name": "Operator",
         "rawType": "object",
         "type": "string"
        },
        {
         "name": "failure_details",
         "rawType": "object",
         "type": "unknown"
        },
        {
         "name": "measurement_details",
         "rawType": "object",
         "type": "unknown"
        }
       ],
       "ref": "2b4cc8ba-bccb-4ad8-86d4-9ceb39569f9f",
       "rows": [
        [
         "0",
         "Brennan-Peterson",
         "{'n_recent_failures': 1, 'n_percentage_failed': 100.0, 'n_failures_by_type': {}, 'failure_ids': ['WGN-53799'], 'failure_details': [{'timestamp': Timestamp('2025-07-10 00:00:00+0000', tz='UTC'), 'repair_time': Timestamp('2025-07-10 17:00:00+0000', tz='UTC'), 'downtime': '0 days 17:00:00', 'cause': 'cooling failure', 'id': 'WGN-53799', 'Sensor_Installation_Date': datetime.date(2024, 3, 1), 'Manufacture_Date': datetime.date(2000, 10, 18), 'Operator': 'Brennan-Peterson', 'Height_m': 3.16, 'Length_m': 8.16, 'Owner': 'Allen, Page and Larson', 'Width_m': 2.7, 'Capacity_tons': 116, 'Type': 'Tank Car'}]}",
         "{'speed': {'count': 372.0, 'mean': 40.76988876492697, 'std': 10.075364507283293, 'min': 0.0, '25%': 34.012368825539795, '50%': 39.97107825031186, '75%': 50.36205526770347, 'max': 56.73102655400077}, 'brake': {'count': 372.0, 'mean': 7.291122575878128, 'std': 1.7698575597663788, 'min': 5.209640797790172, '25%': 5.740613897912497, '50%': 7.118825227508356, '75%': 8.517232936152688, 'max': 10.868996234244095}, 'temp': {'count': 372.0, 'mean': 47.14605376509982, 'std': 4.58987714002921, 'min': 39.38057907028569, '25%': 43.627456151151435, '50%': 46.99970703930378, '75%': 49.416610490515644, 'max': 79.50175247748302}, 'vibration': {'count': 372.0, 'mean': 6.7762249896998075, 'std': 2.4143197386492563, 'min': 2.8572883015853447, '25%': 4.3783400233316865, '50%': 7.087905945304653, '75%': 8.50067265303591, 'max': 11.491250677187546}, 'battery': {'count': 372.0, 'mean': 67.34782862228222, 'std': 24.216397120975202, 'min': 11.191706356055008, '25%': 52.76047100742926, '50%': 74.69642058174367, '75%': 86.84825122230558, 'max': 98.77962843713145}, 'Height_m': {'count': 372.0, 'mean': 3.02, 'std': 0.7290946274258506, 'min': 2.06, '25%': 2.4699999999999998, '50%': 2.7800000000000002, '75%': 3.5199999999999996, 'max': 4.33}, 'Length_m': {'count': 372.0, 'mean': 16.900000000000002, 'std': 4.936610959231367, 'min': 8.16, '25%': 14.05, '50%': 16.655, '75%': 20.03, 'max': 24.81}, 'Width_m': {'count': 372.0, 'mean': 2.954166666666666, 'std': 0.3031854318888255, 'min': 2.54, '25%': 2.6950000000000003, '50%': 2.89, '75%': 3.25, 'max': 3.46}, 'Capacity_tons': {'count': 372.0, 'mean': 71.41666666666667, 'std': 33.23721879741507, 'min': 26.0, '25%': 40.5, '50%': 67.0, '75%': 106.0, 'max': 118.0}}"
        ],
        [
         "1",
         "Charles and Sons",
         "{'n_recent_failures': 2, 'n_percentage_failed': 100.0, 'n_failures_by_type': {}, 'failure_ids': ['WGN-97252', 'WGN-26650'], 'failure_details': [{'timestamp': Timestamp('2025-07-25 00:00:00+0000', tz='UTC'), 'repair_time': Timestamp('2025-07-26 00:00:00+0000', tz='UTC'), 'downtime': '1 days 00:00:00', 'cause': 'axle failure', 'id': 'WGN-97252', 'Sensor_Installation_Date': datetime.date(2021, 8, 29), 'Manufacture_Date': datetime.date(2006, 6, 22), 'Operator': 'Charles and Sons', 'Height_m': 2.78, 'Length_m': 23.9, 'Owner': 'Davis, Short and Neal', 'Width_m': 3.4, 'Capacity_tons': 38, 'Type': 'Refrigerator Car'}, {'timestamp': Timestamp('2025-07-28 00:00:00+0000', tz='UTC'), 'repair_time': Timestamp('2025-07-28 21:00:00+0000', tz='UTC'), 'downtime': '0 days 21:00:00', 'cause': 'battery failure', 'id': 'WGN-26650', 'Sensor_Installation_Date': datetime.date(2023, 9, 24), 'Manufacture_Date': datetime.date(2019, 10, 9), 'Operator': 'Charles and Sons', 'Height_m': 2.59, 'Length_m': 17.84, 'Owner': 'Johnson, Stevens and Young', 'Width_m': 2.96, 'Capacity_tons': 80, 'Type': 'Flatcar'}]}",
         "{'speed': {'count': 372.0, 'mean': 41.011912793489664, 'std': 8.161183506892678, 'min': 0.0, '25%': 37.75651873393747, '50%': 42.59772185074324, '75%': 46.45729351883452, 'max': 60.530157996453454}, 'brake': {'count': 372.0, 'mean': 8.372024867424015, 'std': 1.3818959012647383, 'min': 5.765353062842441, '25%': 6.994336217850715, '50%': 8.655244943778886, '75%': 9.334421994286531, 'max': 10.489945107451348}, 'temp': {'count': 372.0, 'mean': 46.206256165318514, 'std': 6.510325497412189, 'min': 39.55516283851402, '25%': 41.74912393957488, '50%': 43.78076199743899, '75%': 51.836949518359845, 'max': 86.91367222337608}, 'vibration': {'count': 372.0, 'mean': 6.679446363496393, 'std': 1.7694858477190047, 'min': 1.6545831039066456, '25%': 5.438154986632186, '50%': 6.466810700691658, '75%': 7.545781996307509, 'max': 11.734446845018267}, 'battery': {'count': 372.0, 'mean': 62.26330471911752, 'std': 19.341847153121773, 'min': 27.8002326625765, '25%': 50.91340006027384, '50%': 61.356335563028395, '75%': 69.44085178683395, 'max': 100.79810512607938}, 'Height_m': {'count': 372.0, 'mean': 3.266666666666666, 'std': 0.8112076562972148, 'min': 2.08, '25%': 2.62, '50%': 3.035, '75%': 4.06, 'max': 4.46}, 'Length_m': {'count': 372.0, 'mean': 16.900833333333335, 'std': 4.242011754364774, 'min': 10.5, '25%': 13.307500000000001, '50%': 16.91, '75%': 18.98, 'max': 24.11}, 'Width_m': {'count': 372.0, 'mean': 2.976666666666667, 'std': 0.3098337379840544, 'min': 2.53, '25%': 2.7224999999999997, '50%': 3.005, '75%': 3.2675, 'max': 3.4}, 'Capacity_tons': {'count': 372.0, 'mean': 61.333333333333336, 'std': 26.50365720919876, 'min': 27.0, '25%': 37.5, '50%': 64.0, '75%': 78.5, 'max': 113.0}}"
        ],
        [
         "2",
         "Harris-Jenkins",
         "{'n_recent_failures': 1, 'n_percentage_failed': 100.0, 'n_failures_by_type': {}, 'failure_ids': ['WGN-22379'], 'failure_details': [{'timestamp': Timestamp('2025-07-03 00:00:00+0000', tz='UTC'), 'repair_time': Timestamp('2025-07-03 12:00:00+0000', tz='UTC'), 'downtime': '0 days 12:00:00', 'cause': 'brakes failure', 'id': 'WGN-22379', 'Sensor_Installation_Date': datetime.date(2022, 12, 25), 'Manufacture_Date': datetime.date(2014, 11, 2), 'Operator': 'Harris-Jenkins', 'Height_m': 2.97, 'Length_m': 14.33, 'Owner': 'Leach-Thompson', 'Width_m': 3.29, 'Capacity_tons': 32, 'Type': 'Hopper'}]}",
         "{'speed': {'count': 403.0, 'mean': 39.785151370287004, 'std': 11.990008557466362, 'min': 0.0, '25%': 27.41133092414779, '50%': 40.942825563154166, '75%': 49.285365750414826, 'max': 60.51320219370603}, 'brake': {'count': 403.0, 'mean': 7.524625189099728, 'std': 1.6367842551906748, 'min': 4.793185643176739, '25%': 6.306470289284533, '50%': 7.08059946917484, '75%': 9.227297813548805, 'max': 10.239023090397875}, 'temp': {'count': 403.0, 'mean': 47.70551912274819, 'std': 5.46674704888813, 'min': 39.1141365864401, '25%': 43.248243282067335, '50%': 48.32770072554482, '75%': 50.92138471609327, 'max': 86.1278650038919}, 'vibration': {'count': 403.0, 'mean': 7.007485307540327, 'std': 2.93121556670343, 'min': 1.7943800211150516, '25%': 4.706583348573021, '50%': 6.752546798146512, '75%': 10.139459905784722, 'max': 12.155227975059796}, 'battery': {'count': 403.0, 'mean': 67.51356274203447, 'std': 22.30983592927157, 'min': 13.536955441398883, '25%': 62.34526060827734, '50%': 67.35141461709978, '75%': 84.95256844037915, 'max': 99.09740291491383}, 'Height_m': {'count': 403.0, 'mean': 3.406923076923077, 'std': 0.7507872892967844, 'min': 2.02, '25%': 2.97, '50%': 3.26, '75%': 4.17, 'max': 4.34}, 'Length_m': {'count': 403.0, 'mean': 16.753846153846155, 'std': 5.042517173883427, 'min': 8.2, '25%': 13.34, '50%': 17.22, '75%': 20.96, 'max': 24.74}, 'Width_m': {'count': 403.0, 'mean': 3.0738461538461546, 'std': 0.29253115011041403, 'min': 2.5, '25%': 3.01, '50%': 3.18, '75%': 3.27, 'max': 3.44}, 'Capacity_tons': {'count': 403.0, 'mean': 65.53846153846153, 'std': 29.29546489303234, 'min': 21.0, '25%': 55.0, '50%': 62.0, '75%': 95.0, 'max': 114.0}}"
        ],
        [
         "3",
         "Hendricks and Sons",
         "{'n_recent_failures': 1, 'n_percentage_failed': 100.0, 'n_failures_by_type': {}, 'failure_ids': ['WGN-39103'], 'failure_details': [{'timestamp': Timestamp('2025-07-20 00:00:00+0000', tz='UTC'), 'repair_time': Timestamp('2025-07-20 12:00:00+0000', tz='UTC'), 'downtime': '0 days 12:00:00', 'cause': 'cooling failure', 'id': 'WGN-39103', 'Sensor_Installation_Date': datetime.date(2024, 5, 18), 'Manufacture_Date': datetime.date(2003, 6, 9), 'Operator': 'Hendricks and Sons', 'Height_m': 4.39, 'Length_m': 18.24, 'Owner': 'Murphy-Patrick', 'Width_m': 3.28, 'Capacity_tons': 29, 'Type': 'Hopper'}]}",
         "{'speed': {'count': 248.0, 'mean': 45.71942146477024, 'std': 8.167020069296774, 'min': 0.0, '25%': 38.26634393605424, '50%': 47.83941981245556, '75%': 51.91458059294224, 'max': 54.526198244570445}, 'brake': {'count': 248.0, 'mean': 8.012535370038092, 'std': 1.5486127935739582, 'min': 5.532765614782586, '25%': 6.64885495510483, '50%': 7.998730158676263, '75%': 9.00824464886665, 'max': 10.591153195704504}, 'temp': {'count': 248.0, 'mean': 47.23419822744001, 'std': 5.841553892271761, 'min': 39.05817299250932, '25%': 42.285966708686445, '50%': 45.0878880257135, '75%': 52.184640515767725, 'max': 78.85143868479567}, 'vibration': {'count': 248.0, 'mean': 5.51954635894316, 'std': 1.8601295710794876, 'min': 3.2596943193744443, '25%': 3.8840222865934173, '50%': 5.056134254985501, '75%': 7.334856080940937, 'max': 13.395687627823133}, 'battery': {'count': 248.0, 'mean': 61.383957915523986, 'std': 25.1866640307636, 'min': 12.534350566665397, '25%': 42.29798557710144, '50%': 69.51676655461719, '75%': 76.5291845939192, 'max': 99.25728557525859}, 'Height_m': {'count': 248.0, 'mean': 2.95625, 'std': 0.7556792062462989, 'min': 2.01, '25%': 2.5425, '50%': 2.745, '75%': 3.2225, 'max': 4.39}, 'Length_m': {'count': 248.0, 'mean': 15.6175, 'std': 4.786286859647467, 'min': 9.44, '25%': 11.245000000000001, '50%': 15.68, '75%': 18.9975, 'max': 22.95}, 'Width_m': {'count': 248.0, 'mean': 3.0212499999999998, 'std': 0.2831682558720226, 'min': 2.55, '25%': 2.8775, '50%': 2.9400000000000004, '75%': 3.3, 'max': 3.41}, 'Capacity_tons': {'count': 248.0, 'mean': 81.125, 'std': 29.446659729598693, 'min': 29.0, '25%': 64.5, '50%': 91.5, '75%': 103.25, 'max': 116.0}}"
        ],
        [
         "4",
         "Martin, Rogers and Mitchell",
         null,
         "{'speed': {'count': 279.0, 'mean': 48.59862402932292, 'std': 6.825078984496925, 'min': 34.41953710708957, '25%': 44.59664564280175, '50%': 49.69683597523199, '75%': 52.591395518167545, 'max': 60.70645143349686}, 'brake': {'count': 279.0, 'mean': 7.465928121413513, 'std': 1.3137390352490959, 'min': 4.915917058346104, '25%': 6.892848537594361, '50%': 7.471749840628172, '75%': 8.213335298146683, 'max': 10.143260405040703}, 'temp': {'count': 279.0, 'mean': 49.9568902967245, 'std': 5.2782350213971965, 'min': 39.81401772611834, '25%': 48.71156584363343, '50%': 51.39990585611531, '75%': 54.21005534618765, 'max': 56.821994616295235}, 'vibration': {'count': 279.0, 'mean': 4.847900196177021, 'std': 1.712346993419659, 'min': 1.8469178763670908, '25%': 3.8473197812155324, '50%': 4.52530546631078, '75%': 5.898301747469688, 'max': 8.671651607928004}, 'battery': {'count': 279.0, 'mean': 69.4840685206214, 'std': 27.69148182262342, 'min': 4.847089727569907, '25%': 54.696154409666065, '50%': 77.40198156189601, '75%': 91.23051773918945, 'max': 96.06442037441589}, 'Height_m': {'count': 279.0, 'mean': 3.207777777777778, 'std': 0.5969973495181822, 'min': 2.12, '25%': 2.91, '50%': 3.25, '75%': 3.66, 'max': 4.02}, 'Length_m': {'count': 279.0, 'mean': 16.536666666666665, 'std': 5.327747509518432, 'min': 8.42, '25%': 14.21, '50%': 15.45, '75%': 22.08, 'max': 24.02}, 'Width_m': {'count': 279.0, 'mean': 3.0833333333333335, 'std': 0.19072183971397952, 'min': 2.81, '25%': 2.93, '50%': 3.05, '75%': 3.23, 'max': 3.45}, 'Capacity_tons': {'count': 279.0, 'mean': 62.0, 'std': 30.15392168202596, 'min': 22.0, '25%': 44.0, '50%': 66.0, '75%': 74.0, 'max': 117.0}}"
        ],
        [
         "5",
         "Rodriguez and Sons",
         "{'n_recent_failures': 1, 'n_percentage_failed': 100.0, 'n_failures_by_type': {}, 'failure_ids': ['WGN-17692'], 'failure_details': [{'timestamp': Timestamp('2025-07-04 00:00:00+0000', tz='UTC'), 'repair_time': Timestamp('2025-07-04 05:00:00+0000', tz='UTC'), 'downtime': '0 days 05:00:00', 'cause': 'brakes failure', 'id': 'WGN-17692', 'Sensor_Installation_Date': datetime.date(2020, 12, 7), 'Manufacture_Date': datetime.date(2004, 6, 28), 'Operator': 'Rodriguez and Sons', 'Height_m': 3.84, 'Length_m': 11.62, 'Owner': 'Sandoval and Sons', 'Width_m': 3.29, 'Capacity_tons': 47, 'Type': 'Flatcar'}]}",
         "{'speed': {'count': 434.0, 'mean': 45.455624034621415, 'std': 11.292558859768935, 'min': 0.0, '25%': 36.384600023733995, '50%': 46.7401331424944, '75%': 56.53088414758736, 'max': 59.66073411418119}, 'brake': {'count': 434.0, 'mean': 7.270420066258451, 'std': 1.8827810183606999, 'min': 4.840583188976456, '25%': 6.062536654334684, '50%': 6.483955757653961, '75%': 8.316250172356979, 'max': 14.681099107339193}, 'temp': {'count': 434.0, 'mean': 49.73480890798067, 'std': 5.812690778054396, 'min': 41.2313026185544, '25%': 43.82985935087753, '50%': 49.34983574994961, '75%': 53.935762544928785, 'max': 84.93271930617679}, 'vibration': {'count': 434.0, 'mean': 5.6025825780977225, 'std': 2.7365672860872445, 'min': 1.8963381112789832, '25%': 2.8883580137982445, '50%': 5.2477012069760764, '75%': 7.885757191745476, 'max': 11.860081777026245}, 'battery': {'count': 434.0, 'mean': 65.28126764292998, 'std': 21.666904739959715, 'min': 24.121008345662553, '25%': 44.51125140461028, '50%': 71.69256776057212, '75%': 84.99891690609886, 'max': 94.6691335677019}, 'Height_m': {'count': 434.0, 'mean': 3.352142857142857, 'std': 0.5394722147968107, 'min': 2.47, '25%': 2.94, '50%': 3.395, '75%': 3.84, 'max': 4.08}, 'Length_m': {'count': 434.0, 'mean': 14.799285714285718, 'std': 5.553953147310537, 'min': 8.05, '25%': 10.71, '50%': 13.355, '75%': 17.99, 'max': 24.81}, 'Width_m': {'count': 434.0, 'mean': 2.9492857142857147, 'std': 0.3601663670350871, 'min': 2.5, '25%': 2.59, '50%': 2.78, '75%': 3.32, 'max': 3.45}, 'Capacity_tons': {'count': 434.0, 'mean': 75.85714285714286, 'std': 25.847444732665206, 'min': 37.0, '25%': 47.0, '50%': 78.0, '75%': 100.0, 'max': 115.0}}"
        ],
        [
         "6",
         "Thomas Group",
         null,
         "{'speed': {'count': 217.0, 'mean': 43.41347044987767, 'std': 11.9611281904219, 'min': 18.33553564095418, '25%': 35.971471412909594, '50%': 45.89298541306748, '75%': 52.407393928027155, 'max': 59.415415982039846}, 'brake': {'count': 217.0, 'mean': 8.062914211574018, 'std': 1.262245925098994, 'min': 5.581690872546638, '25%': 6.932072507473942, '50%': 8.414078347276703, '75%': 8.790448602427674, 'max': 10.221380299807144}, 'temp': {'count': 217.0, 'mean': 47.04030577495117, 'std': 6.566457559948713, 'min': 39.80496889822762, '25%': 41.91218908218667, '50%': 43.62992563282292, '75%': 55.554509537629485, 'max': 59.26112524741004}, 'vibration': {'count': 217.0, 'mean': 6.171642376564242, 'std': 2.999492574365489, 'min': 2.2069203917485383, '25%': 3.9323561104864577, '50%': 5.544125940179721, '75%': 7.977780685325128, 'max': 12.665858246693352}, 'battery': {'count': 217.0, 'mean': 60.39092897713215, 'std': 27.83486943433378, 'min': -2.5461737548225214, '25%': 59.55113233997859, '50%': 63.14576909617921, '75%': 72.01417064625916, 'max': 98.75636936316064}, 'Height_m': {'count': 217.0, 'mean': 3.238571428571429, 'std': 0.7671159828975872, 'min': 2.02, '25%': 2.67, '50%': 3.19, '75%': 4.04, 'max': 4.49}, 'Length_m': {'count': 217.0, 'mean': 15.455714285714285, 'std': 5.4151176051170555, 'min': 9.07, '25%': 9.57, '50%': 13.1, '75%': 22.54, 'max': 22.76}, 'Width_m': {'count': 217.0, 'mean': 3.2600000000000002, 'std': 0.12947186166485355, 'min': 3.05, '25%': 3.16, '50%': 3.29, '75%': 3.34, 'max': 3.47}, 'Capacity_tons': {'count': 217.0, 'mean': 63.42857142857143, 'std': 29.11814558168844, 'min': 24.0, '25%': 26.0, '50%': 73.0, '75%': 97.0, 'max': 100.0}}"
        ],
        [
         "7",
         "Torres-Ortiz",
         "{'n_recent_failures': 1, 'n_percentage_failed': 100.0, 'n_failures_by_type': {}, 'failure_ids': ['WGN-37611'], 'failure_details': [{'timestamp': Timestamp('2025-07-24 00:00:00+0000', tz='UTC'), 'repair_time': Timestamp('2025-07-24 17:00:00+0000', tz='UTC'), 'downtime': '0 days 17:00:00', 'cause': 'battery failure', 'id': 'WGN-37611', 'Sensor_Installation_Date': datetime.date(2021, 5, 12), 'Manufacture_Date': datetime.date(1998, 10, 2), 'Operator': 'Torres-Ortiz', 'Height_m': 4.06, 'Length_m': 18.39, 'Owner': 'Wilson, Zavala and Taylor', 'Width_m': 3.1, 'Capacity_tons': 120, 'Type': 'Gondola'}]}",
         "{'speed': {'count': 186.0, 'mean': 45.156615870207865, 'std': 10.97367787841489, 'min': 0.0, '25%': 42.511678294017344, '50%': 46.82964324678711, '75%': 51.27158685320701, 'max': 60.28896648110277}, 'brake': {'count': 186.0, 'mean': 8.15593109181189, 'std': 1.6136818479307746, 'min': 6.066418323104998, '25%': 6.652911767396179, '50%': 7.907331414161506, '75%': 8.662772895707786, 'max': 11.374224935034743}, 'temp': {'count': 186.0, 'mean': 45.344500606284996, 'std': 5.36094262016517, 'min': 39.53605764249974, '25%': 41.46602524585883, '50%': 44.159342563907714, '75%': 46.197354520869155, 'max': 78.68483752045583}, 'vibration': {'count': 186.0, 'mean': 5.632982964410655, 'std': 2.4951176183234764, 'min': 1.8479630269664302, '25%': 4.1881200413115245, '50%': 5.372183335263792, '75%': 6.343902993335632, 'max': 10.937385985061272}, 'battery': {'count': 186.0, 'mean': 75.13466609970142, 'std': 10.01751795028275, 'min': 61.97109430658843, '25%': 66.09132203219032, '50%': 73.85641362267401, '75%': 82.17746450780731, 'max': 100.84583435239044}, 'Height_m': {'count': 186.0, 'mean': 2.8849999999999993, 'std': 0.6511820852174205, 'min': 2.08, '25%': 2.38, '50%': 2.74, '75%': 3.31, 'max': 4.06}, 'Length_m': {'count': 186.0, 'mean': 17.336666666666666, 'std': 4.173640405477482, 'min': 9.9, '25%': 15.68, '50%': 17.245, '75%': 21.63, 'max': 22.32}, 'Width_m': {'count': 186.0, 'mean': 3.0, 'std': 0.24479003689317544, 'min': 2.61, '25%': 2.79, '50%': 3.0549999999999997, '75%': 3.12, 'max': 3.37}, 'Capacity_tons': {'count': 186.0, 'mean': 92.0, 'std': 19.468894109266653, 'min': 59.0, '25%': 84.0, '50%': 91.0, '75%': 107.0, 'max': 120.0}}"
        ],
        [
         "8",
         "Wilson-Johnson",
         "{'n_recent_failures': 1, 'n_percentage_failed': 100.0, 'n_failures_by_type': {}, 'failure_ids': ['WGN-22477'], 'failure_details': [{'timestamp': Timestamp('2025-07-26 00:00:00+0000', tz='UTC'), 'repair_time': Timestamp('2025-07-26 22:00:00+0000', tz='UTC'), 'downtime': '0 days 22:00:00', 'cause': 'cooling failure', 'id': 'WGN-22477', 'Sensor_Installation_Date': datetime.date(2022, 7, 9), 'Manufacture_Date': datetime.date(2006, 11, 2), 'Operator': 'Wilson-Johnson', 'Height_m': 3.88, 'Length_m': 14.01, 'Owner': 'Wiley, Chavez and Gomez', 'Width_m': 2.98, 'Capacity_tons': 46, 'Type': 'Tank Car'}]}",
         "{'speed': {'count': 186.0, 'mean': 36.94627127574773, 'std': 11.632691200694577, 'min': 0.0, '25%': 29.83572935930571, '50%': 33.897180236352526, '75%': 46.851338312455105, 'max': 56.726383905444564}, 'brake': {'count': 186.0, 'mean': 7.883232847364777, 'std': 1.641506645706218, 'min': 5.397771947966494, '25%': 6.554837678322471, '50%': 7.835268196516653, '75%': 8.632731835194976, 'max': 11.055232708870777}, 'temp': {'count': 186.0, 'mean': 47.60723842579082, 'std': 7.468852283833504, 'min': 39.45854439925483, '25%': 40.89911282067469, '50%': 46.26202971719195, '75%': 52.10378681012991, 'max': 85.79743370829641}, 'vibration': {'count': 186.0, 'mean': 7.701514321462861, 'std': 2.806720617873101, 'min': 2.5940479113566304, '25%': 5.2861720364390745, '50%': 8.575591933909124, '75%': 9.615876426480305, 'max': 11.80450902953588}, 'battery': {'count': 186.0, 'mean': 73.36851520583765, 'std': 16.655411339839333, 'min': 53.41583562792985, '25%': 57.48719202852501, '50%': 68.59175767333093, '75%': 94.14844501142161, 'max': 98.27237792468279}, 'Height_m': {'count': 186.0, 'mean': 3.15, 'std': 0.6260247814799563, 'min': 2.41, '25%': 2.56, '50%': 3.08, '75%': 3.88, 'max': 3.89}, 'Length_m': {'count': 186.0, 'mean': 13.366666666666665, 'std': 3.579559185704849, 'min': 8.86, '25%': 10.15, '50%': 13.55, '75%': 14.01, 'max': 20.08}, 'Width_m': {'count': 186.0, 'mean': 3.031666666666667, 'std': 0.2443389685079552, 'min': 2.6, '25%': 2.88, '50%': 3.075, '75%': 3.25, 'max': 3.31}, 'Capacity_tons': {'count': 186.0, 'mean': 53.0, 'std': 26.236759852686983, 'min': 23.0, '25%': 24.0, '50%': 54.0, '75%': 64.0, 'max': 99.0}}"
        ],
        [
         "9",
         "Wolfe and Sons",
         "{'n_recent_failures': 1, 'n_percentage_failed': 100.0, 'n_failures_by_type': {}, 'failure_ids': ['WGN-44982'], 'failure_details': [{'timestamp': Timestamp('2025-07-12 00:00:00+0000', tz='UTC'), 'repair_time': Timestamp('2025-07-12 10:00:00+0000', tz='UTC'), 'downtime': '0 days 10:00:00', 'cause': 'brakes failure', 'id': 'WGN-44982', 'Sensor_Installation_Date': datetime.date(2022, 12, 30), 'Manufacture_Date': datetime.date(2017, 4, 3), 'Operator': 'Wolfe and Sons', 'Height_m': 4.47, 'Length_m': 20.19, 'Owner': 'Hanson-Williams', 'Width_m': 3.36, 'Capacity_tons': 61, 'Type': 'Boxcar'}]}",
         "{'speed': {'count': 403.0, 'mean': 40.98080614287618, 'std': 10.422231319390027, 'min': 0.0, '25%': 30.793202055005853, '50%': 39.8348798501289, '75%': 50.42209620391674, 'max': 58.857419973393405}, 'brake': {'count': 403.0, 'mean': 8.136683883232541, 'std': 1.6548346580185243, 'min': 4.904354277492412, '25%': 6.21451857816338, '50%': 8.586492850089458, '75%': 9.152003128220779, 'max': 11.620877795034398}, 'temp': {'count': 403.0, 'mean': 46.259978221463214, 'std': 4.257397584451237, 'min': 40.49170500004389, '25%': 43.15312571144331, '50%': 45.74192280215237, '75%': 48.782838900483426, 'max': 81.50972793607336}, 'vibration': {'count': 403.0, 'mean': 6.706959289252247, 'std': 2.5005366388254457, 'min': 2.3070070415201362, '25%': 4.305571818814293, '50%': 7.066009661241528, '75%': 9.188657878358109, 'max': 10.712259569002887}, 'battery': {'count': 403.0, 'mean': 60.08737386674493, 'std': 16.73791021072591, 'min': 24.60979463458803, '25%': 54.6238671896547, '50%': 63.52702678142821, '75%': 67.96006425066798, 'max': 93.08245004453025}, 'Height_m': {'count': 403.0, 'mean': 3.5015384615384613, 'std': 0.7045884550075777, 'min': 2.2, '25%': 2.98, '50%': 3.52, '75%': 4.2, 'max': 4.47}, 'Length_m': {'count': 403.0, 'mean': 18.553076923076922, 'std': 4.456245933790721, 'min': 10.51, '25%': 16.41, '50%': 17.75, '75%': 22.91, 'max': 24.5}, 'Width_m': {'count': 403.0, 'mean': 3.0346153846153854, 'std': 0.32769440086724055, 'min': 2.51, '25%': 2.74, '50%': 3.18, '75%': 3.29, 'max': 3.42}, 'Capacity_tons': {'count': 403.0, 'mean': 64.46153846153847, 'std': 22.507387059676965, 'min': 31.0, '25%': 40.0, '50%': 61.0, '75%': 82.0, 'max': 100.0}}"
        ]
       ],
       "shape": {
        "columns": 3,
        "rows": 10
       }
      },
      "text/html": [
       "<div>\n",
       "<style scoped>\n",
       "    .dataframe tbody tr th:only-of-type {\n",
       "        vertical-align: middle;\n",
       "    }\n",
       "\n",
       "    .dataframe tbody tr th {\n",
       "        vertical-align: top;\n",
       "    }\n",
       "\n",
       "    .dataframe thead th {\n",
       "        text-align: right;\n",
       "    }\n",
       "</style>\n",
       "<table border=\"1\" class=\"dataframe\">\n",
       "  <thead>\n",
       "    <tr style=\"text-align: right;\">\n",
       "      <th></th>\n",
       "      <th>Operator</th>\n",
       "      <th>failure_details</th>\n",
       "      <th>measurement_details</th>\n",
       "    </tr>\n",
       "  </thead>\n",
       "  <tbody>\n",
       "    <tr>\n",
       "      <th>0</th>\n",
       "      <td>Brennan-Peterson</td>\n",
       "      <td>{'n_recent_failures': 1, 'n_percentage_failed'...</td>\n",
       "      <td>{'speed': {'count': 372.0, 'mean': 40.76988876...</td>\n",
       "    </tr>\n",
       "    <tr>\n",
       "      <th>1</th>\n",
       "      <td>Charles and Sons</td>\n",
       "      <td>{'n_recent_failures': 2, 'n_percentage_failed'...</td>\n",
       "      <td>{'speed': {'count': 372.0, 'mean': 41.01191279...</td>\n",
       "    </tr>\n",
       "    <tr>\n",
       "      <th>2</th>\n",
       "      <td>Harris-Jenkins</td>\n",
       "      <td>{'n_recent_failures': 1, 'n_percentage_failed'...</td>\n",
       "      <td>{'speed': {'count': 403.0, 'mean': 39.78515137...</td>\n",
       "    </tr>\n",
       "    <tr>\n",
       "      <th>3</th>\n",
       "      <td>Hendricks and Sons</td>\n",
       "      <td>{'n_recent_failures': 1, 'n_percentage_failed'...</td>\n",
       "      <td>{'speed': {'count': 248.0, 'mean': 45.71942146...</td>\n",
       "    </tr>\n",
       "    <tr>\n",
       "      <th>4</th>\n",
       "      <td>Martin, Rogers and Mitchell</td>\n",
       "      <td>NaN</td>\n",
       "      <td>{'speed': {'count': 279.0, 'mean': 48.59862402...</td>\n",
       "    </tr>\n",
       "    <tr>\n",
       "      <th>5</th>\n",
       "      <td>Rodriguez and Sons</td>\n",
       "      <td>{'n_recent_failures': 1, 'n_percentage_failed'...</td>\n",
       "      <td>{'speed': {'count': 434.0, 'mean': 45.45562403...</td>\n",
       "    </tr>\n",
       "    <tr>\n",
       "      <th>6</th>\n",
       "      <td>Thomas Group</td>\n",
       "      <td>NaN</td>\n",
       "      <td>{'speed': {'count': 217.0, 'mean': 43.41347044...</td>\n",
       "    </tr>\n",
       "    <tr>\n",
       "      <th>7</th>\n",
       "      <td>Torres-Ortiz</td>\n",
       "      <td>{'n_recent_failures': 1, 'n_percentage_failed'...</td>\n",
       "      <td>{'speed': {'count': 186.0, 'mean': 45.15661587...</td>\n",
       "    </tr>\n",
       "    <tr>\n",
       "      <th>8</th>\n",
       "      <td>Wilson-Johnson</td>\n",
       "      <td>{'n_recent_failures': 1, 'n_percentage_failed'...</td>\n",
       "      <td>{'speed': {'count': 186.0, 'mean': 36.94627127...</td>\n",
       "    </tr>\n",
       "    <tr>\n",
       "      <th>9</th>\n",
       "      <td>Wolfe and Sons</td>\n",
       "      <td>{'n_recent_failures': 1, 'n_percentage_failed'...</td>\n",
       "      <td>{'speed': {'count': 403.0, 'mean': 40.98080614...</td>\n",
       "    </tr>\n",
       "  </tbody>\n",
       "</table>\n",
       "</div>"
      ],
      "text/plain": [
       "                      Operator  \\\n",
       "0             Brennan-Peterson   \n",
       "1             Charles and Sons   \n",
       "2               Harris-Jenkins   \n",
       "3           Hendricks and Sons   \n",
       "4  Martin, Rogers and Mitchell   \n",
       "5           Rodriguez and Sons   \n",
       "6                 Thomas Group   \n",
       "7                 Torres-Ortiz   \n",
       "8               Wilson-Johnson   \n",
       "9               Wolfe and Sons   \n",
       "\n",
       "                                     failure_details  \\\n",
       "0  {'n_recent_failures': 1, 'n_percentage_failed'...   \n",
       "1  {'n_recent_failures': 2, 'n_percentage_failed'...   \n",
       "2  {'n_recent_failures': 1, 'n_percentage_failed'...   \n",
       "3  {'n_recent_failures': 1, 'n_percentage_failed'...   \n",
       "4                                                NaN   \n",
       "5  {'n_recent_failures': 1, 'n_percentage_failed'...   \n",
       "6                                                NaN   \n",
       "7  {'n_recent_failures': 1, 'n_percentage_failed'...   \n",
       "8  {'n_recent_failures': 1, 'n_percentage_failed'...   \n",
       "9  {'n_recent_failures': 1, 'n_percentage_failed'...   \n",
       "\n",
       "                                 measurement_details  \n",
       "0  {'speed': {'count': 372.0, 'mean': 40.76988876...  \n",
       "1  {'speed': {'count': 372.0, 'mean': 41.01191279...  \n",
       "2  {'speed': {'count': 403.0, 'mean': 39.78515137...  \n",
       "3  {'speed': {'count': 248.0, 'mean': 45.71942146...  \n",
       "4  {'speed': {'count': 279.0, 'mean': 48.59862402...  \n",
       "5  {'speed': {'count': 434.0, 'mean': 45.45562403...  \n",
       "6  {'speed': {'count': 217.0, 'mean': 43.41347044...  \n",
       "7  {'speed': {'count': 186.0, 'mean': 45.15661587...  \n",
       "8  {'speed': {'count': 186.0, 'mean': 36.94627127...  \n",
       "9  {'speed': {'count': 403.0, 'mean': 40.98080614...  "
      ]
     },
     "execution_count": 100,
     "metadata": {},
     "output_type": "execute_result"
    }
   ],
   "source": [
    "details_for_report = pd.DataFrame(\n",
    "    {\n",
    "        \"failure_details\": failure_details_for_report,\n",
    "        \"measurement_details\": measurement_details_for_report\n",
    "    }\n",
    ")\n",
    "details_for_report.reset_index(inplace=True)\n",
    "details_for_report"
   ]
  },
  {
   "cell_type": "code",
   "execution_count": 133,
   "id": "3c31ab5a",
   "metadata": {},
   "outputs": [
    {
     "data": {
      "application/vnd.microsoft.datawrangler.viewer.v0+json": {
       "columns": [
        {
         "name": "index",
         "rawType": "int64",
         "type": "integer"
        },
        {
         "name": "Operator",
         "rawType": "object",
         "type": "string"
        },
        {
         "name": "failure_details",
         "rawType": "object",
         "type": "unknown"
        },
        {
         "name": "measurement_details",
         "rawType": "object",
         "type": "unknown"
        },
        {
         "name": "prompt",
         "rawType": "object",
         "type": "string"
        }
       ],
       "ref": "45930dcb-1612-4743-9df5-632affb66ab3",
       "rows": [
        [
         "0",
         "Brennan-Peterson",
         "{'n_recent_failures': 1, 'n_percentage_failed': 100.0, 'n_failures_by_type': {}, 'failure_ids': ['WGN-53799'], 'failure_details': [{'timestamp': Timestamp('2025-07-10 00:00:00+0000', tz='UTC'), 'repair_time': Timestamp('2025-07-10 17:00:00+0000', tz='UTC'), 'downtime': '0 days 17:00:00', 'cause': 'cooling failure', 'id': 'WGN-53799', 'Sensor_Installation_Date': datetime.date(2024, 3, 1), 'Manufacture_Date': datetime.date(2000, 10, 18), 'Operator': 'Brennan-Peterson', 'Height_m': 3.16, 'Length_m': 8.16, 'Owner': 'Allen, Page and Larson', 'Width_m': 2.7, 'Capacity_tons': 116, 'Type': 'Tank Car'}]}",
         "{'speed': {'count': 372.0, 'mean': 40.76988876492697, 'std': 10.075364507283293, 'min': 0.0, '25%': 34.012368825539795, '50%': 39.97107825031186, '75%': 50.36205526770347, 'max': 56.73102655400077}, 'brake': {'count': 372.0, 'mean': 7.291122575878128, 'std': 1.7698575597663788, 'min': 5.209640797790172, '25%': 5.740613897912497, '50%': 7.118825227508356, '75%': 8.517232936152688, 'max': 10.868996234244095}, 'temp': {'count': 372.0, 'mean': 47.14605376509982, 'std': 4.58987714002921, 'min': 39.38057907028569, '25%': 43.627456151151435, '50%': 46.99970703930378, '75%': 49.416610490515644, 'max': 79.50175247748302}, 'vibration': {'count': 372.0, 'mean': 6.7762249896998075, 'std': 2.4143197386492563, 'min': 2.8572883015853447, '25%': 4.3783400233316865, '50%': 7.087905945304653, '75%': 8.50067265303591, 'max': 11.491250677187546}, 'battery': {'count': 372.0, 'mean': 67.34782862228222, 'std': 24.216397120975202, 'min': 11.191706356055008, '25%': 52.76047100742926, '50%': 74.69642058174367, '75%': 86.84825122230558, 'max': 98.77962843713145}, 'Height_m': {'count': 372.0, 'mean': 3.02, 'std': 0.7290946274258506, 'min': 2.06, '25%': 2.4699999999999998, '50%': 2.7800000000000002, '75%': 3.5199999999999996, 'max': 4.33}, 'Length_m': {'count': 372.0, 'mean': 16.900000000000002, 'std': 4.936610959231367, 'min': 8.16, '25%': 14.05, '50%': 16.655, '75%': 20.03, 'max': 24.81}, 'Width_m': {'count': 372.0, 'mean': 2.954166666666666, 'std': 0.3031854318888255, 'min': 2.54, '25%': 2.6950000000000003, '50%': 2.89, '75%': 3.25, 'max': 3.46}, 'Capacity_tons': {'count': 372.0, 'mean': 71.41666666666667, 'std': 33.23721879741507, 'min': 26.0, '25%': 40.5, '50%': 67.0, '75%': 106.0, 'max': 118.0}}",
         "\nCreate an HTML report for IIoT sensor data and failures for Brennan-Peterson with three sections. In a first section, provide a written a summary of the most important overall details using only text. In a second section, provide a summary paragraph and a table for details on failures. In the third section, summarize measurements details first in a written paragraph and then in a table. Make sure the report looks professional when subsequently transformed into a pdf with fpdf2. Also, don't include anything unnecessary like descriptions of how you have created the report or newline symbols. Here is the json summary of the recent data:\n- Failure Details: {'n_recent_failures': 1, 'n_percentage_failed': 100.0, 'n_failures_by_type': {}, 'failure_ids': ['WGN-53799'], 'failure_details': [{'timestamp': Timestamp('2025-07-10 00:00:00+0000', tz='UTC'), 'repair_time': Timestamp('2025-07-10 17:00:00+0000', tz='UTC'), 'downtime': '0 days 17:00:00', 'cause': 'cooling failure', 'id': 'WGN-53799', 'Sensor_Installation_Date': datetime.date(2024, 3, 1), 'Manufacture_Date': datetime.date(2000, 10, 18), 'Operator': 'Brennan-Peterson', 'Height_m': 3.16, 'Length_m': 8.16, 'Owner': 'Allen, Page and Larson', 'Width_m': 2.7, 'Capacity_tons': 116, 'Type': 'Tank Car'}]}\n- Measurement Details: {'speed': {'count': 372.0, 'mean': 40.76988876492697, 'std': 10.075364507283293, 'min': 0.0, '25%': 34.012368825539795, '50%': 39.97107825031186, '75%': 50.36205526770347, 'max': 56.73102655400077}, 'brake': {'count': 372.0, 'mean': 7.291122575878128, 'std': 1.7698575597663788, 'min': 5.209640797790172, '25%': 5.740613897912497, '50%': 7.118825227508356, '75%': 8.517232936152688, 'max': 10.868996234244095}, 'temp': {'count': 372.0, 'mean': 47.14605376509982, 'std': 4.58987714002921, 'min': 39.38057907028569, '25%': 43.627456151151435, '50%': 46.99970703930378, '75%': 49.416610490515644, 'max': 79.50175247748302}, 'vibration': {'count': 372.0, 'mean': 6.7762249896998075, 'std': 2.4143197386492563, 'min': 2.8572883015853447, '25%': 4.3783400233316865, '50%': 7.087905945304653, '75%': 8.50067265303591, 'max': 11.491250677187546}, 'battery': {'count': 372.0, 'mean': 67.34782862228222, 'std': 24.216397120975202, 'min': 11.191706356055008, '25%': 52.76047100742926, '50%': 74.69642058174367, '75%': 86.84825122230558, 'max': 98.77962843713145}, 'Height_m': {'count': 372.0, 'mean': 3.02, 'std': 0.7290946274258506, 'min': 2.06, '25%': 2.4699999999999998, '50%': 2.7800000000000002, '75%': 3.5199999999999996, 'max': 4.33}, 'Length_m': {'count': 372.0, 'mean': 16.900000000000002, 'std': 4.936610959231367, 'min': 8.16, '25%': 14.05, '50%': 16.655, '75%': 20.03, 'max': 24.81}, 'Width_m': {'count': 372.0, 'mean': 2.954166666666666, 'std': 0.3031854318888255, 'min': 2.54, '25%': 2.6950000000000003, '50%': 2.89, '75%': 3.25, 'max': 3.46}, 'Capacity_tons': {'count': 372.0, 'mean': 71.41666666666667, 'std': 33.23721879741507, 'min': 26.0, '25%': 40.5, '50%': 67.0, '75%': 106.0, 'max': 118.0}}\n"
        ],
        [
         "1",
         "Charles and Sons",
         "{'n_recent_failures': 2, 'n_percentage_failed': 100.0, 'n_failures_by_type': {}, 'failure_ids': ['WGN-97252', 'WGN-26650'], 'failure_details': [{'timestamp': Timestamp('2025-07-25 00:00:00+0000', tz='UTC'), 'repair_time': Timestamp('2025-07-26 00:00:00+0000', tz='UTC'), 'downtime': '1 days 00:00:00', 'cause': 'axle failure', 'id': 'WGN-97252', 'Sensor_Installation_Date': datetime.date(2021, 8, 29), 'Manufacture_Date': datetime.date(2006, 6, 22), 'Operator': 'Charles and Sons', 'Height_m': 2.78, 'Length_m': 23.9, 'Owner': 'Davis, Short and Neal', 'Width_m': 3.4, 'Capacity_tons': 38, 'Type': 'Refrigerator Car'}, {'timestamp': Timestamp('2025-07-28 00:00:00+0000', tz='UTC'), 'repair_time': Timestamp('2025-07-28 21:00:00+0000', tz='UTC'), 'downtime': '0 days 21:00:00', 'cause': 'battery failure', 'id': 'WGN-26650', 'Sensor_Installation_Date': datetime.date(2023, 9, 24), 'Manufacture_Date': datetime.date(2019, 10, 9), 'Operator': 'Charles and Sons', 'Height_m': 2.59, 'Length_m': 17.84, 'Owner': 'Johnson, Stevens and Young', 'Width_m': 2.96, 'Capacity_tons': 80, 'Type': 'Flatcar'}]}",
         "{'speed': {'count': 372.0, 'mean': 41.011912793489664, 'std': 8.161183506892678, 'min': 0.0, '25%': 37.75651873393747, '50%': 42.59772185074324, '75%': 46.45729351883452, 'max': 60.530157996453454}, 'brake': {'count': 372.0, 'mean': 8.372024867424015, 'std': 1.3818959012647383, 'min': 5.765353062842441, '25%': 6.994336217850715, '50%': 8.655244943778886, '75%': 9.334421994286531, 'max': 10.489945107451348}, 'temp': {'count': 372.0, 'mean': 46.206256165318514, 'std': 6.510325497412189, 'min': 39.55516283851402, '25%': 41.74912393957488, '50%': 43.78076199743899, '75%': 51.836949518359845, 'max': 86.91367222337608}, 'vibration': {'count': 372.0, 'mean': 6.679446363496393, 'std': 1.7694858477190047, 'min': 1.6545831039066456, '25%': 5.438154986632186, '50%': 6.466810700691658, '75%': 7.545781996307509, 'max': 11.734446845018267}, 'battery': {'count': 372.0, 'mean': 62.26330471911752, 'std': 19.341847153121773, 'min': 27.8002326625765, '25%': 50.91340006027384, '50%': 61.356335563028395, '75%': 69.44085178683395, 'max': 100.79810512607938}, 'Height_m': {'count': 372.0, 'mean': 3.266666666666666, 'std': 0.8112076562972148, 'min': 2.08, '25%': 2.62, '50%': 3.035, '75%': 4.06, 'max': 4.46}, 'Length_m': {'count': 372.0, 'mean': 16.900833333333335, 'std': 4.242011754364774, 'min': 10.5, '25%': 13.307500000000001, '50%': 16.91, '75%': 18.98, 'max': 24.11}, 'Width_m': {'count': 372.0, 'mean': 2.976666666666667, 'std': 0.3098337379840544, 'min': 2.53, '25%': 2.7224999999999997, '50%': 3.005, '75%': 3.2675, 'max': 3.4}, 'Capacity_tons': {'count': 372.0, 'mean': 61.333333333333336, 'std': 26.50365720919876, 'min': 27.0, '25%': 37.5, '50%': 64.0, '75%': 78.5, 'max': 113.0}}",
         "\nCreate an HTML report for IIoT sensor data and failures for Charles and Sons with three sections. In a first section, provide a written a summary of the most important overall details using only text. In a second section, provide a summary paragraph and a table for details on failures. In the third section, summarize measurements details first in a written paragraph and then in a table. Make sure the report looks professional when subsequently transformed into a pdf with fpdf2. Also, don't include anything unnecessary like descriptions of how you have created the report or newline symbols. Here is the json summary of the recent data:\n- Failure Details: {'n_recent_failures': 2, 'n_percentage_failed': 100.0, 'n_failures_by_type': {}, 'failure_ids': ['WGN-97252', 'WGN-26650'], 'failure_details': [{'timestamp': Timestamp('2025-07-25 00:00:00+0000', tz='UTC'), 'repair_time': Timestamp('2025-07-26 00:00:00+0000', tz='UTC'), 'downtime': '1 days 00:00:00', 'cause': 'axle failure', 'id': 'WGN-97252', 'Sensor_Installation_Date': datetime.date(2021, 8, 29), 'Manufacture_Date': datetime.date(2006, 6, 22), 'Operator': 'Charles and Sons', 'Height_m': 2.78, 'Length_m': 23.9, 'Owner': 'Davis, Short and Neal', 'Width_m': 3.4, 'Capacity_tons': 38, 'Type': 'Refrigerator Car'}, {'timestamp': Timestamp('2025-07-28 00:00:00+0000', tz='UTC'), 'repair_time': Timestamp('2025-07-28 21:00:00+0000', tz='UTC'), 'downtime': '0 days 21:00:00', 'cause': 'battery failure', 'id': 'WGN-26650', 'Sensor_Installation_Date': datetime.date(2023, 9, 24), 'Manufacture_Date': datetime.date(2019, 10, 9), 'Operator': 'Charles and Sons', 'Height_m': 2.59, 'Length_m': 17.84, 'Owner': 'Johnson, Stevens and Young', 'Width_m': 2.96, 'Capacity_tons': 80, 'Type': 'Flatcar'}]}\n- Measurement Details: {'speed': {'count': 372.0, 'mean': 41.011912793489664, 'std': 8.161183506892678, 'min': 0.0, '25%': 37.75651873393747, '50%': 42.59772185074324, '75%': 46.45729351883452, 'max': 60.530157996453454}, 'brake': {'count': 372.0, 'mean': 8.372024867424015, 'std': 1.3818959012647383, 'min': 5.765353062842441, '25%': 6.994336217850715, '50%': 8.655244943778886, '75%': 9.334421994286531, 'max': 10.489945107451348}, 'temp': {'count': 372.0, 'mean': 46.206256165318514, 'std': 6.510325497412189, 'min': 39.55516283851402, '25%': 41.74912393957488, '50%': 43.78076199743899, '75%': 51.836949518359845, 'max': 86.91367222337608}, 'vibration': {'count': 372.0, 'mean': 6.679446363496393, 'std': 1.7694858477190047, 'min': 1.6545831039066456, '25%': 5.438154986632186, '50%': 6.466810700691658, '75%': 7.545781996307509, 'max': 11.734446845018267}, 'battery': {'count': 372.0, 'mean': 62.26330471911752, 'std': 19.341847153121773, 'min': 27.8002326625765, '25%': 50.91340006027384, '50%': 61.356335563028395, '75%': 69.44085178683395, 'max': 100.79810512607938}, 'Height_m': {'count': 372.0, 'mean': 3.266666666666666, 'std': 0.8112076562972148, 'min': 2.08, '25%': 2.62, '50%': 3.035, '75%': 4.06, 'max': 4.46}, 'Length_m': {'count': 372.0, 'mean': 16.900833333333335, 'std': 4.242011754364774, 'min': 10.5, '25%': 13.307500000000001, '50%': 16.91, '75%': 18.98, 'max': 24.11}, 'Width_m': {'count': 372.0, 'mean': 2.976666666666667, 'std': 0.3098337379840544, 'min': 2.53, '25%': 2.7224999999999997, '50%': 3.005, '75%': 3.2675, 'max': 3.4}, 'Capacity_tons': {'count': 372.0, 'mean': 61.333333333333336, 'std': 26.50365720919876, 'min': 27.0, '25%': 37.5, '50%': 64.0, '75%': 78.5, 'max': 113.0}}\n"
        ],
        [
         "2",
         "Harris-Jenkins",
         "{'n_recent_failures': 1, 'n_percentage_failed': 100.0, 'n_failures_by_type': {}, 'failure_ids': ['WGN-22379'], 'failure_details': [{'timestamp': Timestamp('2025-07-03 00:00:00+0000', tz='UTC'), 'repair_time': Timestamp('2025-07-03 12:00:00+0000', tz='UTC'), 'downtime': '0 days 12:00:00', 'cause': 'brakes failure', 'id': 'WGN-22379', 'Sensor_Installation_Date': datetime.date(2022, 12, 25), 'Manufacture_Date': datetime.date(2014, 11, 2), 'Operator': 'Harris-Jenkins', 'Height_m': 2.97, 'Length_m': 14.33, 'Owner': 'Leach-Thompson', 'Width_m': 3.29, 'Capacity_tons': 32, 'Type': 'Hopper'}]}",
         "{'speed': {'count': 403.0, 'mean': 39.785151370287004, 'std': 11.990008557466362, 'min': 0.0, '25%': 27.41133092414779, '50%': 40.942825563154166, '75%': 49.285365750414826, 'max': 60.51320219370603}, 'brake': {'count': 403.0, 'mean': 7.524625189099728, 'std': 1.6367842551906748, 'min': 4.793185643176739, '25%': 6.306470289284533, '50%': 7.08059946917484, '75%': 9.227297813548805, 'max': 10.239023090397875}, 'temp': {'count': 403.0, 'mean': 47.70551912274819, 'std': 5.46674704888813, 'min': 39.1141365864401, '25%': 43.248243282067335, '50%': 48.32770072554482, '75%': 50.92138471609327, 'max': 86.1278650038919}, 'vibration': {'count': 403.0, 'mean': 7.007485307540327, 'std': 2.93121556670343, 'min': 1.7943800211150516, '25%': 4.706583348573021, '50%': 6.752546798146512, '75%': 10.139459905784722, 'max': 12.155227975059796}, 'battery': {'count': 403.0, 'mean': 67.51356274203447, 'std': 22.30983592927157, 'min': 13.536955441398883, '25%': 62.34526060827734, '50%': 67.35141461709978, '75%': 84.95256844037915, 'max': 99.09740291491383}, 'Height_m': {'count': 403.0, 'mean': 3.406923076923077, 'std': 0.7507872892967844, 'min': 2.02, '25%': 2.97, '50%': 3.26, '75%': 4.17, 'max': 4.34}, 'Length_m': {'count': 403.0, 'mean': 16.753846153846155, 'std': 5.042517173883427, 'min': 8.2, '25%': 13.34, '50%': 17.22, '75%': 20.96, 'max': 24.74}, 'Width_m': {'count': 403.0, 'mean': 3.0738461538461546, 'std': 0.29253115011041403, 'min': 2.5, '25%': 3.01, '50%': 3.18, '75%': 3.27, 'max': 3.44}, 'Capacity_tons': {'count': 403.0, 'mean': 65.53846153846153, 'std': 29.29546489303234, 'min': 21.0, '25%': 55.0, '50%': 62.0, '75%': 95.0, 'max': 114.0}}",
         "\nCreate an HTML report for IIoT sensor data and failures for Harris-Jenkins with three sections. In a first section, provide a written a summary of the most important overall details using only text. In a second section, provide a summary paragraph and a table for details on failures. In the third section, summarize measurements details first in a written paragraph and then in a table. Make sure the report looks professional when subsequently transformed into a pdf with fpdf2. Also, don't include anything unnecessary like descriptions of how you have created the report or newline symbols. Here is the json summary of the recent data:\n- Failure Details: {'n_recent_failures': 1, 'n_percentage_failed': 100.0, 'n_failures_by_type': {}, 'failure_ids': ['WGN-22379'], 'failure_details': [{'timestamp': Timestamp('2025-07-03 00:00:00+0000', tz='UTC'), 'repair_time': Timestamp('2025-07-03 12:00:00+0000', tz='UTC'), 'downtime': '0 days 12:00:00', 'cause': 'brakes failure', 'id': 'WGN-22379', 'Sensor_Installation_Date': datetime.date(2022, 12, 25), 'Manufacture_Date': datetime.date(2014, 11, 2), 'Operator': 'Harris-Jenkins', 'Height_m': 2.97, 'Length_m': 14.33, 'Owner': 'Leach-Thompson', 'Width_m': 3.29, 'Capacity_tons': 32, 'Type': 'Hopper'}]}\n- Measurement Details: {'speed': {'count': 403.0, 'mean': 39.785151370287004, 'std': 11.990008557466362, 'min': 0.0, '25%': 27.41133092414779, '50%': 40.942825563154166, '75%': 49.285365750414826, 'max': 60.51320219370603}, 'brake': {'count': 403.0, 'mean': 7.524625189099728, 'std': 1.6367842551906748, 'min': 4.793185643176739, '25%': 6.306470289284533, '50%': 7.08059946917484, '75%': 9.227297813548805, 'max': 10.239023090397875}, 'temp': {'count': 403.0, 'mean': 47.70551912274819, 'std': 5.46674704888813, 'min': 39.1141365864401, '25%': 43.248243282067335, '50%': 48.32770072554482, '75%': 50.92138471609327, 'max': 86.1278650038919}, 'vibration': {'count': 403.0, 'mean': 7.007485307540327, 'std': 2.93121556670343, 'min': 1.7943800211150516, '25%': 4.706583348573021, '50%': 6.752546798146512, '75%': 10.139459905784722, 'max': 12.155227975059796}, 'battery': {'count': 403.0, 'mean': 67.51356274203447, 'std': 22.30983592927157, 'min': 13.536955441398883, '25%': 62.34526060827734, '50%': 67.35141461709978, '75%': 84.95256844037915, 'max': 99.09740291491383}, 'Height_m': {'count': 403.0, 'mean': 3.406923076923077, 'std': 0.7507872892967844, 'min': 2.02, '25%': 2.97, '50%': 3.26, '75%': 4.17, 'max': 4.34}, 'Length_m': {'count': 403.0, 'mean': 16.753846153846155, 'std': 5.042517173883427, 'min': 8.2, '25%': 13.34, '50%': 17.22, '75%': 20.96, 'max': 24.74}, 'Width_m': {'count': 403.0, 'mean': 3.0738461538461546, 'std': 0.29253115011041403, 'min': 2.5, '25%': 3.01, '50%': 3.18, '75%': 3.27, 'max': 3.44}, 'Capacity_tons': {'count': 403.0, 'mean': 65.53846153846153, 'std': 29.29546489303234, 'min': 21.0, '25%': 55.0, '50%': 62.0, '75%': 95.0, 'max': 114.0}}\n"
        ],
        [
         "3",
         "Hendricks and Sons",
         "{'n_recent_failures': 1, 'n_percentage_failed': 100.0, 'n_failures_by_type': {}, 'failure_ids': ['WGN-39103'], 'failure_details': [{'timestamp': Timestamp('2025-07-20 00:00:00+0000', tz='UTC'), 'repair_time': Timestamp('2025-07-20 12:00:00+0000', tz='UTC'), 'downtime': '0 days 12:00:00', 'cause': 'cooling failure', 'id': 'WGN-39103', 'Sensor_Installation_Date': datetime.date(2024, 5, 18), 'Manufacture_Date': datetime.date(2003, 6, 9), 'Operator': 'Hendricks and Sons', 'Height_m': 4.39, 'Length_m': 18.24, 'Owner': 'Murphy-Patrick', 'Width_m': 3.28, 'Capacity_tons': 29, 'Type': 'Hopper'}]}",
         "{'speed': {'count': 248.0, 'mean': 45.71942146477024, 'std': 8.167020069296774, 'min': 0.0, '25%': 38.26634393605424, '50%': 47.83941981245556, '75%': 51.91458059294224, 'max': 54.526198244570445}, 'brake': {'count': 248.0, 'mean': 8.012535370038092, 'std': 1.5486127935739582, 'min': 5.532765614782586, '25%': 6.64885495510483, '50%': 7.998730158676263, '75%': 9.00824464886665, 'max': 10.591153195704504}, 'temp': {'count': 248.0, 'mean': 47.23419822744001, 'std': 5.841553892271761, 'min': 39.05817299250932, '25%': 42.285966708686445, '50%': 45.0878880257135, '75%': 52.184640515767725, 'max': 78.85143868479567}, 'vibration': {'count': 248.0, 'mean': 5.51954635894316, 'std': 1.8601295710794876, 'min': 3.2596943193744443, '25%': 3.8840222865934173, '50%': 5.056134254985501, '75%': 7.334856080940937, 'max': 13.395687627823133}, 'battery': {'count': 248.0, 'mean': 61.383957915523986, 'std': 25.1866640307636, 'min': 12.534350566665397, '25%': 42.29798557710144, '50%': 69.51676655461719, '75%': 76.5291845939192, 'max': 99.25728557525859}, 'Height_m': {'count': 248.0, 'mean': 2.95625, 'std': 0.7556792062462989, 'min': 2.01, '25%': 2.5425, '50%': 2.745, '75%': 3.2225, 'max': 4.39}, 'Length_m': {'count': 248.0, 'mean': 15.6175, 'std': 4.786286859647467, 'min': 9.44, '25%': 11.245000000000001, '50%': 15.68, '75%': 18.9975, 'max': 22.95}, 'Width_m': {'count': 248.0, 'mean': 3.0212499999999998, 'std': 0.2831682558720226, 'min': 2.55, '25%': 2.8775, '50%': 2.9400000000000004, '75%': 3.3, 'max': 3.41}, 'Capacity_tons': {'count': 248.0, 'mean': 81.125, 'std': 29.446659729598693, 'min': 29.0, '25%': 64.5, '50%': 91.5, '75%': 103.25, 'max': 116.0}}",
         "\nCreate an HTML report for IIoT sensor data and failures for Hendricks and Sons with three sections. In a first section, provide a written a summary of the most important overall details using only text. In a second section, provide a summary paragraph and a table for details on failures. In the third section, summarize measurements details first in a written paragraph and then in a table. Make sure the report looks professional when subsequently transformed into a pdf with fpdf2. Also, don't include anything unnecessary like descriptions of how you have created the report or newline symbols. Here is the json summary of the recent data:\n- Failure Details: {'n_recent_failures': 1, 'n_percentage_failed': 100.0, 'n_failures_by_type': {}, 'failure_ids': ['WGN-39103'], 'failure_details': [{'timestamp': Timestamp('2025-07-20 00:00:00+0000', tz='UTC'), 'repair_time': Timestamp('2025-07-20 12:00:00+0000', tz='UTC'), 'downtime': '0 days 12:00:00', 'cause': 'cooling failure', 'id': 'WGN-39103', 'Sensor_Installation_Date': datetime.date(2024, 5, 18), 'Manufacture_Date': datetime.date(2003, 6, 9), 'Operator': 'Hendricks and Sons', 'Height_m': 4.39, 'Length_m': 18.24, 'Owner': 'Murphy-Patrick', 'Width_m': 3.28, 'Capacity_tons': 29, 'Type': 'Hopper'}]}\n- Measurement Details: {'speed': {'count': 248.0, 'mean': 45.71942146477024, 'std': 8.167020069296774, 'min': 0.0, '25%': 38.26634393605424, '50%': 47.83941981245556, '75%': 51.91458059294224, 'max': 54.526198244570445}, 'brake': {'count': 248.0, 'mean': 8.012535370038092, 'std': 1.5486127935739582, 'min': 5.532765614782586, '25%': 6.64885495510483, '50%': 7.998730158676263, '75%': 9.00824464886665, 'max': 10.591153195704504}, 'temp': {'count': 248.0, 'mean': 47.23419822744001, 'std': 5.841553892271761, 'min': 39.05817299250932, '25%': 42.285966708686445, '50%': 45.0878880257135, '75%': 52.184640515767725, 'max': 78.85143868479567}, 'vibration': {'count': 248.0, 'mean': 5.51954635894316, 'std': 1.8601295710794876, 'min': 3.2596943193744443, '25%': 3.8840222865934173, '50%': 5.056134254985501, '75%': 7.334856080940937, 'max': 13.395687627823133}, 'battery': {'count': 248.0, 'mean': 61.383957915523986, 'std': 25.1866640307636, 'min': 12.534350566665397, '25%': 42.29798557710144, '50%': 69.51676655461719, '75%': 76.5291845939192, 'max': 99.25728557525859}, 'Height_m': {'count': 248.0, 'mean': 2.95625, 'std': 0.7556792062462989, 'min': 2.01, '25%': 2.5425, '50%': 2.745, '75%': 3.2225, 'max': 4.39}, 'Length_m': {'count': 248.0, 'mean': 15.6175, 'std': 4.786286859647467, 'min': 9.44, '25%': 11.245000000000001, '50%': 15.68, '75%': 18.9975, 'max': 22.95}, 'Width_m': {'count': 248.0, 'mean': 3.0212499999999998, 'std': 0.2831682558720226, 'min': 2.55, '25%': 2.8775, '50%': 2.9400000000000004, '75%': 3.3, 'max': 3.41}, 'Capacity_tons': {'count': 248.0, 'mean': 81.125, 'std': 29.446659729598693, 'min': 29.0, '25%': 64.5, '50%': 91.5, '75%': 103.25, 'max': 116.0}}\n"
        ],
        [
         "4",
         "Martin, Rogers and Mitchell",
         null,
         "{'speed': {'count': 279.0, 'mean': 48.59862402932292, 'std': 6.825078984496925, 'min': 34.41953710708957, '25%': 44.59664564280175, '50%': 49.69683597523199, '75%': 52.591395518167545, 'max': 60.70645143349686}, 'brake': {'count': 279.0, 'mean': 7.465928121413513, 'std': 1.3137390352490959, 'min': 4.915917058346104, '25%': 6.892848537594361, '50%': 7.471749840628172, '75%': 8.213335298146683, 'max': 10.143260405040703}, 'temp': {'count': 279.0, 'mean': 49.9568902967245, 'std': 5.2782350213971965, 'min': 39.81401772611834, '25%': 48.71156584363343, '50%': 51.39990585611531, '75%': 54.21005534618765, 'max': 56.821994616295235}, 'vibration': {'count': 279.0, 'mean': 4.847900196177021, 'std': 1.712346993419659, 'min': 1.8469178763670908, '25%': 3.8473197812155324, '50%': 4.52530546631078, '75%': 5.898301747469688, 'max': 8.671651607928004}, 'battery': {'count': 279.0, 'mean': 69.4840685206214, 'std': 27.69148182262342, 'min': 4.847089727569907, '25%': 54.696154409666065, '50%': 77.40198156189601, '75%': 91.23051773918945, 'max': 96.06442037441589}, 'Height_m': {'count': 279.0, 'mean': 3.207777777777778, 'std': 0.5969973495181822, 'min': 2.12, '25%': 2.91, '50%': 3.25, '75%': 3.66, 'max': 4.02}, 'Length_m': {'count': 279.0, 'mean': 16.536666666666665, 'std': 5.327747509518432, 'min': 8.42, '25%': 14.21, '50%': 15.45, '75%': 22.08, 'max': 24.02}, 'Width_m': {'count': 279.0, 'mean': 3.0833333333333335, 'std': 0.19072183971397952, 'min': 2.81, '25%': 2.93, '50%': 3.05, '75%': 3.23, 'max': 3.45}, 'Capacity_tons': {'count': 279.0, 'mean': 62.0, 'std': 30.15392168202596, 'min': 22.0, '25%': 44.0, '50%': 66.0, '75%': 74.0, 'max': 117.0}}",
         "\nCreate an HTML report for IIoT sensor data and failures for Martin, Rogers and Mitchell with three sections. In a first section, provide a written a summary of the most important overall details using only text. In a second section, provide a summary paragraph and a table for details on failures. In the third section, summarize measurements details first in a written paragraph and then in a table. Make sure the report looks professional when subsequently transformed into a pdf with fpdf2. Also, don't include anything unnecessary like descriptions of how you have created the report or newline symbols. Here is the json summary of the recent data:\n- Failure Details: nan\n- Measurement Details: {'speed': {'count': 279.0, 'mean': 48.59862402932292, 'std': 6.825078984496925, 'min': 34.41953710708957, '25%': 44.59664564280175, '50%': 49.69683597523199, '75%': 52.591395518167545, 'max': 60.70645143349686}, 'brake': {'count': 279.0, 'mean': 7.465928121413513, 'std': 1.3137390352490959, 'min': 4.915917058346104, '25%': 6.892848537594361, '50%': 7.471749840628172, '75%': 8.213335298146683, 'max': 10.143260405040703}, 'temp': {'count': 279.0, 'mean': 49.9568902967245, 'std': 5.2782350213971965, 'min': 39.81401772611834, '25%': 48.71156584363343, '50%': 51.39990585611531, '75%': 54.21005534618765, 'max': 56.821994616295235}, 'vibration': {'count': 279.0, 'mean': 4.847900196177021, 'std': 1.712346993419659, 'min': 1.8469178763670908, '25%': 3.8473197812155324, '50%': 4.52530546631078, '75%': 5.898301747469688, 'max': 8.671651607928004}, 'battery': {'count': 279.0, 'mean': 69.4840685206214, 'std': 27.69148182262342, 'min': 4.847089727569907, '25%': 54.696154409666065, '50%': 77.40198156189601, '75%': 91.23051773918945, 'max': 96.06442037441589}, 'Height_m': {'count': 279.0, 'mean': 3.207777777777778, 'std': 0.5969973495181822, 'min': 2.12, '25%': 2.91, '50%': 3.25, '75%': 3.66, 'max': 4.02}, 'Length_m': {'count': 279.0, 'mean': 16.536666666666665, 'std': 5.327747509518432, 'min': 8.42, '25%': 14.21, '50%': 15.45, '75%': 22.08, 'max': 24.02}, 'Width_m': {'count': 279.0, 'mean': 3.0833333333333335, 'std': 0.19072183971397952, 'min': 2.81, '25%': 2.93, '50%': 3.05, '75%': 3.23, 'max': 3.45}, 'Capacity_tons': {'count': 279.0, 'mean': 62.0, 'std': 30.15392168202596, 'min': 22.0, '25%': 44.0, '50%': 66.0, '75%': 74.0, 'max': 117.0}}\n"
        ],
        [
         "5",
         "Rodriguez and Sons",
         "{'n_recent_failures': 1, 'n_percentage_failed': 100.0, 'n_failures_by_type': {}, 'failure_ids': ['WGN-17692'], 'failure_details': [{'timestamp': Timestamp('2025-07-04 00:00:00+0000', tz='UTC'), 'repair_time': Timestamp('2025-07-04 05:00:00+0000', tz='UTC'), 'downtime': '0 days 05:00:00', 'cause': 'brakes failure', 'id': 'WGN-17692', 'Sensor_Installation_Date': datetime.date(2020, 12, 7), 'Manufacture_Date': datetime.date(2004, 6, 28), 'Operator': 'Rodriguez and Sons', 'Height_m': 3.84, 'Length_m': 11.62, 'Owner': 'Sandoval and Sons', 'Width_m': 3.29, 'Capacity_tons': 47, 'Type': 'Flatcar'}]}",
         "{'speed': {'count': 434.0, 'mean': 45.455624034621415, 'std': 11.292558859768935, 'min': 0.0, '25%': 36.384600023733995, '50%': 46.7401331424944, '75%': 56.53088414758736, 'max': 59.66073411418119}, 'brake': {'count': 434.0, 'mean': 7.270420066258451, 'std': 1.8827810183606999, 'min': 4.840583188976456, '25%': 6.062536654334684, '50%': 6.483955757653961, '75%': 8.316250172356979, 'max': 14.681099107339193}, 'temp': {'count': 434.0, 'mean': 49.73480890798067, 'std': 5.812690778054396, 'min': 41.2313026185544, '25%': 43.82985935087753, '50%': 49.34983574994961, '75%': 53.935762544928785, 'max': 84.93271930617679}, 'vibration': {'count': 434.0, 'mean': 5.6025825780977225, 'std': 2.7365672860872445, 'min': 1.8963381112789832, '25%': 2.8883580137982445, '50%': 5.2477012069760764, '75%': 7.885757191745476, 'max': 11.860081777026245}, 'battery': {'count': 434.0, 'mean': 65.28126764292998, 'std': 21.666904739959715, 'min': 24.121008345662553, '25%': 44.51125140461028, '50%': 71.69256776057212, '75%': 84.99891690609886, 'max': 94.6691335677019}, 'Height_m': {'count': 434.0, 'mean': 3.352142857142857, 'std': 0.5394722147968107, 'min': 2.47, '25%': 2.94, '50%': 3.395, '75%': 3.84, 'max': 4.08}, 'Length_m': {'count': 434.0, 'mean': 14.799285714285718, 'std': 5.553953147310537, 'min': 8.05, '25%': 10.71, '50%': 13.355, '75%': 17.99, 'max': 24.81}, 'Width_m': {'count': 434.0, 'mean': 2.9492857142857147, 'std': 0.3601663670350871, 'min': 2.5, '25%': 2.59, '50%': 2.78, '75%': 3.32, 'max': 3.45}, 'Capacity_tons': {'count': 434.0, 'mean': 75.85714285714286, 'std': 25.847444732665206, 'min': 37.0, '25%': 47.0, '50%': 78.0, '75%': 100.0, 'max': 115.0}}",
         "\nCreate an HTML report for IIoT sensor data and failures for Rodriguez and Sons with three sections. In a first section, provide a written a summary of the most important overall details using only text. In a second section, provide a summary paragraph and a table for details on failures. In the third section, summarize measurements details first in a written paragraph and then in a table. Make sure the report looks professional when subsequently transformed into a pdf with fpdf2. Also, don't include anything unnecessary like descriptions of how you have created the report or newline symbols. Here is the json summary of the recent data:\n- Failure Details: {'n_recent_failures': 1, 'n_percentage_failed': 100.0, 'n_failures_by_type': {}, 'failure_ids': ['WGN-17692'], 'failure_details': [{'timestamp': Timestamp('2025-07-04 00:00:00+0000', tz='UTC'), 'repair_time': Timestamp('2025-07-04 05:00:00+0000', tz='UTC'), 'downtime': '0 days 05:00:00', 'cause': 'brakes failure', 'id': 'WGN-17692', 'Sensor_Installation_Date': datetime.date(2020, 12, 7), 'Manufacture_Date': datetime.date(2004, 6, 28), 'Operator': 'Rodriguez and Sons', 'Height_m': 3.84, 'Length_m': 11.62, 'Owner': 'Sandoval and Sons', 'Width_m': 3.29, 'Capacity_tons': 47, 'Type': 'Flatcar'}]}\n- Measurement Details: {'speed': {'count': 434.0, 'mean': 45.455624034621415, 'std': 11.292558859768935, 'min': 0.0, '25%': 36.384600023733995, '50%': 46.7401331424944, '75%': 56.53088414758736, 'max': 59.66073411418119}, 'brake': {'count': 434.0, 'mean': 7.270420066258451, 'std': 1.8827810183606999, 'min': 4.840583188976456, '25%': 6.062536654334684, '50%': 6.483955757653961, '75%': 8.316250172356979, 'max': 14.681099107339193}, 'temp': {'count': 434.0, 'mean': 49.73480890798067, 'std': 5.812690778054396, 'min': 41.2313026185544, '25%': 43.82985935087753, '50%': 49.34983574994961, '75%': 53.935762544928785, 'max': 84.93271930617679}, 'vibration': {'count': 434.0, 'mean': 5.6025825780977225, 'std': 2.7365672860872445, 'min': 1.8963381112789832, '25%': 2.8883580137982445, '50%': 5.2477012069760764, '75%': 7.885757191745476, 'max': 11.860081777026245}, 'battery': {'count': 434.0, 'mean': 65.28126764292998, 'std': 21.666904739959715, 'min': 24.121008345662553, '25%': 44.51125140461028, '50%': 71.69256776057212, '75%': 84.99891690609886, 'max': 94.6691335677019}, 'Height_m': {'count': 434.0, 'mean': 3.352142857142857, 'std': 0.5394722147968107, 'min': 2.47, '25%': 2.94, '50%': 3.395, '75%': 3.84, 'max': 4.08}, 'Length_m': {'count': 434.0, 'mean': 14.799285714285718, 'std': 5.553953147310537, 'min': 8.05, '25%': 10.71, '50%': 13.355, '75%': 17.99, 'max': 24.81}, 'Width_m': {'count': 434.0, 'mean': 2.9492857142857147, 'std': 0.3601663670350871, 'min': 2.5, '25%': 2.59, '50%': 2.78, '75%': 3.32, 'max': 3.45}, 'Capacity_tons': {'count': 434.0, 'mean': 75.85714285714286, 'std': 25.847444732665206, 'min': 37.0, '25%': 47.0, '50%': 78.0, '75%': 100.0, 'max': 115.0}}\n"
        ],
        [
         "6",
         "Thomas Group",
         null,
         "{'speed': {'count': 217.0, 'mean': 43.41347044987767, 'std': 11.9611281904219, 'min': 18.33553564095418, '25%': 35.971471412909594, '50%': 45.89298541306748, '75%': 52.407393928027155, 'max': 59.415415982039846}, 'brake': {'count': 217.0, 'mean': 8.062914211574018, 'std': 1.262245925098994, 'min': 5.581690872546638, '25%': 6.932072507473942, '50%': 8.414078347276703, '75%': 8.790448602427674, 'max': 10.221380299807144}, 'temp': {'count': 217.0, 'mean': 47.04030577495117, 'std': 6.566457559948713, 'min': 39.80496889822762, '25%': 41.91218908218667, '50%': 43.62992563282292, '75%': 55.554509537629485, 'max': 59.26112524741004}, 'vibration': {'count': 217.0, 'mean': 6.171642376564242, 'std': 2.999492574365489, 'min': 2.2069203917485383, '25%': 3.9323561104864577, '50%': 5.544125940179721, '75%': 7.977780685325128, 'max': 12.665858246693352}, 'battery': {'count': 217.0, 'mean': 60.39092897713215, 'std': 27.83486943433378, 'min': -2.5461737548225214, '25%': 59.55113233997859, '50%': 63.14576909617921, '75%': 72.01417064625916, 'max': 98.75636936316064}, 'Height_m': {'count': 217.0, 'mean': 3.238571428571429, 'std': 0.7671159828975872, 'min': 2.02, '25%': 2.67, '50%': 3.19, '75%': 4.04, 'max': 4.49}, 'Length_m': {'count': 217.0, 'mean': 15.455714285714285, 'std': 5.4151176051170555, 'min': 9.07, '25%': 9.57, '50%': 13.1, '75%': 22.54, 'max': 22.76}, 'Width_m': {'count': 217.0, 'mean': 3.2600000000000002, 'std': 0.12947186166485355, 'min': 3.05, '25%': 3.16, '50%': 3.29, '75%': 3.34, 'max': 3.47}, 'Capacity_tons': {'count': 217.0, 'mean': 63.42857142857143, 'std': 29.11814558168844, 'min': 24.0, '25%': 26.0, '50%': 73.0, '75%': 97.0, 'max': 100.0}}",
         "\nCreate an HTML report for IIoT sensor data and failures for Thomas Group with three sections. In a first section, provide a written a summary of the most important overall details using only text. In a second section, provide a summary paragraph and a table for details on failures. In the third section, summarize measurements details first in a written paragraph and then in a table. Make sure the report looks professional when subsequently transformed into a pdf with fpdf2. Also, don't include anything unnecessary like descriptions of how you have created the report or newline symbols. Here is the json summary of the recent data:\n- Failure Details: nan\n- Measurement Details: {'speed': {'count': 217.0, 'mean': 43.41347044987767, 'std': 11.9611281904219, 'min': 18.33553564095418, '25%': 35.971471412909594, '50%': 45.89298541306748, '75%': 52.407393928027155, 'max': 59.415415982039846}, 'brake': {'count': 217.0, 'mean': 8.062914211574018, 'std': 1.262245925098994, 'min': 5.581690872546638, '25%': 6.932072507473942, '50%': 8.414078347276703, '75%': 8.790448602427674, 'max': 10.221380299807144}, 'temp': {'count': 217.0, 'mean': 47.04030577495117, 'std': 6.566457559948713, 'min': 39.80496889822762, '25%': 41.91218908218667, '50%': 43.62992563282292, '75%': 55.554509537629485, 'max': 59.26112524741004}, 'vibration': {'count': 217.0, 'mean': 6.171642376564242, 'std': 2.999492574365489, 'min': 2.2069203917485383, '25%': 3.9323561104864577, '50%': 5.544125940179721, '75%': 7.977780685325128, 'max': 12.665858246693352}, 'battery': {'count': 217.0, 'mean': 60.39092897713215, 'std': 27.83486943433378, 'min': -2.5461737548225214, '25%': 59.55113233997859, '50%': 63.14576909617921, '75%': 72.01417064625916, 'max': 98.75636936316064}, 'Height_m': {'count': 217.0, 'mean': 3.238571428571429, 'std': 0.7671159828975872, 'min': 2.02, '25%': 2.67, '50%': 3.19, '75%': 4.04, 'max': 4.49}, 'Length_m': {'count': 217.0, 'mean': 15.455714285714285, 'std': 5.4151176051170555, 'min': 9.07, '25%': 9.57, '50%': 13.1, '75%': 22.54, 'max': 22.76}, 'Width_m': {'count': 217.0, 'mean': 3.2600000000000002, 'std': 0.12947186166485355, 'min': 3.05, '25%': 3.16, '50%': 3.29, '75%': 3.34, 'max': 3.47}, 'Capacity_tons': {'count': 217.0, 'mean': 63.42857142857143, 'std': 29.11814558168844, 'min': 24.0, '25%': 26.0, '50%': 73.0, '75%': 97.0, 'max': 100.0}}\n"
        ],
        [
         "7",
         "Torres-Ortiz",
         "{'n_recent_failures': 1, 'n_percentage_failed': 100.0, 'n_failures_by_type': {}, 'failure_ids': ['WGN-37611'], 'failure_details': [{'timestamp': Timestamp('2025-07-24 00:00:00+0000', tz='UTC'), 'repair_time': Timestamp('2025-07-24 17:00:00+0000', tz='UTC'), 'downtime': '0 days 17:00:00', 'cause': 'battery failure', 'id': 'WGN-37611', 'Sensor_Installation_Date': datetime.date(2021, 5, 12), 'Manufacture_Date': datetime.date(1998, 10, 2), 'Operator': 'Torres-Ortiz', 'Height_m': 4.06, 'Length_m': 18.39, 'Owner': 'Wilson, Zavala and Taylor', 'Width_m': 3.1, 'Capacity_tons': 120, 'Type': 'Gondola'}]}",
         "{'speed': {'count': 186.0, 'mean': 45.156615870207865, 'std': 10.97367787841489, 'min': 0.0, '25%': 42.511678294017344, '50%': 46.82964324678711, '75%': 51.27158685320701, 'max': 60.28896648110277}, 'brake': {'count': 186.0, 'mean': 8.15593109181189, 'std': 1.6136818479307746, 'min': 6.066418323104998, '25%': 6.652911767396179, '50%': 7.907331414161506, '75%': 8.662772895707786, 'max': 11.374224935034743}, 'temp': {'count': 186.0, 'mean': 45.344500606284996, 'std': 5.36094262016517, 'min': 39.53605764249974, '25%': 41.46602524585883, '50%': 44.159342563907714, '75%': 46.197354520869155, 'max': 78.68483752045583}, 'vibration': {'count': 186.0, 'mean': 5.632982964410655, 'std': 2.4951176183234764, 'min': 1.8479630269664302, '25%': 4.1881200413115245, '50%': 5.372183335263792, '75%': 6.343902993335632, 'max': 10.937385985061272}, 'battery': {'count': 186.0, 'mean': 75.13466609970142, 'std': 10.01751795028275, 'min': 61.97109430658843, '25%': 66.09132203219032, '50%': 73.85641362267401, '75%': 82.17746450780731, 'max': 100.84583435239044}, 'Height_m': {'count': 186.0, 'mean': 2.8849999999999993, 'std': 0.6511820852174205, 'min': 2.08, '25%': 2.38, '50%': 2.74, '75%': 3.31, 'max': 4.06}, 'Length_m': {'count': 186.0, 'mean': 17.336666666666666, 'std': 4.173640405477482, 'min': 9.9, '25%': 15.68, '50%': 17.245, '75%': 21.63, 'max': 22.32}, 'Width_m': {'count': 186.0, 'mean': 3.0, 'std': 0.24479003689317544, 'min': 2.61, '25%': 2.79, '50%': 3.0549999999999997, '75%': 3.12, 'max': 3.37}, 'Capacity_tons': {'count': 186.0, 'mean': 92.0, 'std': 19.468894109266653, 'min': 59.0, '25%': 84.0, '50%': 91.0, '75%': 107.0, 'max': 120.0}}",
         "\nCreate an HTML report for IIoT sensor data and failures for Torres-Ortiz with three sections. In a first section, provide a written a summary of the most important overall details using only text. In a second section, provide a summary paragraph and a table for details on failures. In the third section, summarize measurements details first in a written paragraph and then in a table. Make sure the report looks professional when subsequently transformed into a pdf with fpdf2. Also, don't include anything unnecessary like descriptions of how you have created the report or newline symbols. Here is the json summary of the recent data:\n- Failure Details: {'n_recent_failures': 1, 'n_percentage_failed': 100.0, 'n_failures_by_type': {}, 'failure_ids': ['WGN-37611'], 'failure_details': [{'timestamp': Timestamp('2025-07-24 00:00:00+0000', tz='UTC'), 'repair_time': Timestamp('2025-07-24 17:00:00+0000', tz='UTC'), 'downtime': '0 days 17:00:00', 'cause': 'battery failure', 'id': 'WGN-37611', 'Sensor_Installation_Date': datetime.date(2021, 5, 12), 'Manufacture_Date': datetime.date(1998, 10, 2), 'Operator': 'Torres-Ortiz', 'Height_m': 4.06, 'Length_m': 18.39, 'Owner': 'Wilson, Zavala and Taylor', 'Width_m': 3.1, 'Capacity_tons': 120, 'Type': 'Gondola'}]}\n- Measurement Details: {'speed': {'count': 186.0, 'mean': 45.156615870207865, 'std': 10.97367787841489, 'min': 0.0, '25%': 42.511678294017344, '50%': 46.82964324678711, '75%': 51.27158685320701, 'max': 60.28896648110277}, 'brake': {'count': 186.0, 'mean': 8.15593109181189, 'std': 1.6136818479307746, 'min': 6.066418323104998, '25%': 6.652911767396179, '50%': 7.907331414161506, '75%': 8.662772895707786, 'max': 11.374224935034743}, 'temp': {'count': 186.0, 'mean': 45.344500606284996, 'std': 5.36094262016517, 'min': 39.53605764249974, '25%': 41.46602524585883, '50%': 44.159342563907714, '75%': 46.197354520869155, 'max': 78.68483752045583}, 'vibration': {'count': 186.0, 'mean': 5.632982964410655, 'std': 2.4951176183234764, 'min': 1.8479630269664302, '25%': 4.1881200413115245, '50%': 5.372183335263792, '75%': 6.343902993335632, 'max': 10.937385985061272}, 'battery': {'count': 186.0, 'mean': 75.13466609970142, 'std': 10.01751795028275, 'min': 61.97109430658843, '25%': 66.09132203219032, '50%': 73.85641362267401, '75%': 82.17746450780731, 'max': 100.84583435239044}, 'Height_m': {'count': 186.0, 'mean': 2.8849999999999993, 'std': 0.6511820852174205, 'min': 2.08, '25%': 2.38, '50%': 2.74, '75%': 3.31, 'max': 4.06}, 'Length_m': {'count': 186.0, 'mean': 17.336666666666666, 'std': 4.173640405477482, 'min': 9.9, '25%': 15.68, '50%': 17.245, '75%': 21.63, 'max': 22.32}, 'Width_m': {'count': 186.0, 'mean': 3.0, 'std': 0.24479003689317544, 'min': 2.61, '25%': 2.79, '50%': 3.0549999999999997, '75%': 3.12, 'max': 3.37}, 'Capacity_tons': {'count': 186.0, 'mean': 92.0, 'std': 19.468894109266653, 'min': 59.0, '25%': 84.0, '50%': 91.0, '75%': 107.0, 'max': 120.0}}\n"
        ],
        [
         "8",
         "Wilson-Johnson",
         "{'n_recent_failures': 1, 'n_percentage_failed': 100.0, 'n_failures_by_type': {}, 'failure_ids': ['WGN-22477'], 'failure_details': [{'timestamp': Timestamp('2025-07-26 00:00:00+0000', tz='UTC'), 'repair_time': Timestamp('2025-07-26 22:00:00+0000', tz='UTC'), 'downtime': '0 days 22:00:00', 'cause': 'cooling failure', 'id': 'WGN-22477', 'Sensor_Installation_Date': datetime.date(2022, 7, 9), 'Manufacture_Date': datetime.date(2006, 11, 2), 'Operator': 'Wilson-Johnson', 'Height_m': 3.88, 'Length_m': 14.01, 'Owner': 'Wiley, Chavez and Gomez', 'Width_m': 2.98, 'Capacity_tons': 46, 'Type': 'Tank Car'}]}",
         "{'speed': {'count': 186.0, 'mean': 36.94627127574773, 'std': 11.632691200694577, 'min': 0.0, '25%': 29.83572935930571, '50%': 33.897180236352526, '75%': 46.851338312455105, 'max': 56.726383905444564}, 'brake': {'count': 186.0, 'mean': 7.883232847364777, 'std': 1.641506645706218, 'min': 5.397771947966494, '25%': 6.554837678322471, '50%': 7.835268196516653, '75%': 8.632731835194976, 'max': 11.055232708870777}, 'temp': {'count': 186.0, 'mean': 47.60723842579082, 'std': 7.468852283833504, 'min': 39.45854439925483, '25%': 40.89911282067469, '50%': 46.26202971719195, '75%': 52.10378681012991, 'max': 85.79743370829641}, 'vibration': {'count': 186.0, 'mean': 7.701514321462861, 'std': 2.806720617873101, 'min': 2.5940479113566304, '25%': 5.2861720364390745, '50%': 8.575591933909124, '75%': 9.615876426480305, 'max': 11.80450902953588}, 'battery': {'count': 186.0, 'mean': 73.36851520583765, 'std': 16.655411339839333, 'min': 53.41583562792985, '25%': 57.48719202852501, '50%': 68.59175767333093, '75%': 94.14844501142161, 'max': 98.27237792468279}, 'Height_m': {'count': 186.0, 'mean': 3.15, 'std': 0.6260247814799563, 'min': 2.41, '25%': 2.56, '50%': 3.08, '75%': 3.88, 'max': 3.89}, 'Length_m': {'count': 186.0, 'mean': 13.366666666666665, 'std': 3.579559185704849, 'min': 8.86, '25%': 10.15, '50%': 13.55, '75%': 14.01, 'max': 20.08}, 'Width_m': {'count': 186.0, 'mean': 3.031666666666667, 'std': 0.2443389685079552, 'min': 2.6, '25%': 2.88, '50%': 3.075, '75%': 3.25, 'max': 3.31}, 'Capacity_tons': {'count': 186.0, 'mean': 53.0, 'std': 26.236759852686983, 'min': 23.0, '25%': 24.0, '50%': 54.0, '75%': 64.0, 'max': 99.0}}",
         "\nCreate an HTML report for IIoT sensor data and failures for Wilson-Johnson with three sections. In a first section, provide a written a summary of the most important overall details using only text. In a second section, provide a summary paragraph and a table for details on failures. In the third section, summarize measurements details first in a written paragraph and then in a table. Make sure the report looks professional when subsequently transformed into a pdf with fpdf2. Also, don't include anything unnecessary like descriptions of how you have created the report or newline symbols. Here is the json summary of the recent data:\n- Failure Details: {'n_recent_failures': 1, 'n_percentage_failed': 100.0, 'n_failures_by_type': {}, 'failure_ids': ['WGN-22477'], 'failure_details': [{'timestamp': Timestamp('2025-07-26 00:00:00+0000', tz='UTC'), 'repair_time': Timestamp('2025-07-26 22:00:00+0000', tz='UTC'), 'downtime': '0 days 22:00:00', 'cause': 'cooling failure', 'id': 'WGN-22477', 'Sensor_Installation_Date': datetime.date(2022, 7, 9), 'Manufacture_Date': datetime.date(2006, 11, 2), 'Operator': 'Wilson-Johnson', 'Height_m': 3.88, 'Length_m': 14.01, 'Owner': 'Wiley, Chavez and Gomez', 'Width_m': 2.98, 'Capacity_tons': 46, 'Type': 'Tank Car'}]}\n- Measurement Details: {'speed': {'count': 186.0, 'mean': 36.94627127574773, 'std': 11.632691200694577, 'min': 0.0, '25%': 29.83572935930571, '50%': 33.897180236352526, '75%': 46.851338312455105, 'max': 56.726383905444564}, 'brake': {'count': 186.0, 'mean': 7.883232847364777, 'std': 1.641506645706218, 'min': 5.397771947966494, '25%': 6.554837678322471, '50%': 7.835268196516653, '75%': 8.632731835194976, 'max': 11.055232708870777}, 'temp': {'count': 186.0, 'mean': 47.60723842579082, 'std': 7.468852283833504, 'min': 39.45854439925483, '25%': 40.89911282067469, '50%': 46.26202971719195, '75%': 52.10378681012991, 'max': 85.79743370829641}, 'vibration': {'count': 186.0, 'mean': 7.701514321462861, 'std': 2.806720617873101, 'min': 2.5940479113566304, '25%': 5.2861720364390745, '50%': 8.575591933909124, '75%': 9.615876426480305, 'max': 11.80450902953588}, 'battery': {'count': 186.0, 'mean': 73.36851520583765, 'std': 16.655411339839333, 'min': 53.41583562792985, '25%': 57.48719202852501, '50%': 68.59175767333093, '75%': 94.14844501142161, 'max': 98.27237792468279}, 'Height_m': {'count': 186.0, 'mean': 3.15, 'std': 0.6260247814799563, 'min': 2.41, '25%': 2.56, '50%': 3.08, '75%': 3.88, 'max': 3.89}, 'Length_m': {'count': 186.0, 'mean': 13.366666666666665, 'std': 3.579559185704849, 'min': 8.86, '25%': 10.15, '50%': 13.55, '75%': 14.01, 'max': 20.08}, 'Width_m': {'count': 186.0, 'mean': 3.031666666666667, 'std': 0.2443389685079552, 'min': 2.6, '25%': 2.88, '50%': 3.075, '75%': 3.25, 'max': 3.31}, 'Capacity_tons': {'count': 186.0, 'mean': 53.0, 'std': 26.236759852686983, 'min': 23.0, '25%': 24.0, '50%': 54.0, '75%': 64.0, 'max': 99.0}}\n"
        ],
        [
         "9",
         "Wolfe and Sons",
         "{'n_recent_failures': 1, 'n_percentage_failed': 100.0, 'n_failures_by_type': {}, 'failure_ids': ['WGN-44982'], 'failure_details': [{'timestamp': Timestamp('2025-07-12 00:00:00+0000', tz='UTC'), 'repair_time': Timestamp('2025-07-12 10:00:00+0000', tz='UTC'), 'downtime': '0 days 10:00:00', 'cause': 'brakes failure', 'id': 'WGN-44982', 'Sensor_Installation_Date': datetime.date(2022, 12, 30), 'Manufacture_Date': datetime.date(2017, 4, 3), 'Operator': 'Wolfe and Sons', 'Height_m': 4.47, 'Length_m': 20.19, 'Owner': 'Hanson-Williams', 'Width_m': 3.36, 'Capacity_tons': 61, 'Type': 'Boxcar'}]}",
         "{'speed': {'count': 403.0, 'mean': 40.98080614287618, 'std': 10.422231319390027, 'min': 0.0, '25%': 30.793202055005853, '50%': 39.8348798501289, '75%': 50.42209620391674, 'max': 58.857419973393405}, 'brake': {'count': 403.0, 'mean': 8.136683883232541, 'std': 1.6548346580185243, 'min': 4.904354277492412, '25%': 6.21451857816338, '50%': 8.586492850089458, '75%': 9.152003128220779, 'max': 11.620877795034398}, 'temp': {'count': 403.0, 'mean': 46.259978221463214, 'std': 4.257397584451237, 'min': 40.49170500004389, '25%': 43.15312571144331, '50%': 45.74192280215237, '75%': 48.782838900483426, 'max': 81.50972793607336}, 'vibration': {'count': 403.0, 'mean': 6.706959289252247, 'std': 2.5005366388254457, 'min': 2.3070070415201362, '25%': 4.305571818814293, '50%': 7.066009661241528, '75%': 9.188657878358109, 'max': 10.712259569002887}, 'battery': {'count': 403.0, 'mean': 60.08737386674493, 'std': 16.73791021072591, 'min': 24.60979463458803, '25%': 54.6238671896547, '50%': 63.52702678142821, '75%': 67.96006425066798, 'max': 93.08245004453025}, 'Height_m': {'count': 403.0, 'mean': 3.5015384615384613, 'std': 0.7045884550075777, 'min': 2.2, '25%': 2.98, '50%': 3.52, '75%': 4.2, 'max': 4.47}, 'Length_m': {'count': 403.0, 'mean': 18.553076923076922, 'std': 4.456245933790721, 'min': 10.51, '25%': 16.41, '50%': 17.75, '75%': 22.91, 'max': 24.5}, 'Width_m': {'count': 403.0, 'mean': 3.0346153846153854, 'std': 0.32769440086724055, 'min': 2.51, '25%': 2.74, '50%': 3.18, '75%': 3.29, 'max': 3.42}, 'Capacity_tons': {'count': 403.0, 'mean': 64.46153846153847, 'std': 22.507387059676965, 'min': 31.0, '25%': 40.0, '50%': 61.0, '75%': 82.0, 'max': 100.0}}",
         "\nCreate an HTML report for IIoT sensor data and failures for Wolfe and Sons with three sections. In a first section, provide a written a summary of the most important overall details using only text. In a second section, provide a summary paragraph and a table for details on failures. In the third section, summarize measurements details first in a written paragraph and then in a table. Make sure the report looks professional when subsequently transformed into a pdf with fpdf2. Also, don't include anything unnecessary like descriptions of how you have created the report or newline symbols. Here is the json summary of the recent data:\n- Failure Details: {'n_recent_failures': 1, 'n_percentage_failed': 100.0, 'n_failures_by_type': {}, 'failure_ids': ['WGN-44982'], 'failure_details': [{'timestamp': Timestamp('2025-07-12 00:00:00+0000', tz='UTC'), 'repair_time': Timestamp('2025-07-12 10:00:00+0000', tz='UTC'), 'downtime': '0 days 10:00:00', 'cause': 'brakes failure', 'id': 'WGN-44982', 'Sensor_Installation_Date': datetime.date(2022, 12, 30), 'Manufacture_Date': datetime.date(2017, 4, 3), 'Operator': 'Wolfe and Sons', 'Height_m': 4.47, 'Length_m': 20.19, 'Owner': 'Hanson-Williams', 'Width_m': 3.36, 'Capacity_tons': 61, 'Type': 'Boxcar'}]}\n- Measurement Details: {'speed': {'count': 403.0, 'mean': 40.98080614287618, 'std': 10.422231319390027, 'min': 0.0, '25%': 30.793202055005853, '50%': 39.8348798501289, '75%': 50.42209620391674, 'max': 58.857419973393405}, 'brake': {'count': 403.0, 'mean': 8.136683883232541, 'std': 1.6548346580185243, 'min': 4.904354277492412, '25%': 6.21451857816338, '50%': 8.586492850089458, '75%': 9.152003128220779, 'max': 11.620877795034398}, 'temp': {'count': 403.0, 'mean': 46.259978221463214, 'std': 4.257397584451237, 'min': 40.49170500004389, '25%': 43.15312571144331, '50%': 45.74192280215237, '75%': 48.782838900483426, 'max': 81.50972793607336}, 'vibration': {'count': 403.0, 'mean': 6.706959289252247, 'std': 2.5005366388254457, 'min': 2.3070070415201362, '25%': 4.305571818814293, '50%': 7.066009661241528, '75%': 9.188657878358109, 'max': 10.712259569002887}, 'battery': {'count': 403.0, 'mean': 60.08737386674493, 'std': 16.73791021072591, 'min': 24.60979463458803, '25%': 54.6238671896547, '50%': 63.52702678142821, '75%': 67.96006425066798, 'max': 93.08245004453025}, 'Height_m': {'count': 403.0, 'mean': 3.5015384615384613, 'std': 0.7045884550075777, 'min': 2.2, '25%': 2.98, '50%': 3.52, '75%': 4.2, 'max': 4.47}, 'Length_m': {'count': 403.0, 'mean': 18.553076923076922, 'std': 4.456245933790721, 'min': 10.51, '25%': 16.41, '50%': 17.75, '75%': 22.91, 'max': 24.5}, 'Width_m': {'count': 403.0, 'mean': 3.0346153846153854, 'std': 0.32769440086724055, 'min': 2.51, '25%': 2.74, '50%': 3.18, '75%': 3.29, 'max': 3.42}, 'Capacity_tons': {'count': 403.0, 'mean': 64.46153846153847, 'std': 22.507387059676965, 'min': 31.0, '25%': 40.0, '50%': 61.0, '75%': 82.0, 'max': 100.0}}\n"
        ]
       ],
       "shape": {
        "columns": 4,
        "rows": 10
       }
      },
      "text/html": [
       "<div>\n",
       "<style scoped>\n",
       "    .dataframe tbody tr th:only-of-type {\n",
       "        vertical-align: middle;\n",
       "    }\n",
       "\n",
       "    .dataframe tbody tr th {\n",
       "        vertical-align: top;\n",
       "    }\n",
       "\n",
       "    .dataframe thead th {\n",
       "        text-align: right;\n",
       "    }\n",
       "</style>\n",
       "<table border=\"1\" class=\"dataframe\">\n",
       "  <thead>\n",
       "    <tr style=\"text-align: right;\">\n",
       "      <th></th>\n",
       "      <th>Operator</th>\n",
       "      <th>failure_details</th>\n",
       "      <th>measurement_details</th>\n",
       "      <th>prompt</th>\n",
       "    </tr>\n",
       "  </thead>\n",
       "  <tbody>\n",
       "    <tr>\n",
       "      <th>0</th>\n",
       "      <td>Brennan-Peterson</td>\n",
       "      <td>{'n_recent_failures': 1, 'n_percentage_failed'...</td>\n",
       "      <td>{'speed': {'count': 372.0, 'mean': 40.76988876...</td>\n",
       "      <td>\\nCreate an HTML report for IIoT sensor data a...</td>\n",
       "    </tr>\n",
       "    <tr>\n",
       "      <th>1</th>\n",
       "      <td>Charles and Sons</td>\n",
       "      <td>{'n_recent_failures': 2, 'n_percentage_failed'...</td>\n",
       "      <td>{'speed': {'count': 372.0, 'mean': 41.01191279...</td>\n",
       "      <td>\\nCreate an HTML report for IIoT sensor data a...</td>\n",
       "    </tr>\n",
       "    <tr>\n",
       "      <th>2</th>\n",
       "      <td>Harris-Jenkins</td>\n",
       "      <td>{'n_recent_failures': 1, 'n_percentage_failed'...</td>\n",
       "      <td>{'speed': {'count': 403.0, 'mean': 39.78515137...</td>\n",
       "      <td>\\nCreate an HTML report for IIoT sensor data a...</td>\n",
       "    </tr>\n",
       "    <tr>\n",
       "      <th>3</th>\n",
       "      <td>Hendricks and Sons</td>\n",
       "      <td>{'n_recent_failures': 1, 'n_percentage_failed'...</td>\n",
       "      <td>{'speed': {'count': 248.0, 'mean': 45.71942146...</td>\n",
       "      <td>\\nCreate an HTML report for IIoT sensor data a...</td>\n",
       "    </tr>\n",
       "    <tr>\n",
       "      <th>4</th>\n",
       "      <td>Martin, Rogers and Mitchell</td>\n",
       "      <td>NaN</td>\n",
       "      <td>{'speed': {'count': 279.0, 'mean': 48.59862402...</td>\n",
       "      <td>\\nCreate an HTML report for IIoT sensor data a...</td>\n",
       "    </tr>\n",
       "    <tr>\n",
       "      <th>5</th>\n",
       "      <td>Rodriguez and Sons</td>\n",
       "      <td>{'n_recent_failures': 1, 'n_percentage_failed'...</td>\n",
       "      <td>{'speed': {'count': 434.0, 'mean': 45.45562403...</td>\n",
       "      <td>\\nCreate an HTML report for IIoT sensor data a...</td>\n",
       "    </tr>\n",
       "    <tr>\n",
       "      <th>6</th>\n",
       "      <td>Thomas Group</td>\n",
       "      <td>NaN</td>\n",
       "      <td>{'speed': {'count': 217.0, 'mean': 43.41347044...</td>\n",
       "      <td>\\nCreate an HTML report for IIoT sensor data a...</td>\n",
       "    </tr>\n",
       "    <tr>\n",
       "      <th>7</th>\n",
       "      <td>Torres-Ortiz</td>\n",
       "      <td>{'n_recent_failures': 1, 'n_percentage_failed'...</td>\n",
       "      <td>{'speed': {'count': 186.0, 'mean': 45.15661587...</td>\n",
       "      <td>\\nCreate an HTML report for IIoT sensor data a...</td>\n",
       "    </tr>\n",
       "    <tr>\n",
       "      <th>8</th>\n",
       "      <td>Wilson-Johnson</td>\n",
       "      <td>{'n_recent_failures': 1, 'n_percentage_failed'...</td>\n",
       "      <td>{'speed': {'count': 186.0, 'mean': 36.94627127...</td>\n",
       "      <td>\\nCreate an HTML report for IIoT sensor data a...</td>\n",
       "    </tr>\n",
       "    <tr>\n",
       "      <th>9</th>\n",
       "      <td>Wolfe and Sons</td>\n",
       "      <td>{'n_recent_failures': 1, 'n_percentage_failed'...</td>\n",
       "      <td>{'speed': {'count': 403.0, 'mean': 40.98080614...</td>\n",
       "      <td>\\nCreate an HTML report for IIoT sensor data a...</td>\n",
       "    </tr>\n",
       "  </tbody>\n",
       "</table>\n",
       "</div>"
      ],
      "text/plain": [
       "                      Operator  \\\n",
       "0             Brennan-Peterson   \n",
       "1             Charles and Sons   \n",
       "2               Harris-Jenkins   \n",
       "3           Hendricks and Sons   \n",
       "4  Martin, Rogers and Mitchell   \n",
       "5           Rodriguez and Sons   \n",
       "6                 Thomas Group   \n",
       "7                 Torres-Ortiz   \n",
       "8               Wilson-Johnson   \n",
       "9               Wolfe and Sons   \n",
       "\n",
       "                                     failure_details  \\\n",
       "0  {'n_recent_failures': 1, 'n_percentage_failed'...   \n",
       "1  {'n_recent_failures': 2, 'n_percentage_failed'...   \n",
       "2  {'n_recent_failures': 1, 'n_percentage_failed'...   \n",
       "3  {'n_recent_failures': 1, 'n_percentage_failed'...   \n",
       "4                                                NaN   \n",
       "5  {'n_recent_failures': 1, 'n_percentage_failed'...   \n",
       "6                                                NaN   \n",
       "7  {'n_recent_failures': 1, 'n_percentage_failed'...   \n",
       "8  {'n_recent_failures': 1, 'n_percentage_failed'...   \n",
       "9  {'n_recent_failures': 1, 'n_percentage_failed'...   \n",
       "\n",
       "                                 measurement_details  \\\n",
       "0  {'speed': {'count': 372.0, 'mean': 40.76988876...   \n",
       "1  {'speed': {'count': 372.0, 'mean': 41.01191279...   \n",
       "2  {'speed': {'count': 403.0, 'mean': 39.78515137...   \n",
       "3  {'speed': {'count': 248.0, 'mean': 45.71942146...   \n",
       "4  {'speed': {'count': 279.0, 'mean': 48.59862402...   \n",
       "5  {'speed': {'count': 434.0, 'mean': 45.45562403...   \n",
       "6  {'speed': {'count': 217.0, 'mean': 43.41347044...   \n",
       "7  {'speed': {'count': 186.0, 'mean': 45.15661587...   \n",
       "8  {'speed': {'count': 186.0, 'mean': 36.94627127...   \n",
       "9  {'speed': {'count': 403.0, 'mean': 40.98080614...   \n",
       "\n",
       "                                              prompt  \n",
       "0  \\nCreate an HTML report for IIoT sensor data a...  \n",
       "1  \\nCreate an HTML report for IIoT sensor data a...  \n",
       "2  \\nCreate an HTML report for IIoT sensor data a...  \n",
       "3  \\nCreate an HTML report for IIoT sensor data a...  \n",
       "4  \\nCreate an HTML report for IIoT sensor data a...  \n",
       "5  \\nCreate an HTML report for IIoT sensor data a...  \n",
       "6  \\nCreate an HTML report for IIoT sensor data a...  \n",
       "7  \\nCreate an HTML report for IIoT sensor data a...  \n",
       "8  \\nCreate an HTML report for IIoT sensor data a...  \n",
       "9  \\nCreate an HTML report for IIoT sensor data a...  "
      ]
     },
     "execution_count": 133,
     "metadata": {},
     "output_type": "execute_result"
    }
   ],
   "source": [
    "details_for_report[\"prompt\"] = details_for_report.apply(lambda row: f\"\"\"\n",
    "Create an HTML report for IIoT sensor data and failures for {row[pdf_report_receiver]} with three sections. In a first section, provide a written a summary of the most important overall details using only text. In a second section, provide a summary paragraph and a table for details on failures. In the third section, summarize measurements details first in a written paragraph and then in a table. Make sure the report looks professional when subsequently transformed into a pdf with fpdf2. Also, don't include anything unnecessary like descriptions of how you have created the report or newline symbols. Here is the json summary of the recent data:\n",
    "- Failure Details: {row['failure_details']}\n",
    "- Measurement Details: {row['measurement_details']}\n",
    "\"\"\", axis=1)\n",
    "details_for_report"
   ]
  },
  {
   "cell_type": "code",
   "execution_count": null,
   "id": "5ed92ddb",
   "metadata": {},
   "outputs": [
    {
     "name": "stderr",
     "output_type": "stream",
     "text": [
      "100%|██████████| 1/1 [00:00<?, ?it/s]\n"
     ]
    }
   ],
   "source": [
    "report_details_table_name = f\"{bigquery_dataset}.reports_{TODAY_str}\"\n",
    "details_for_report[[pdf_report_receiver, \"prompt\"]].to_gbq(\n",
    "    destination_table=report_details_table_name,\n",
    "    project_id=project_id,\n",
    "    if_exists=\"replace\"\n",
    ")"
   ]
  },
  {
   "cell_type": "code",
   "execution_count": 135,
   "id": "1ff0d4dc",
   "metadata": {},
   "outputs": [
    {
     "data": {
      "application/vnd.microsoft.datawrangler.viewer.v0+json": {
       "columns": [
        {
         "name": "index",
         "rawType": "int64",
         "type": "integer"
        },
        {
         "name": "Operator",
         "rawType": "object",
         "type": "string"
        },
        {
         "name": "failure_details",
         "rawType": "object",
         "type": "unknown"
        },
        {
         "name": "measurement_details",
         "rawType": "object",
         "type": "unknown"
        },
        {
         "name": "prompt",
         "rawType": "object",
         "type": "string"
        }
       ],
       "ref": "551af593-130c-414e-b54d-b3f367a4bec8",
       "rows": [
        [
         "0",
         "Brennan-Peterson",
         "{'n_recent_failures': 1, 'n_percentage_failed': 100.0, 'n_failures_by_type': {}, 'failure_ids': ['WGN-53799'], 'failure_details': [{'timestamp': Timestamp('2025-07-10 00:00:00+0000', tz='UTC'), 'repair_time': Timestamp('2025-07-10 17:00:00+0000', tz='UTC'), 'downtime': '0 days 17:00:00', 'cause': 'cooling failure', 'id': 'WGN-53799', 'Sensor_Installation_Date': datetime.date(2024, 3, 1), 'Manufacture_Date': datetime.date(2000, 10, 18), 'Operator': 'Brennan-Peterson', 'Height_m': 3.16, 'Length_m': 8.16, 'Owner': 'Allen, Page and Larson', 'Width_m': 2.7, 'Capacity_tons': 116, 'Type': 'Tank Car'}]}",
         "{'speed': {'count': 372.0, 'mean': 40.76988876492697, 'std': 10.075364507283293, 'min': 0.0, '25%': 34.012368825539795, '50%': 39.97107825031186, '75%': 50.36205526770347, 'max': 56.73102655400077}, 'brake': {'count': 372.0, 'mean': 7.291122575878128, 'std': 1.7698575597663788, 'min': 5.209640797790172, '25%': 5.740613897912497, '50%': 7.118825227508356, '75%': 8.517232936152688, 'max': 10.868996234244095}, 'temp': {'count': 372.0, 'mean': 47.14605376509982, 'std': 4.58987714002921, 'min': 39.38057907028569, '25%': 43.627456151151435, '50%': 46.99970703930378, '75%': 49.416610490515644, 'max': 79.50175247748302}, 'vibration': {'count': 372.0, 'mean': 6.7762249896998075, 'std': 2.4143197386492563, 'min': 2.8572883015853447, '25%': 4.3783400233316865, '50%': 7.087905945304653, '75%': 8.50067265303591, 'max': 11.491250677187546}, 'battery': {'count': 372.0, 'mean': 67.34782862228222, 'std': 24.216397120975202, 'min': 11.191706356055008, '25%': 52.76047100742926, '50%': 74.69642058174367, '75%': 86.84825122230558, 'max': 98.77962843713145}, 'Height_m': {'count': 372.0, 'mean': 3.02, 'std': 0.7290946274258506, 'min': 2.06, '25%': 2.4699999999999998, '50%': 2.7800000000000002, '75%': 3.5199999999999996, 'max': 4.33}, 'Length_m': {'count': 372.0, 'mean': 16.900000000000002, 'std': 4.936610959231367, 'min': 8.16, '25%': 14.05, '50%': 16.655, '75%': 20.03, 'max': 24.81}, 'Width_m': {'count': 372.0, 'mean': 2.954166666666666, 'std': 0.3031854318888255, 'min': 2.54, '25%': 2.6950000000000003, '50%': 2.89, '75%': 3.25, 'max': 3.46}, 'Capacity_tons': {'count': 372.0, 'mean': 71.41666666666667, 'std': 33.23721879741507, 'min': 26.0, '25%': 40.5, '50%': 67.0, '75%': 106.0, 'max': 118.0}}",
         "\nCreate an HTML report for IIoT sensor data and failures for Brennan-Peterson with three sections. In a first section, provide a written a summary of the most important overall details using only text. In a second section, provide a summary paragraph and a table for details on failures. In the third section, summarize measurements details first in a written paragraph and then in a table. Make sure the report looks professional when subsequently transformed into a pdf with fpdf2. Also, don't include anything unnecessary like descriptions of how you have created the report or newline symbols. Here is the json summary of the recent data:\n- Failure Details: {'n_recent_failures': 1, 'n_percentage_failed': 100.0, 'n_failures_by_type': {}, 'failure_ids': ['WGN-53799'], 'failure_details': [{'timestamp': Timestamp('2025-07-10 00:00:00+0000', tz='UTC'), 'repair_time': Timestamp('2025-07-10 17:00:00+0000', tz='UTC'), 'downtime': '0 days 17:00:00', 'cause': 'cooling failure', 'id': 'WGN-53799', 'Sensor_Installation_Date': datetime.date(2024, 3, 1), 'Manufacture_Date': datetime.date(2000, 10, 18), 'Operator': 'Brennan-Peterson', 'Height_m': 3.16, 'Length_m': 8.16, 'Owner': 'Allen, Page and Larson', 'Width_m': 2.7, 'Capacity_tons': 116, 'Type': 'Tank Car'}]}\n- Measurement Details: {'speed': {'count': 372.0, 'mean': 40.76988876492697, 'std': 10.075364507283293, 'min': 0.0, '25%': 34.012368825539795, '50%': 39.97107825031186, '75%': 50.36205526770347, 'max': 56.73102655400077}, 'brake': {'count': 372.0, 'mean': 7.291122575878128, 'std': 1.7698575597663788, 'min': 5.209640797790172, '25%': 5.740613897912497, '50%': 7.118825227508356, '75%': 8.517232936152688, 'max': 10.868996234244095}, 'temp': {'count': 372.0, 'mean': 47.14605376509982, 'std': 4.58987714002921, 'min': 39.38057907028569, '25%': 43.627456151151435, '50%': 46.99970703930378, '75%': 49.416610490515644, 'max': 79.50175247748302}, 'vibration': {'count': 372.0, 'mean': 6.7762249896998075, 'std': 2.4143197386492563, 'min': 2.8572883015853447, '25%': 4.3783400233316865, '50%': 7.087905945304653, '75%': 8.50067265303591, 'max': 11.491250677187546}, 'battery': {'count': 372.0, 'mean': 67.34782862228222, 'std': 24.216397120975202, 'min': 11.191706356055008, '25%': 52.76047100742926, '50%': 74.69642058174367, '75%': 86.84825122230558, 'max': 98.77962843713145}, 'Height_m': {'count': 372.0, 'mean': 3.02, 'std': 0.7290946274258506, 'min': 2.06, '25%': 2.4699999999999998, '50%': 2.7800000000000002, '75%': 3.5199999999999996, 'max': 4.33}, 'Length_m': {'count': 372.0, 'mean': 16.900000000000002, 'std': 4.936610959231367, 'min': 8.16, '25%': 14.05, '50%': 16.655, '75%': 20.03, 'max': 24.81}, 'Width_m': {'count': 372.0, 'mean': 2.954166666666666, 'std': 0.3031854318888255, 'min': 2.54, '25%': 2.6950000000000003, '50%': 2.89, '75%': 3.25, 'max': 3.46}, 'Capacity_tons': {'count': 372.0, 'mean': 71.41666666666667, 'std': 33.23721879741507, 'min': 26.0, '25%': 40.5, '50%': 67.0, '75%': 106.0, 'max': 118.0}}\n"
        ],
        [
         "1",
         "Charles and Sons",
         "{'n_recent_failures': 2, 'n_percentage_failed': 100.0, 'n_failures_by_type': {}, 'failure_ids': ['WGN-97252', 'WGN-26650'], 'failure_details': [{'timestamp': Timestamp('2025-07-25 00:00:00+0000', tz='UTC'), 'repair_time': Timestamp('2025-07-26 00:00:00+0000', tz='UTC'), 'downtime': '1 days 00:00:00', 'cause': 'axle failure', 'id': 'WGN-97252', 'Sensor_Installation_Date': datetime.date(2021, 8, 29), 'Manufacture_Date': datetime.date(2006, 6, 22), 'Operator': 'Charles and Sons', 'Height_m': 2.78, 'Length_m': 23.9, 'Owner': 'Davis, Short and Neal', 'Width_m': 3.4, 'Capacity_tons': 38, 'Type': 'Refrigerator Car'}, {'timestamp': Timestamp('2025-07-28 00:00:00+0000', tz='UTC'), 'repair_time': Timestamp('2025-07-28 21:00:00+0000', tz='UTC'), 'downtime': '0 days 21:00:00', 'cause': 'battery failure', 'id': 'WGN-26650', 'Sensor_Installation_Date': datetime.date(2023, 9, 24), 'Manufacture_Date': datetime.date(2019, 10, 9), 'Operator': 'Charles and Sons', 'Height_m': 2.59, 'Length_m': 17.84, 'Owner': 'Johnson, Stevens and Young', 'Width_m': 2.96, 'Capacity_tons': 80, 'Type': 'Flatcar'}]}",
         "{'speed': {'count': 372.0, 'mean': 41.011912793489664, 'std': 8.161183506892678, 'min': 0.0, '25%': 37.75651873393747, '50%': 42.59772185074324, '75%': 46.45729351883452, 'max': 60.530157996453454}, 'brake': {'count': 372.0, 'mean': 8.372024867424015, 'std': 1.3818959012647383, 'min': 5.765353062842441, '25%': 6.994336217850715, '50%': 8.655244943778886, '75%': 9.334421994286531, 'max': 10.489945107451348}, 'temp': {'count': 372.0, 'mean': 46.206256165318514, 'std': 6.510325497412189, 'min': 39.55516283851402, '25%': 41.74912393957488, '50%': 43.78076199743899, '75%': 51.836949518359845, 'max': 86.91367222337608}, 'vibration': {'count': 372.0, 'mean': 6.679446363496393, 'std': 1.7694858477190047, 'min': 1.6545831039066456, '25%': 5.438154986632186, '50%': 6.466810700691658, '75%': 7.545781996307509, 'max': 11.734446845018267}, 'battery': {'count': 372.0, 'mean': 62.26330471911752, 'std': 19.341847153121773, 'min': 27.8002326625765, '25%': 50.91340006027384, '50%': 61.356335563028395, '75%': 69.44085178683395, 'max': 100.79810512607938}, 'Height_m': {'count': 372.0, 'mean': 3.266666666666666, 'std': 0.8112076562972148, 'min': 2.08, '25%': 2.62, '50%': 3.035, '75%': 4.06, 'max': 4.46}, 'Length_m': {'count': 372.0, 'mean': 16.900833333333335, 'std': 4.242011754364774, 'min': 10.5, '25%': 13.307500000000001, '50%': 16.91, '75%': 18.98, 'max': 24.11}, 'Width_m': {'count': 372.0, 'mean': 2.976666666666667, 'std': 0.3098337379840544, 'min': 2.53, '25%': 2.7224999999999997, '50%': 3.005, '75%': 3.2675, 'max': 3.4}, 'Capacity_tons': {'count': 372.0, 'mean': 61.333333333333336, 'std': 26.50365720919876, 'min': 27.0, '25%': 37.5, '50%': 64.0, '75%': 78.5, 'max': 113.0}}",
         "\nCreate an HTML report for IIoT sensor data and failures for Charles and Sons with three sections. In a first section, provide a written a summary of the most important overall details using only text. In a second section, provide a summary paragraph and a table for details on failures. In the third section, summarize measurements details first in a written paragraph and then in a table. Make sure the report looks professional when subsequently transformed into a pdf with fpdf2. Also, don't include anything unnecessary like descriptions of how you have created the report or newline symbols. Here is the json summary of the recent data:\n- Failure Details: {'n_recent_failures': 2, 'n_percentage_failed': 100.0, 'n_failures_by_type': {}, 'failure_ids': ['WGN-97252', 'WGN-26650'], 'failure_details': [{'timestamp': Timestamp('2025-07-25 00:00:00+0000', tz='UTC'), 'repair_time': Timestamp('2025-07-26 00:00:00+0000', tz='UTC'), 'downtime': '1 days 00:00:00', 'cause': 'axle failure', 'id': 'WGN-97252', 'Sensor_Installation_Date': datetime.date(2021, 8, 29), 'Manufacture_Date': datetime.date(2006, 6, 22), 'Operator': 'Charles and Sons', 'Height_m': 2.78, 'Length_m': 23.9, 'Owner': 'Davis, Short and Neal', 'Width_m': 3.4, 'Capacity_tons': 38, 'Type': 'Refrigerator Car'}, {'timestamp': Timestamp('2025-07-28 00:00:00+0000', tz='UTC'), 'repair_time': Timestamp('2025-07-28 21:00:00+0000', tz='UTC'), 'downtime': '0 days 21:00:00', 'cause': 'battery failure', 'id': 'WGN-26650', 'Sensor_Installation_Date': datetime.date(2023, 9, 24), 'Manufacture_Date': datetime.date(2019, 10, 9), 'Operator': 'Charles and Sons', 'Height_m': 2.59, 'Length_m': 17.84, 'Owner': 'Johnson, Stevens and Young', 'Width_m': 2.96, 'Capacity_tons': 80, 'Type': 'Flatcar'}]}\n- Measurement Details: {'speed': {'count': 372.0, 'mean': 41.011912793489664, 'std': 8.161183506892678, 'min': 0.0, '25%': 37.75651873393747, '50%': 42.59772185074324, '75%': 46.45729351883452, 'max': 60.530157996453454}, 'brake': {'count': 372.0, 'mean': 8.372024867424015, 'std': 1.3818959012647383, 'min': 5.765353062842441, '25%': 6.994336217850715, '50%': 8.655244943778886, '75%': 9.334421994286531, 'max': 10.489945107451348}, 'temp': {'count': 372.0, 'mean': 46.206256165318514, 'std': 6.510325497412189, 'min': 39.55516283851402, '25%': 41.74912393957488, '50%': 43.78076199743899, '75%': 51.836949518359845, 'max': 86.91367222337608}, 'vibration': {'count': 372.0, 'mean': 6.679446363496393, 'std': 1.7694858477190047, 'min': 1.6545831039066456, '25%': 5.438154986632186, '50%': 6.466810700691658, '75%': 7.545781996307509, 'max': 11.734446845018267}, 'battery': {'count': 372.0, 'mean': 62.26330471911752, 'std': 19.341847153121773, 'min': 27.8002326625765, '25%': 50.91340006027384, '50%': 61.356335563028395, '75%': 69.44085178683395, 'max': 100.79810512607938}, 'Height_m': {'count': 372.0, 'mean': 3.266666666666666, 'std': 0.8112076562972148, 'min': 2.08, '25%': 2.62, '50%': 3.035, '75%': 4.06, 'max': 4.46}, 'Length_m': {'count': 372.0, 'mean': 16.900833333333335, 'std': 4.242011754364774, 'min': 10.5, '25%': 13.307500000000001, '50%': 16.91, '75%': 18.98, 'max': 24.11}, 'Width_m': {'count': 372.0, 'mean': 2.976666666666667, 'std': 0.3098337379840544, 'min': 2.53, '25%': 2.7224999999999997, '50%': 3.005, '75%': 3.2675, 'max': 3.4}, 'Capacity_tons': {'count': 372.0, 'mean': 61.333333333333336, 'std': 26.50365720919876, 'min': 27.0, '25%': 37.5, '50%': 64.0, '75%': 78.5, 'max': 113.0}}\n"
        ],
        [
         "2",
         "Harris-Jenkins",
         "{'n_recent_failures': 1, 'n_percentage_failed': 100.0, 'n_failures_by_type': {}, 'failure_ids': ['WGN-22379'], 'failure_details': [{'timestamp': Timestamp('2025-07-03 00:00:00+0000', tz='UTC'), 'repair_time': Timestamp('2025-07-03 12:00:00+0000', tz='UTC'), 'downtime': '0 days 12:00:00', 'cause': 'brakes failure', 'id': 'WGN-22379', 'Sensor_Installation_Date': datetime.date(2022, 12, 25), 'Manufacture_Date': datetime.date(2014, 11, 2), 'Operator': 'Harris-Jenkins', 'Height_m': 2.97, 'Length_m': 14.33, 'Owner': 'Leach-Thompson', 'Width_m': 3.29, 'Capacity_tons': 32, 'Type': 'Hopper'}]}",
         "{'speed': {'count': 403.0, 'mean': 39.785151370287004, 'std': 11.990008557466362, 'min': 0.0, '25%': 27.41133092414779, '50%': 40.942825563154166, '75%': 49.285365750414826, 'max': 60.51320219370603}, 'brake': {'count': 403.0, 'mean': 7.524625189099728, 'std': 1.6367842551906748, 'min': 4.793185643176739, '25%': 6.306470289284533, '50%': 7.08059946917484, '75%': 9.227297813548805, 'max': 10.239023090397875}, 'temp': {'count': 403.0, 'mean': 47.70551912274819, 'std': 5.46674704888813, 'min': 39.1141365864401, '25%': 43.248243282067335, '50%': 48.32770072554482, '75%': 50.92138471609327, 'max': 86.1278650038919}, 'vibration': {'count': 403.0, 'mean': 7.007485307540327, 'std': 2.93121556670343, 'min': 1.7943800211150516, '25%': 4.706583348573021, '50%': 6.752546798146512, '75%': 10.139459905784722, 'max': 12.155227975059796}, 'battery': {'count': 403.0, 'mean': 67.51356274203447, 'std': 22.30983592927157, 'min': 13.536955441398883, '25%': 62.34526060827734, '50%': 67.35141461709978, '75%': 84.95256844037915, 'max': 99.09740291491383}, 'Height_m': {'count': 403.0, 'mean': 3.406923076923077, 'std': 0.7507872892967844, 'min': 2.02, '25%': 2.97, '50%': 3.26, '75%': 4.17, 'max': 4.34}, 'Length_m': {'count': 403.0, 'mean': 16.753846153846155, 'std': 5.042517173883427, 'min': 8.2, '25%': 13.34, '50%': 17.22, '75%': 20.96, 'max': 24.74}, 'Width_m': {'count': 403.0, 'mean': 3.0738461538461546, 'std': 0.29253115011041403, 'min': 2.5, '25%': 3.01, '50%': 3.18, '75%': 3.27, 'max': 3.44}, 'Capacity_tons': {'count': 403.0, 'mean': 65.53846153846153, 'std': 29.29546489303234, 'min': 21.0, '25%': 55.0, '50%': 62.0, '75%': 95.0, 'max': 114.0}}",
         "\nCreate an HTML report for IIoT sensor data and failures for Harris-Jenkins with three sections. In a first section, provide a written a summary of the most important overall details using only text. In a second section, provide a summary paragraph and a table for details on failures. In the third section, summarize measurements details first in a written paragraph and then in a table. Make sure the report looks professional when subsequently transformed into a pdf with fpdf2. Also, don't include anything unnecessary like descriptions of how you have created the report or newline symbols. Here is the json summary of the recent data:\n- Failure Details: {'n_recent_failures': 1, 'n_percentage_failed': 100.0, 'n_failures_by_type': {}, 'failure_ids': ['WGN-22379'], 'failure_details': [{'timestamp': Timestamp('2025-07-03 00:00:00+0000', tz='UTC'), 'repair_time': Timestamp('2025-07-03 12:00:00+0000', tz='UTC'), 'downtime': '0 days 12:00:00', 'cause': 'brakes failure', 'id': 'WGN-22379', 'Sensor_Installation_Date': datetime.date(2022, 12, 25), 'Manufacture_Date': datetime.date(2014, 11, 2), 'Operator': 'Harris-Jenkins', 'Height_m': 2.97, 'Length_m': 14.33, 'Owner': 'Leach-Thompson', 'Width_m': 3.29, 'Capacity_tons': 32, 'Type': 'Hopper'}]}\n- Measurement Details: {'speed': {'count': 403.0, 'mean': 39.785151370287004, 'std': 11.990008557466362, 'min': 0.0, '25%': 27.41133092414779, '50%': 40.942825563154166, '75%': 49.285365750414826, 'max': 60.51320219370603}, 'brake': {'count': 403.0, 'mean': 7.524625189099728, 'std': 1.6367842551906748, 'min': 4.793185643176739, '25%': 6.306470289284533, '50%': 7.08059946917484, '75%': 9.227297813548805, 'max': 10.239023090397875}, 'temp': {'count': 403.0, 'mean': 47.70551912274819, 'std': 5.46674704888813, 'min': 39.1141365864401, '25%': 43.248243282067335, '50%': 48.32770072554482, '75%': 50.92138471609327, 'max': 86.1278650038919}, 'vibration': {'count': 403.0, 'mean': 7.007485307540327, 'std': 2.93121556670343, 'min': 1.7943800211150516, '25%': 4.706583348573021, '50%': 6.752546798146512, '75%': 10.139459905784722, 'max': 12.155227975059796}, 'battery': {'count': 403.0, 'mean': 67.51356274203447, 'std': 22.30983592927157, 'min': 13.536955441398883, '25%': 62.34526060827734, '50%': 67.35141461709978, '75%': 84.95256844037915, 'max': 99.09740291491383}, 'Height_m': {'count': 403.0, 'mean': 3.406923076923077, 'std': 0.7507872892967844, 'min': 2.02, '25%': 2.97, '50%': 3.26, '75%': 4.17, 'max': 4.34}, 'Length_m': {'count': 403.0, 'mean': 16.753846153846155, 'std': 5.042517173883427, 'min': 8.2, '25%': 13.34, '50%': 17.22, '75%': 20.96, 'max': 24.74}, 'Width_m': {'count': 403.0, 'mean': 3.0738461538461546, 'std': 0.29253115011041403, 'min': 2.5, '25%': 3.01, '50%': 3.18, '75%': 3.27, 'max': 3.44}, 'Capacity_tons': {'count': 403.0, 'mean': 65.53846153846153, 'std': 29.29546489303234, 'min': 21.0, '25%': 55.0, '50%': 62.0, '75%': 95.0, 'max': 114.0}}\n"
        ],
        [
         "3",
         "Hendricks and Sons",
         "{'n_recent_failures': 1, 'n_percentage_failed': 100.0, 'n_failures_by_type': {}, 'failure_ids': ['WGN-39103'], 'failure_details': [{'timestamp': Timestamp('2025-07-20 00:00:00+0000', tz='UTC'), 'repair_time': Timestamp('2025-07-20 12:00:00+0000', tz='UTC'), 'downtime': '0 days 12:00:00', 'cause': 'cooling failure', 'id': 'WGN-39103', 'Sensor_Installation_Date': datetime.date(2024, 5, 18), 'Manufacture_Date': datetime.date(2003, 6, 9), 'Operator': 'Hendricks and Sons', 'Height_m': 4.39, 'Length_m': 18.24, 'Owner': 'Murphy-Patrick', 'Width_m': 3.28, 'Capacity_tons': 29, 'Type': 'Hopper'}]}",
         "{'speed': {'count': 248.0, 'mean': 45.71942146477024, 'std': 8.167020069296774, 'min': 0.0, '25%': 38.26634393605424, '50%': 47.83941981245556, '75%': 51.91458059294224, 'max': 54.526198244570445}, 'brake': {'count': 248.0, 'mean': 8.012535370038092, 'std': 1.5486127935739582, 'min': 5.532765614782586, '25%': 6.64885495510483, '50%': 7.998730158676263, '75%': 9.00824464886665, 'max': 10.591153195704504}, 'temp': {'count': 248.0, 'mean': 47.23419822744001, 'std': 5.841553892271761, 'min': 39.05817299250932, '25%': 42.285966708686445, '50%': 45.0878880257135, '75%': 52.184640515767725, 'max': 78.85143868479567}, 'vibration': {'count': 248.0, 'mean': 5.51954635894316, 'std': 1.8601295710794876, 'min': 3.2596943193744443, '25%': 3.8840222865934173, '50%': 5.056134254985501, '75%': 7.334856080940937, 'max': 13.395687627823133}, 'battery': {'count': 248.0, 'mean': 61.383957915523986, 'std': 25.1866640307636, 'min': 12.534350566665397, '25%': 42.29798557710144, '50%': 69.51676655461719, '75%': 76.5291845939192, 'max': 99.25728557525859}, 'Height_m': {'count': 248.0, 'mean': 2.95625, 'std': 0.7556792062462989, 'min': 2.01, '25%': 2.5425, '50%': 2.745, '75%': 3.2225, 'max': 4.39}, 'Length_m': {'count': 248.0, 'mean': 15.6175, 'std': 4.786286859647467, 'min': 9.44, '25%': 11.245000000000001, '50%': 15.68, '75%': 18.9975, 'max': 22.95}, 'Width_m': {'count': 248.0, 'mean': 3.0212499999999998, 'std': 0.2831682558720226, 'min': 2.55, '25%': 2.8775, '50%': 2.9400000000000004, '75%': 3.3, 'max': 3.41}, 'Capacity_tons': {'count': 248.0, 'mean': 81.125, 'std': 29.446659729598693, 'min': 29.0, '25%': 64.5, '50%': 91.5, '75%': 103.25, 'max': 116.0}}",
         "\nCreate an HTML report for IIoT sensor data and failures for Hendricks and Sons with three sections. In a first section, provide a written a summary of the most important overall details using only text. In a second section, provide a summary paragraph and a table for details on failures. In the third section, summarize measurements details first in a written paragraph and then in a table. Make sure the report looks professional when subsequently transformed into a pdf with fpdf2. Also, don't include anything unnecessary like descriptions of how you have created the report or newline symbols. Here is the json summary of the recent data:\n- Failure Details: {'n_recent_failures': 1, 'n_percentage_failed': 100.0, 'n_failures_by_type': {}, 'failure_ids': ['WGN-39103'], 'failure_details': [{'timestamp': Timestamp('2025-07-20 00:00:00+0000', tz='UTC'), 'repair_time': Timestamp('2025-07-20 12:00:00+0000', tz='UTC'), 'downtime': '0 days 12:00:00', 'cause': 'cooling failure', 'id': 'WGN-39103', 'Sensor_Installation_Date': datetime.date(2024, 5, 18), 'Manufacture_Date': datetime.date(2003, 6, 9), 'Operator': 'Hendricks and Sons', 'Height_m': 4.39, 'Length_m': 18.24, 'Owner': 'Murphy-Patrick', 'Width_m': 3.28, 'Capacity_tons': 29, 'Type': 'Hopper'}]}\n- Measurement Details: {'speed': {'count': 248.0, 'mean': 45.71942146477024, 'std': 8.167020069296774, 'min': 0.0, '25%': 38.26634393605424, '50%': 47.83941981245556, '75%': 51.91458059294224, 'max': 54.526198244570445}, 'brake': {'count': 248.0, 'mean': 8.012535370038092, 'std': 1.5486127935739582, 'min': 5.532765614782586, '25%': 6.64885495510483, '50%': 7.998730158676263, '75%': 9.00824464886665, 'max': 10.591153195704504}, 'temp': {'count': 248.0, 'mean': 47.23419822744001, 'std': 5.841553892271761, 'min': 39.05817299250932, '25%': 42.285966708686445, '50%': 45.0878880257135, '75%': 52.184640515767725, 'max': 78.85143868479567}, 'vibration': {'count': 248.0, 'mean': 5.51954635894316, 'std': 1.8601295710794876, 'min': 3.2596943193744443, '25%': 3.8840222865934173, '50%': 5.056134254985501, '75%': 7.334856080940937, 'max': 13.395687627823133}, 'battery': {'count': 248.0, 'mean': 61.383957915523986, 'std': 25.1866640307636, 'min': 12.534350566665397, '25%': 42.29798557710144, '50%': 69.51676655461719, '75%': 76.5291845939192, 'max': 99.25728557525859}, 'Height_m': {'count': 248.0, 'mean': 2.95625, 'std': 0.7556792062462989, 'min': 2.01, '25%': 2.5425, '50%': 2.745, '75%': 3.2225, 'max': 4.39}, 'Length_m': {'count': 248.0, 'mean': 15.6175, 'std': 4.786286859647467, 'min': 9.44, '25%': 11.245000000000001, '50%': 15.68, '75%': 18.9975, 'max': 22.95}, 'Width_m': {'count': 248.0, 'mean': 3.0212499999999998, 'std': 0.2831682558720226, 'min': 2.55, '25%': 2.8775, '50%': 2.9400000000000004, '75%': 3.3, 'max': 3.41}, 'Capacity_tons': {'count': 248.0, 'mean': 81.125, 'std': 29.446659729598693, 'min': 29.0, '25%': 64.5, '50%': 91.5, '75%': 103.25, 'max': 116.0}}\n"
        ],
        [
         "4",
         "Martin, Rogers and Mitchell",
         null,
         "{'speed': {'count': 279.0, 'mean': 48.59862402932292, 'std': 6.825078984496925, 'min': 34.41953710708957, '25%': 44.59664564280175, '50%': 49.69683597523199, '75%': 52.591395518167545, 'max': 60.70645143349686}, 'brake': {'count': 279.0, 'mean': 7.465928121413513, 'std': 1.3137390352490959, 'min': 4.915917058346104, '25%': 6.892848537594361, '50%': 7.471749840628172, '75%': 8.213335298146683, 'max': 10.143260405040703}, 'temp': {'count': 279.0, 'mean': 49.9568902967245, 'std': 5.2782350213971965, 'min': 39.81401772611834, '25%': 48.71156584363343, '50%': 51.39990585611531, '75%': 54.21005534618765, 'max': 56.821994616295235}, 'vibration': {'count': 279.0, 'mean': 4.847900196177021, 'std': 1.712346993419659, 'min': 1.8469178763670908, '25%': 3.8473197812155324, '50%': 4.52530546631078, '75%': 5.898301747469688, 'max': 8.671651607928004}, 'battery': {'count': 279.0, 'mean': 69.4840685206214, 'std': 27.69148182262342, 'min': 4.847089727569907, '25%': 54.696154409666065, '50%': 77.40198156189601, '75%': 91.23051773918945, 'max': 96.06442037441589}, 'Height_m': {'count': 279.0, 'mean': 3.207777777777778, 'std': 0.5969973495181822, 'min': 2.12, '25%': 2.91, '50%': 3.25, '75%': 3.66, 'max': 4.02}, 'Length_m': {'count': 279.0, 'mean': 16.536666666666665, 'std': 5.327747509518432, 'min': 8.42, '25%': 14.21, '50%': 15.45, '75%': 22.08, 'max': 24.02}, 'Width_m': {'count': 279.0, 'mean': 3.0833333333333335, 'std': 0.19072183971397952, 'min': 2.81, '25%': 2.93, '50%': 3.05, '75%': 3.23, 'max': 3.45}, 'Capacity_tons': {'count': 279.0, 'mean': 62.0, 'std': 30.15392168202596, 'min': 22.0, '25%': 44.0, '50%': 66.0, '75%': 74.0, 'max': 117.0}}",
         "\nCreate an HTML report for IIoT sensor data and failures for Martin, Rogers and Mitchell with three sections. In a first section, provide a written a summary of the most important overall details using only text. In a second section, provide a summary paragraph and a table for details on failures. In the third section, summarize measurements details first in a written paragraph and then in a table. Make sure the report looks professional when subsequently transformed into a pdf with fpdf2. Also, don't include anything unnecessary like descriptions of how you have created the report or newline symbols. Here is the json summary of the recent data:\n- Failure Details: nan\n- Measurement Details: {'speed': {'count': 279.0, 'mean': 48.59862402932292, 'std': 6.825078984496925, 'min': 34.41953710708957, '25%': 44.59664564280175, '50%': 49.69683597523199, '75%': 52.591395518167545, 'max': 60.70645143349686}, 'brake': {'count': 279.0, 'mean': 7.465928121413513, 'std': 1.3137390352490959, 'min': 4.915917058346104, '25%': 6.892848537594361, '50%': 7.471749840628172, '75%': 8.213335298146683, 'max': 10.143260405040703}, 'temp': {'count': 279.0, 'mean': 49.9568902967245, 'std': 5.2782350213971965, 'min': 39.81401772611834, '25%': 48.71156584363343, '50%': 51.39990585611531, '75%': 54.21005534618765, 'max': 56.821994616295235}, 'vibration': {'count': 279.0, 'mean': 4.847900196177021, 'std': 1.712346993419659, 'min': 1.8469178763670908, '25%': 3.8473197812155324, '50%': 4.52530546631078, '75%': 5.898301747469688, 'max': 8.671651607928004}, 'battery': {'count': 279.0, 'mean': 69.4840685206214, 'std': 27.69148182262342, 'min': 4.847089727569907, '25%': 54.696154409666065, '50%': 77.40198156189601, '75%': 91.23051773918945, 'max': 96.06442037441589}, 'Height_m': {'count': 279.0, 'mean': 3.207777777777778, 'std': 0.5969973495181822, 'min': 2.12, '25%': 2.91, '50%': 3.25, '75%': 3.66, 'max': 4.02}, 'Length_m': {'count': 279.0, 'mean': 16.536666666666665, 'std': 5.327747509518432, 'min': 8.42, '25%': 14.21, '50%': 15.45, '75%': 22.08, 'max': 24.02}, 'Width_m': {'count': 279.0, 'mean': 3.0833333333333335, 'std': 0.19072183971397952, 'min': 2.81, '25%': 2.93, '50%': 3.05, '75%': 3.23, 'max': 3.45}, 'Capacity_tons': {'count': 279.0, 'mean': 62.0, 'std': 30.15392168202596, 'min': 22.0, '25%': 44.0, '50%': 66.0, '75%': 74.0, 'max': 117.0}}\n"
        ],
        [
         "5",
         "Rodriguez and Sons",
         "{'n_recent_failures': 1, 'n_percentage_failed': 100.0, 'n_failures_by_type': {}, 'failure_ids': ['WGN-17692'], 'failure_details': [{'timestamp': Timestamp('2025-07-04 00:00:00+0000', tz='UTC'), 'repair_time': Timestamp('2025-07-04 05:00:00+0000', tz='UTC'), 'downtime': '0 days 05:00:00', 'cause': 'brakes failure', 'id': 'WGN-17692', 'Sensor_Installation_Date': datetime.date(2020, 12, 7), 'Manufacture_Date': datetime.date(2004, 6, 28), 'Operator': 'Rodriguez and Sons', 'Height_m': 3.84, 'Length_m': 11.62, 'Owner': 'Sandoval and Sons', 'Width_m': 3.29, 'Capacity_tons': 47, 'Type': 'Flatcar'}]}",
         "{'speed': {'count': 434.0, 'mean': 45.455624034621415, 'std': 11.292558859768935, 'min': 0.0, '25%': 36.384600023733995, '50%': 46.7401331424944, '75%': 56.53088414758736, 'max': 59.66073411418119}, 'brake': {'count': 434.0, 'mean': 7.270420066258451, 'std': 1.8827810183606999, 'min': 4.840583188976456, '25%': 6.062536654334684, '50%': 6.483955757653961, '75%': 8.316250172356979, 'max': 14.681099107339193}, 'temp': {'count': 434.0, 'mean': 49.73480890798067, 'std': 5.812690778054396, 'min': 41.2313026185544, '25%': 43.82985935087753, '50%': 49.34983574994961, '75%': 53.935762544928785, 'max': 84.93271930617679}, 'vibration': {'count': 434.0, 'mean': 5.6025825780977225, 'std': 2.7365672860872445, 'min': 1.8963381112789832, '25%': 2.8883580137982445, '50%': 5.2477012069760764, '75%': 7.885757191745476, 'max': 11.860081777026245}, 'battery': {'count': 434.0, 'mean': 65.28126764292998, 'std': 21.666904739959715, 'min': 24.121008345662553, '25%': 44.51125140461028, '50%': 71.69256776057212, '75%': 84.99891690609886, 'max': 94.6691335677019}, 'Height_m': {'count': 434.0, 'mean': 3.352142857142857, 'std': 0.5394722147968107, 'min': 2.47, '25%': 2.94, '50%': 3.395, '75%': 3.84, 'max': 4.08}, 'Length_m': {'count': 434.0, 'mean': 14.799285714285718, 'std': 5.553953147310537, 'min': 8.05, '25%': 10.71, '50%': 13.355, '75%': 17.99, 'max': 24.81}, 'Width_m': {'count': 434.0, 'mean': 2.9492857142857147, 'std': 0.3601663670350871, 'min': 2.5, '25%': 2.59, '50%': 2.78, '75%': 3.32, 'max': 3.45}, 'Capacity_tons': {'count': 434.0, 'mean': 75.85714285714286, 'std': 25.847444732665206, 'min': 37.0, '25%': 47.0, '50%': 78.0, '75%': 100.0, 'max': 115.0}}",
         "\nCreate an HTML report for IIoT sensor data and failures for Rodriguez and Sons with three sections. In a first section, provide a written a summary of the most important overall details using only text. In a second section, provide a summary paragraph and a table for details on failures. In the third section, summarize measurements details first in a written paragraph and then in a table. Make sure the report looks professional when subsequently transformed into a pdf with fpdf2. Also, don't include anything unnecessary like descriptions of how you have created the report or newline symbols. Here is the json summary of the recent data:\n- Failure Details: {'n_recent_failures': 1, 'n_percentage_failed': 100.0, 'n_failures_by_type': {}, 'failure_ids': ['WGN-17692'], 'failure_details': [{'timestamp': Timestamp('2025-07-04 00:00:00+0000', tz='UTC'), 'repair_time': Timestamp('2025-07-04 05:00:00+0000', tz='UTC'), 'downtime': '0 days 05:00:00', 'cause': 'brakes failure', 'id': 'WGN-17692', 'Sensor_Installation_Date': datetime.date(2020, 12, 7), 'Manufacture_Date': datetime.date(2004, 6, 28), 'Operator': 'Rodriguez and Sons', 'Height_m': 3.84, 'Length_m': 11.62, 'Owner': 'Sandoval and Sons', 'Width_m': 3.29, 'Capacity_tons': 47, 'Type': 'Flatcar'}]}\n- Measurement Details: {'speed': {'count': 434.0, 'mean': 45.455624034621415, 'std': 11.292558859768935, 'min': 0.0, '25%': 36.384600023733995, '50%': 46.7401331424944, '75%': 56.53088414758736, 'max': 59.66073411418119}, 'brake': {'count': 434.0, 'mean': 7.270420066258451, 'std': 1.8827810183606999, 'min': 4.840583188976456, '25%': 6.062536654334684, '50%': 6.483955757653961, '75%': 8.316250172356979, 'max': 14.681099107339193}, 'temp': {'count': 434.0, 'mean': 49.73480890798067, 'std': 5.812690778054396, 'min': 41.2313026185544, '25%': 43.82985935087753, '50%': 49.34983574994961, '75%': 53.935762544928785, 'max': 84.93271930617679}, 'vibration': {'count': 434.0, 'mean': 5.6025825780977225, 'std': 2.7365672860872445, 'min': 1.8963381112789832, '25%': 2.8883580137982445, '50%': 5.2477012069760764, '75%': 7.885757191745476, 'max': 11.860081777026245}, 'battery': {'count': 434.0, 'mean': 65.28126764292998, 'std': 21.666904739959715, 'min': 24.121008345662553, '25%': 44.51125140461028, '50%': 71.69256776057212, '75%': 84.99891690609886, 'max': 94.6691335677019}, 'Height_m': {'count': 434.0, 'mean': 3.352142857142857, 'std': 0.5394722147968107, 'min': 2.47, '25%': 2.94, '50%': 3.395, '75%': 3.84, 'max': 4.08}, 'Length_m': {'count': 434.0, 'mean': 14.799285714285718, 'std': 5.553953147310537, 'min': 8.05, '25%': 10.71, '50%': 13.355, '75%': 17.99, 'max': 24.81}, 'Width_m': {'count': 434.0, 'mean': 2.9492857142857147, 'std': 0.3601663670350871, 'min': 2.5, '25%': 2.59, '50%': 2.78, '75%': 3.32, 'max': 3.45}, 'Capacity_tons': {'count': 434.0, 'mean': 75.85714285714286, 'std': 25.847444732665206, 'min': 37.0, '25%': 47.0, '50%': 78.0, '75%': 100.0, 'max': 115.0}}\n"
        ],
        [
         "6",
         "Thomas Group",
         null,
         "{'speed': {'count': 217.0, 'mean': 43.41347044987767, 'std': 11.9611281904219, 'min': 18.33553564095418, '25%': 35.971471412909594, '50%': 45.89298541306748, '75%': 52.407393928027155, 'max': 59.415415982039846}, 'brake': {'count': 217.0, 'mean': 8.062914211574018, 'std': 1.262245925098994, 'min': 5.581690872546638, '25%': 6.932072507473942, '50%': 8.414078347276703, '75%': 8.790448602427674, 'max': 10.221380299807144}, 'temp': {'count': 217.0, 'mean': 47.04030577495117, 'std': 6.566457559948713, 'min': 39.80496889822762, '25%': 41.91218908218667, '50%': 43.62992563282292, '75%': 55.554509537629485, 'max': 59.26112524741004}, 'vibration': {'count': 217.0, 'mean': 6.171642376564242, 'std': 2.999492574365489, 'min': 2.2069203917485383, '25%': 3.9323561104864577, '50%': 5.544125940179721, '75%': 7.977780685325128, 'max': 12.665858246693352}, 'battery': {'count': 217.0, 'mean': 60.39092897713215, 'std': 27.83486943433378, 'min': -2.5461737548225214, '25%': 59.55113233997859, '50%': 63.14576909617921, '75%': 72.01417064625916, 'max': 98.75636936316064}, 'Height_m': {'count': 217.0, 'mean': 3.238571428571429, 'std': 0.7671159828975872, 'min': 2.02, '25%': 2.67, '50%': 3.19, '75%': 4.04, 'max': 4.49}, 'Length_m': {'count': 217.0, 'mean': 15.455714285714285, 'std': 5.4151176051170555, 'min': 9.07, '25%': 9.57, '50%': 13.1, '75%': 22.54, 'max': 22.76}, 'Width_m': {'count': 217.0, 'mean': 3.2600000000000002, 'std': 0.12947186166485355, 'min': 3.05, '25%': 3.16, '50%': 3.29, '75%': 3.34, 'max': 3.47}, 'Capacity_tons': {'count': 217.0, 'mean': 63.42857142857143, 'std': 29.11814558168844, 'min': 24.0, '25%': 26.0, '50%': 73.0, '75%': 97.0, 'max': 100.0}}",
         "\nCreate an HTML report for IIoT sensor data and failures for Thomas Group with three sections. In a first section, provide a written a summary of the most important overall details using only text. In a second section, provide a summary paragraph and a table for details on failures. In the third section, summarize measurements details first in a written paragraph and then in a table. Make sure the report looks professional when subsequently transformed into a pdf with fpdf2. Also, don't include anything unnecessary like descriptions of how you have created the report or newline symbols. Here is the json summary of the recent data:\n- Failure Details: nan\n- Measurement Details: {'speed': {'count': 217.0, 'mean': 43.41347044987767, 'std': 11.9611281904219, 'min': 18.33553564095418, '25%': 35.971471412909594, '50%': 45.89298541306748, '75%': 52.407393928027155, 'max': 59.415415982039846}, 'brake': {'count': 217.0, 'mean': 8.062914211574018, 'std': 1.262245925098994, 'min': 5.581690872546638, '25%': 6.932072507473942, '50%': 8.414078347276703, '75%': 8.790448602427674, 'max': 10.221380299807144}, 'temp': {'count': 217.0, 'mean': 47.04030577495117, 'std': 6.566457559948713, 'min': 39.80496889822762, '25%': 41.91218908218667, '50%': 43.62992563282292, '75%': 55.554509537629485, 'max': 59.26112524741004}, 'vibration': {'count': 217.0, 'mean': 6.171642376564242, 'std': 2.999492574365489, 'min': 2.2069203917485383, '25%': 3.9323561104864577, '50%': 5.544125940179721, '75%': 7.977780685325128, 'max': 12.665858246693352}, 'battery': {'count': 217.0, 'mean': 60.39092897713215, 'std': 27.83486943433378, 'min': -2.5461737548225214, '25%': 59.55113233997859, '50%': 63.14576909617921, '75%': 72.01417064625916, 'max': 98.75636936316064}, 'Height_m': {'count': 217.0, 'mean': 3.238571428571429, 'std': 0.7671159828975872, 'min': 2.02, '25%': 2.67, '50%': 3.19, '75%': 4.04, 'max': 4.49}, 'Length_m': {'count': 217.0, 'mean': 15.455714285714285, 'std': 5.4151176051170555, 'min': 9.07, '25%': 9.57, '50%': 13.1, '75%': 22.54, 'max': 22.76}, 'Width_m': {'count': 217.0, 'mean': 3.2600000000000002, 'std': 0.12947186166485355, 'min': 3.05, '25%': 3.16, '50%': 3.29, '75%': 3.34, 'max': 3.47}, 'Capacity_tons': {'count': 217.0, 'mean': 63.42857142857143, 'std': 29.11814558168844, 'min': 24.0, '25%': 26.0, '50%': 73.0, '75%': 97.0, 'max': 100.0}}\n"
        ],
        [
         "7",
         "Torres-Ortiz",
         "{'n_recent_failures': 1, 'n_percentage_failed': 100.0, 'n_failures_by_type': {}, 'failure_ids': ['WGN-37611'], 'failure_details': [{'timestamp': Timestamp('2025-07-24 00:00:00+0000', tz='UTC'), 'repair_time': Timestamp('2025-07-24 17:00:00+0000', tz='UTC'), 'downtime': '0 days 17:00:00', 'cause': 'battery failure', 'id': 'WGN-37611', 'Sensor_Installation_Date': datetime.date(2021, 5, 12), 'Manufacture_Date': datetime.date(1998, 10, 2), 'Operator': 'Torres-Ortiz', 'Height_m': 4.06, 'Length_m': 18.39, 'Owner': 'Wilson, Zavala and Taylor', 'Width_m': 3.1, 'Capacity_tons': 120, 'Type': 'Gondola'}]}",
         "{'speed': {'count': 186.0, 'mean': 45.156615870207865, 'std': 10.97367787841489, 'min': 0.0, '25%': 42.511678294017344, '50%': 46.82964324678711, '75%': 51.27158685320701, 'max': 60.28896648110277}, 'brake': {'count': 186.0, 'mean': 8.15593109181189, 'std': 1.6136818479307746, 'min': 6.066418323104998, '25%': 6.652911767396179, '50%': 7.907331414161506, '75%': 8.662772895707786, 'max': 11.374224935034743}, 'temp': {'count': 186.0, 'mean': 45.344500606284996, 'std': 5.36094262016517, 'min': 39.53605764249974, '25%': 41.46602524585883, '50%': 44.159342563907714, '75%': 46.197354520869155, 'max': 78.68483752045583}, 'vibration': {'count': 186.0, 'mean': 5.632982964410655, 'std': 2.4951176183234764, 'min': 1.8479630269664302, '25%': 4.1881200413115245, '50%': 5.372183335263792, '75%': 6.343902993335632, 'max': 10.937385985061272}, 'battery': {'count': 186.0, 'mean': 75.13466609970142, 'std': 10.01751795028275, 'min': 61.97109430658843, '25%': 66.09132203219032, '50%': 73.85641362267401, '75%': 82.17746450780731, 'max': 100.84583435239044}, 'Height_m': {'count': 186.0, 'mean': 2.8849999999999993, 'std': 0.6511820852174205, 'min': 2.08, '25%': 2.38, '50%': 2.74, '75%': 3.31, 'max': 4.06}, 'Length_m': {'count': 186.0, 'mean': 17.336666666666666, 'std': 4.173640405477482, 'min': 9.9, '25%': 15.68, '50%': 17.245, '75%': 21.63, 'max': 22.32}, 'Width_m': {'count': 186.0, 'mean': 3.0, 'std': 0.24479003689317544, 'min': 2.61, '25%': 2.79, '50%': 3.0549999999999997, '75%': 3.12, 'max': 3.37}, 'Capacity_tons': {'count': 186.0, 'mean': 92.0, 'std': 19.468894109266653, 'min': 59.0, '25%': 84.0, '50%': 91.0, '75%': 107.0, 'max': 120.0}}",
         "\nCreate an HTML report for IIoT sensor data and failures for Torres-Ortiz with three sections. In a first section, provide a written a summary of the most important overall details using only text. In a second section, provide a summary paragraph and a table for details on failures. In the third section, summarize measurements details first in a written paragraph and then in a table. Make sure the report looks professional when subsequently transformed into a pdf with fpdf2. Also, don't include anything unnecessary like descriptions of how you have created the report or newline symbols. Here is the json summary of the recent data:\n- Failure Details: {'n_recent_failures': 1, 'n_percentage_failed': 100.0, 'n_failures_by_type': {}, 'failure_ids': ['WGN-37611'], 'failure_details': [{'timestamp': Timestamp('2025-07-24 00:00:00+0000', tz='UTC'), 'repair_time': Timestamp('2025-07-24 17:00:00+0000', tz='UTC'), 'downtime': '0 days 17:00:00', 'cause': 'battery failure', 'id': 'WGN-37611', 'Sensor_Installation_Date': datetime.date(2021, 5, 12), 'Manufacture_Date': datetime.date(1998, 10, 2), 'Operator': 'Torres-Ortiz', 'Height_m': 4.06, 'Length_m': 18.39, 'Owner': 'Wilson, Zavala and Taylor', 'Width_m': 3.1, 'Capacity_tons': 120, 'Type': 'Gondola'}]}\n- Measurement Details: {'speed': {'count': 186.0, 'mean': 45.156615870207865, 'std': 10.97367787841489, 'min': 0.0, '25%': 42.511678294017344, '50%': 46.82964324678711, '75%': 51.27158685320701, 'max': 60.28896648110277}, 'brake': {'count': 186.0, 'mean': 8.15593109181189, 'std': 1.6136818479307746, 'min': 6.066418323104998, '25%': 6.652911767396179, '50%': 7.907331414161506, '75%': 8.662772895707786, 'max': 11.374224935034743}, 'temp': {'count': 186.0, 'mean': 45.344500606284996, 'std': 5.36094262016517, 'min': 39.53605764249974, '25%': 41.46602524585883, '50%': 44.159342563907714, '75%': 46.197354520869155, 'max': 78.68483752045583}, 'vibration': {'count': 186.0, 'mean': 5.632982964410655, 'std': 2.4951176183234764, 'min': 1.8479630269664302, '25%': 4.1881200413115245, '50%': 5.372183335263792, '75%': 6.343902993335632, 'max': 10.937385985061272}, 'battery': {'count': 186.0, 'mean': 75.13466609970142, 'std': 10.01751795028275, 'min': 61.97109430658843, '25%': 66.09132203219032, '50%': 73.85641362267401, '75%': 82.17746450780731, 'max': 100.84583435239044}, 'Height_m': {'count': 186.0, 'mean': 2.8849999999999993, 'std': 0.6511820852174205, 'min': 2.08, '25%': 2.38, '50%': 2.74, '75%': 3.31, 'max': 4.06}, 'Length_m': {'count': 186.0, 'mean': 17.336666666666666, 'std': 4.173640405477482, 'min': 9.9, '25%': 15.68, '50%': 17.245, '75%': 21.63, 'max': 22.32}, 'Width_m': {'count': 186.0, 'mean': 3.0, 'std': 0.24479003689317544, 'min': 2.61, '25%': 2.79, '50%': 3.0549999999999997, '75%': 3.12, 'max': 3.37}, 'Capacity_tons': {'count': 186.0, 'mean': 92.0, 'std': 19.468894109266653, 'min': 59.0, '25%': 84.0, '50%': 91.0, '75%': 107.0, 'max': 120.0}}\n"
        ],
        [
         "8",
         "Wilson-Johnson",
         "{'n_recent_failures': 1, 'n_percentage_failed': 100.0, 'n_failures_by_type': {}, 'failure_ids': ['WGN-22477'], 'failure_details': [{'timestamp': Timestamp('2025-07-26 00:00:00+0000', tz='UTC'), 'repair_time': Timestamp('2025-07-26 22:00:00+0000', tz='UTC'), 'downtime': '0 days 22:00:00', 'cause': 'cooling failure', 'id': 'WGN-22477', 'Sensor_Installation_Date': datetime.date(2022, 7, 9), 'Manufacture_Date': datetime.date(2006, 11, 2), 'Operator': 'Wilson-Johnson', 'Height_m': 3.88, 'Length_m': 14.01, 'Owner': 'Wiley, Chavez and Gomez', 'Width_m': 2.98, 'Capacity_tons': 46, 'Type': 'Tank Car'}]}",
         "{'speed': {'count': 186.0, 'mean': 36.94627127574773, 'std': 11.632691200694577, 'min': 0.0, '25%': 29.83572935930571, '50%': 33.897180236352526, '75%': 46.851338312455105, 'max': 56.726383905444564}, 'brake': {'count': 186.0, 'mean': 7.883232847364777, 'std': 1.641506645706218, 'min': 5.397771947966494, '25%': 6.554837678322471, '50%': 7.835268196516653, '75%': 8.632731835194976, 'max': 11.055232708870777}, 'temp': {'count': 186.0, 'mean': 47.60723842579082, 'std': 7.468852283833504, 'min': 39.45854439925483, '25%': 40.89911282067469, '50%': 46.26202971719195, '75%': 52.10378681012991, 'max': 85.79743370829641}, 'vibration': {'count': 186.0, 'mean': 7.701514321462861, 'std': 2.806720617873101, 'min': 2.5940479113566304, '25%': 5.2861720364390745, '50%': 8.575591933909124, '75%': 9.615876426480305, 'max': 11.80450902953588}, 'battery': {'count': 186.0, 'mean': 73.36851520583765, 'std': 16.655411339839333, 'min': 53.41583562792985, '25%': 57.48719202852501, '50%': 68.59175767333093, '75%': 94.14844501142161, 'max': 98.27237792468279}, 'Height_m': {'count': 186.0, 'mean': 3.15, 'std': 0.6260247814799563, 'min': 2.41, '25%': 2.56, '50%': 3.08, '75%': 3.88, 'max': 3.89}, 'Length_m': {'count': 186.0, 'mean': 13.366666666666665, 'std': 3.579559185704849, 'min': 8.86, '25%': 10.15, '50%': 13.55, '75%': 14.01, 'max': 20.08}, 'Width_m': {'count': 186.0, 'mean': 3.031666666666667, 'std': 0.2443389685079552, 'min': 2.6, '25%': 2.88, '50%': 3.075, '75%': 3.25, 'max': 3.31}, 'Capacity_tons': {'count': 186.0, 'mean': 53.0, 'std': 26.236759852686983, 'min': 23.0, '25%': 24.0, '50%': 54.0, '75%': 64.0, 'max': 99.0}}",
         "\nCreate an HTML report for IIoT sensor data and failures for Wilson-Johnson with three sections. In a first section, provide a written a summary of the most important overall details using only text. In a second section, provide a summary paragraph and a table for details on failures. In the third section, summarize measurements details first in a written paragraph and then in a table. Make sure the report looks professional when subsequently transformed into a pdf with fpdf2. Also, don't include anything unnecessary like descriptions of how you have created the report or newline symbols. Here is the json summary of the recent data:\n- Failure Details: {'n_recent_failures': 1, 'n_percentage_failed': 100.0, 'n_failures_by_type': {}, 'failure_ids': ['WGN-22477'], 'failure_details': [{'timestamp': Timestamp('2025-07-26 00:00:00+0000', tz='UTC'), 'repair_time': Timestamp('2025-07-26 22:00:00+0000', tz='UTC'), 'downtime': '0 days 22:00:00', 'cause': 'cooling failure', 'id': 'WGN-22477', 'Sensor_Installation_Date': datetime.date(2022, 7, 9), 'Manufacture_Date': datetime.date(2006, 11, 2), 'Operator': 'Wilson-Johnson', 'Height_m': 3.88, 'Length_m': 14.01, 'Owner': 'Wiley, Chavez and Gomez', 'Width_m': 2.98, 'Capacity_tons': 46, 'Type': 'Tank Car'}]}\n- Measurement Details: {'speed': {'count': 186.0, 'mean': 36.94627127574773, 'std': 11.632691200694577, 'min': 0.0, '25%': 29.83572935930571, '50%': 33.897180236352526, '75%': 46.851338312455105, 'max': 56.726383905444564}, 'brake': {'count': 186.0, 'mean': 7.883232847364777, 'std': 1.641506645706218, 'min': 5.397771947966494, '25%': 6.554837678322471, '50%': 7.835268196516653, '75%': 8.632731835194976, 'max': 11.055232708870777}, 'temp': {'count': 186.0, 'mean': 47.60723842579082, 'std': 7.468852283833504, 'min': 39.45854439925483, '25%': 40.89911282067469, '50%': 46.26202971719195, '75%': 52.10378681012991, 'max': 85.79743370829641}, 'vibration': {'count': 186.0, 'mean': 7.701514321462861, 'std': 2.806720617873101, 'min': 2.5940479113566304, '25%': 5.2861720364390745, '50%': 8.575591933909124, '75%': 9.615876426480305, 'max': 11.80450902953588}, 'battery': {'count': 186.0, 'mean': 73.36851520583765, 'std': 16.655411339839333, 'min': 53.41583562792985, '25%': 57.48719202852501, '50%': 68.59175767333093, '75%': 94.14844501142161, 'max': 98.27237792468279}, 'Height_m': {'count': 186.0, 'mean': 3.15, 'std': 0.6260247814799563, 'min': 2.41, '25%': 2.56, '50%': 3.08, '75%': 3.88, 'max': 3.89}, 'Length_m': {'count': 186.0, 'mean': 13.366666666666665, 'std': 3.579559185704849, 'min': 8.86, '25%': 10.15, '50%': 13.55, '75%': 14.01, 'max': 20.08}, 'Width_m': {'count': 186.0, 'mean': 3.031666666666667, 'std': 0.2443389685079552, 'min': 2.6, '25%': 2.88, '50%': 3.075, '75%': 3.25, 'max': 3.31}, 'Capacity_tons': {'count': 186.0, 'mean': 53.0, 'std': 26.236759852686983, 'min': 23.0, '25%': 24.0, '50%': 54.0, '75%': 64.0, 'max': 99.0}}\n"
        ],
        [
         "9",
         "Wolfe and Sons",
         "{'n_recent_failures': 1, 'n_percentage_failed': 100.0, 'n_failures_by_type': {}, 'failure_ids': ['WGN-44982'], 'failure_details': [{'timestamp': Timestamp('2025-07-12 00:00:00+0000', tz='UTC'), 'repair_time': Timestamp('2025-07-12 10:00:00+0000', tz='UTC'), 'downtime': '0 days 10:00:00', 'cause': 'brakes failure', 'id': 'WGN-44982', 'Sensor_Installation_Date': datetime.date(2022, 12, 30), 'Manufacture_Date': datetime.date(2017, 4, 3), 'Operator': 'Wolfe and Sons', 'Height_m': 4.47, 'Length_m': 20.19, 'Owner': 'Hanson-Williams', 'Width_m': 3.36, 'Capacity_tons': 61, 'Type': 'Boxcar'}]}",
         "{'speed': {'count': 403.0, 'mean': 40.98080614287618, 'std': 10.422231319390027, 'min': 0.0, '25%': 30.793202055005853, '50%': 39.8348798501289, '75%': 50.42209620391674, 'max': 58.857419973393405}, 'brake': {'count': 403.0, 'mean': 8.136683883232541, 'std': 1.6548346580185243, 'min': 4.904354277492412, '25%': 6.21451857816338, '50%': 8.586492850089458, '75%': 9.152003128220779, 'max': 11.620877795034398}, 'temp': {'count': 403.0, 'mean': 46.259978221463214, 'std': 4.257397584451237, 'min': 40.49170500004389, '25%': 43.15312571144331, '50%': 45.74192280215237, '75%': 48.782838900483426, 'max': 81.50972793607336}, 'vibration': {'count': 403.0, 'mean': 6.706959289252247, 'std': 2.5005366388254457, 'min': 2.3070070415201362, '25%': 4.305571818814293, '50%': 7.066009661241528, '75%': 9.188657878358109, 'max': 10.712259569002887}, 'battery': {'count': 403.0, 'mean': 60.08737386674493, 'std': 16.73791021072591, 'min': 24.60979463458803, '25%': 54.6238671896547, '50%': 63.52702678142821, '75%': 67.96006425066798, 'max': 93.08245004453025}, 'Height_m': {'count': 403.0, 'mean': 3.5015384615384613, 'std': 0.7045884550075777, 'min': 2.2, '25%': 2.98, '50%': 3.52, '75%': 4.2, 'max': 4.47}, 'Length_m': {'count': 403.0, 'mean': 18.553076923076922, 'std': 4.456245933790721, 'min': 10.51, '25%': 16.41, '50%': 17.75, '75%': 22.91, 'max': 24.5}, 'Width_m': {'count': 403.0, 'mean': 3.0346153846153854, 'std': 0.32769440086724055, 'min': 2.51, '25%': 2.74, '50%': 3.18, '75%': 3.29, 'max': 3.42}, 'Capacity_tons': {'count': 403.0, 'mean': 64.46153846153847, 'std': 22.507387059676965, 'min': 31.0, '25%': 40.0, '50%': 61.0, '75%': 82.0, 'max': 100.0}}",
         "\nCreate an HTML report for IIoT sensor data and failures for Wolfe and Sons with three sections. In a first section, provide a written a summary of the most important overall details using only text. In a second section, provide a summary paragraph and a table for details on failures. In the third section, summarize measurements details first in a written paragraph and then in a table. Make sure the report looks professional when subsequently transformed into a pdf with fpdf2. Also, don't include anything unnecessary like descriptions of how you have created the report or newline symbols. Here is the json summary of the recent data:\n- Failure Details: {'n_recent_failures': 1, 'n_percentage_failed': 100.0, 'n_failures_by_type': {}, 'failure_ids': ['WGN-44982'], 'failure_details': [{'timestamp': Timestamp('2025-07-12 00:00:00+0000', tz='UTC'), 'repair_time': Timestamp('2025-07-12 10:00:00+0000', tz='UTC'), 'downtime': '0 days 10:00:00', 'cause': 'brakes failure', 'id': 'WGN-44982', 'Sensor_Installation_Date': datetime.date(2022, 12, 30), 'Manufacture_Date': datetime.date(2017, 4, 3), 'Operator': 'Wolfe and Sons', 'Height_m': 4.47, 'Length_m': 20.19, 'Owner': 'Hanson-Williams', 'Width_m': 3.36, 'Capacity_tons': 61, 'Type': 'Boxcar'}]}\n- Measurement Details: {'speed': {'count': 403.0, 'mean': 40.98080614287618, 'std': 10.422231319390027, 'min': 0.0, '25%': 30.793202055005853, '50%': 39.8348798501289, '75%': 50.42209620391674, 'max': 58.857419973393405}, 'brake': {'count': 403.0, 'mean': 8.136683883232541, 'std': 1.6548346580185243, 'min': 4.904354277492412, '25%': 6.21451857816338, '50%': 8.586492850089458, '75%': 9.152003128220779, 'max': 11.620877795034398}, 'temp': {'count': 403.0, 'mean': 46.259978221463214, 'std': 4.257397584451237, 'min': 40.49170500004389, '25%': 43.15312571144331, '50%': 45.74192280215237, '75%': 48.782838900483426, 'max': 81.50972793607336}, 'vibration': {'count': 403.0, 'mean': 6.706959289252247, 'std': 2.5005366388254457, 'min': 2.3070070415201362, '25%': 4.305571818814293, '50%': 7.066009661241528, '75%': 9.188657878358109, 'max': 10.712259569002887}, 'battery': {'count': 403.0, 'mean': 60.08737386674493, 'std': 16.73791021072591, 'min': 24.60979463458803, '25%': 54.6238671896547, '50%': 63.52702678142821, '75%': 67.96006425066798, 'max': 93.08245004453025}, 'Height_m': {'count': 403.0, 'mean': 3.5015384615384613, 'std': 0.7045884550075777, 'min': 2.2, '25%': 2.98, '50%': 3.52, '75%': 4.2, 'max': 4.47}, 'Length_m': {'count': 403.0, 'mean': 18.553076923076922, 'std': 4.456245933790721, 'min': 10.51, '25%': 16.41, '50%': 17.75, '75%': 22.91, 'max': 24.5}, 'Width_m': {'count': 403.0, 'mean': 3.0346153846153854, 'std': 0.32769440086724055, 'min': 2.51, '25%': 2.74, '50%': 3.18, '75%': 3.29, 'max': 3.42}, 'Capacity_tons': {'count': 403.0, 'mean': 64.46153846153847, 'std': 22.507387059676965, 'min': 31.0, '25%': 40.0, '50%': 61.0, '75%': 82.0, 'max': 100.0}}\n"
        ]
       ],
       "shape": {
        "columns": 4,
        "rows": 10
       }
      },
      "text/html": [
       "<div>\n",
       "<style scoped>\n",
       "    .dataframe tbody tr th:only-of-type {\n",
       "        vertical-align: middle;\n",
       "    }\n",
       "\n",
       "    .dataframe tbody tr th {\n",
       "        vertical-align: top;\n",
       "    }\n",
       "\n",
       "    .dataframe thead th {\n",
       "        text-align: right;\n",
       "    }\n",
       "</style>\n",
       "<table border=\"1\" class=\"dataframe\">\n",
       "  <thead>\n",
       "    <tr style=\"text-align: right;\">\n",
       "      <th></th>\n",
       "      <th>Operator</th>\n",
       "      <th>failure_details</th>\n",
       "      <th>measurement_details</th>\n",
       "      <th>prompt</th>\n",
       "    </tr>\n",
       "  </thead>\n",
       "  <tbody>\n",
       "    <tr>\n",
       "      <th>0</th>\n",
       "      <td>Brennan-Peterson</td>\n",
       "      <td>{'n_recent_failures': 1, 'n_percentage_failed'...</td>\n",
       "      <td>{'speed': {'count': 372.0, 'mean': 40.76988876...</td>\n",
       "      <td>\\nCreate an HTML report for IIoT sensor data a...</td>\n",
       "    </tr>\n",
       "    <tr>\n",
       "      <th>1</th>\n",
       "      <td>Charles and Sons</td>\n",
       "      <td>{'n_recent_failures': 2, 'n_percentage_failed'...</td>\n",
       "      <td>{'speed': {'count': 372.0, 'mean': 41.01191279...</td>\n",
       "      <td>\\nCreate an HTML report for IIoT sensor data a...</td>\n",
       "    </tr>\n",
       "    <tr>\n",
       "      <th>2</th>\n",
       "      <td>Harris-Jenkins</td>\n",
       "      <td>{'n_recent_failures': 1, 'n_percentage_failed'...</td>\n",
       "      <td>{'speed': {'count': 403.0, 'mean': 39.78515137...</td>\n",
       "      <td>\\nCreate an HTML report for IIoT sensor data a...</td>\n",
       "    </tr>\n",
       "    <tr>\n",
       "      <th>3</th>\n",
       "      <td>Hendricks and Sons</td>\n",
       "      <td>{'n_recent_failures': 1, 'n_percentage_failed'...</td>\n",
       "      <td>{'speed': {'count': 248.0, 'mean': 45.71942146...</td>\n",
       "      <td>\\nCreate an HTML report for IIoT sensor data a...</td>\n",
       "    </tr>\n",
       "    <tr>\n",
       "      <th>4</th>\n",
       "      <td>Martin, Rogers and Mitchell</td>\n",
       "      <td>NaN</td>\n",
       "      <td>{'speed': {'count': 279.0, 'mean': 48.59862402...</td>\n",
       "      <td>\\nCreate an HTML report for IIoT sensor data a...</td>\n",
       "    </tr>\n",
       "    <tr>\n",
       "      <th>5</th>\n",
       "      <td>Rodriguez and Sons</td>\n",
       "      <td>{'n_recent_failures': 1, 'n_percentage_failed'...</td>\n",
       "      <td>{'speed': {'count': 434.0, 'mean': 45.45562403...</td>\n",
       "      <td>\\nCreate an HTML report for IIoT sensor data a...</td>\n",
       "    </tr>\n",
       "    <tr>\n",
       "      <th>6</th>\n",
       "      <td>Thomas Group</td>\n",
       "      <td>NaN</td>\n",
       "      <td>{'speed': {'count': 217.0, 'mean': 43.41347044...</td>\n",
       "      <td>\\nCreate an HTML report for IIoT sensor data a...</td>\n",
       "    </tr>\n",
       "    <tr>\n",
       "      <th>7</th>\n",
       "      <td>Torres-Ortiz</td>\n",
       "      <td>{'n_recent_failures': 1, 'n_percentage_failed'...</td>\n",
       "      <td>{'speed': {'count': 186.0, 'mean': 45.15661587...</td>\n",
       "      <td>\\nCreate an HTML report for IIoT sensor data a...</td>\n",
       "    </tr>\n",
       "    <tr>\n",
       "      <th>8</th>\n",
       "      <td>Wilson-Johnson</td>\n",
       "      <td>{'n_recent_failures': 1, 'n_percentage_failed'...</td>\n",
       "      <td>{'speed': {'count': 186.0, 'mean': 36.94627127...</td>\n",
       "      <td>\\nCreate an HTML report for IIoT sensor data a...</td>\n",
       "    </tr>\n",
       "    <tr>\n",
       "      <th>9</th>\n",
       "      <td>Wolfe and Sons</td>\n",
       "      <td>{'n_recent_failures': 1, 'n_percentage_failed'...</td>\n",
       "      <td>{'speed': {'count': 403.0, 'mean': 40.98080614...</td>\n",
       "      <td>\\nCreate an HTML report for IIoT sensor data a...</td>\n",
       "    </tr>\n",
       "  </tbody>\n",
       "</table>\n",
       "</div>"
      ],
      "text/plain": [
       "                      Operator  \\\n",
       "0             Brennan-Peterson   \n",
       "1             Charles and Sons   \n",
       "2               Harris-Jenkins   \n",
       "3           Hendricks and Sons   \n",
       "4  Martin, Rogers and Mitchell   \n",
       "5           Rodriguez and Sons   \n",
       "6                 Thomas Group   \n",
       "7                 Torres-Ortiz   \n",
       "8               Wilson-Johnson   \n",
       "9               Wolfe and Sons   \n",
       "\n",
       "                                     failure_details  \\\n",
       "0  {'n_recent_failures': 1, 'n_percentage_failed'...   \n",
       "1  {'n_recent_failures': 2, 'n_percentage_failed'...   \n",
       "2  {'n_recent_failures': 1, 'n_percentage_failed'...   \n",
       "3  {'n_recent_failures': 1, 'n_percentage_failed'...   \n",
       "4                                                NaN   \n",
       "5  {'n_recent_failures': 1, 'n_percentage_failed'...   \n",
       "6                                                NaN   \n",
       "7  {'n_recent_failures': 1, 'n_percentage_failed'...   \n",
       "8  {'n_recent_failures': 1, 'n_percentage_failed'...   \n",
       "9  {'n_recent_failures': 1, 'n_percentage_failed'...   \n",
       "\n",
       "                                 measurement_details  \\\n",
       "0  {'speed': {'count': 372.0, 'mean': 40.76988876...   \n",
       "1  {'speed': {'count': 372.0, 'mean': 41.01191279...   \n",
       "2  {'speed': {'count': 403.0, 'mean': 39.78515137...   \n",
       "3  {'speed': {'count': 248.0, 'mean': 45.71942146...   \n",
       "4  {'speed': {'count': 279.0, 'mean': 48.59862402...   \n",
       "5  {'speed': {'count': 434.0, 'mean': 45.45562403...   \n",
       "6  {'speed': {'count': 217.0, 'mean': 43.41347044...   \n",
       "7  {'speed': {'count': 186.0, 'mean': 45.15661587...   \n",
       "8  {'speed': {'count': 186.0, 'mean': 36.94627127...   \n",
       "9  {'speed': {'count': 403.0, 'mean': 40.98080614...   \n",
       "\n",
       "                                              prompt  \n",
       "0  \\nCreate an HTML report for IIoT sensor data a...  \n",
       "1  \\nCreate an HTML report for IIoT sensor data a...  \n",
       "2  \\nCreate an HTML report for IIoT sensor data a...  \n",
       "3  \\nCreate an HTML report for IIoT sensor data a...  \n",
       "4  \\nCreate an HTML report for IIoT sensor data a...  \n",
       "5  \\nCreate an HTML report for IIoT sensor data a...  \n",
       "6  \\nCreate an HTML report for IIoT sensor data a...  \n",
       "7  \\nCreate an HTML report for IIoT sensor data a...  \n",
       "8  \\nCreate an HTML report for IIoT sensor data a...  \n",
       "9  \\nCreate an HTML report for IIoT sensor data a...  "
      ]
     },
     "execution_count": 135,
     "metadata": {},
     "output_type": "execute_result"
    }
   ],
   "source": [
    "details_for_report"
   ]
  },
  {
   "cell_type": "code",
   "execution_count": 136,
   "id": "87af6e59",
   "metadata": {},
   "outputs": [],
   "source": [
    "query = f\"\"\"SELECT\n",
    "  {pdf_report_receiver},\n",
    "  AI.GENERATE(\n",
    "    ('', prompt),\n",
    "    connection_id => 'projects/neuraltwin/locations/eu/connections/vertex-ai-connecton-neuraltwin',\n",
    "    endpoint => 'gemini-2.0-flash-lite'\n",
    "  ).result AS report\n",
    "FROM\n",
    "  `{report_details_table_name}`;\n",
    "\"\"\"\n",
    "reports = bigquery_client.query(query).to_dataframe()"
   ]
  },
  {
   "cell_type": "code",
   "execution_count": null,
   "id": "2235b4ed",
   "metadata": {},
   "outputs": [
    {
     "name": "stderr",
     "output_type": "stream",
     "text": [
      "100%|██████████| 1/1 [00:00<00:00, 1004.38it/s]\n"
     ]
    }
   ],
   "source": [
    "# print html report for the first receiver\n",
    "reports.to_gbq(\n",
    "    destination_table=f\"{bigquery_dataset}.html_reports_{TODAY_str}\",\n",
    "    project_id=project_id,\n",
    "    if_exists=\"replace\"\n",
    ")"
   ]
  },
  {
   "cell_type": "code",
   "execution_count": null,
   "id": "37a151b1",
   "metadata": {},
   "outputs": [],
   "source": []
  },
  {
   "cell_type": "code",
   "execution_count": null,
   "id": "d090c421",
   "metadata": {},
   "outputs": [],
   "source": []
  },
  {
   "cell_type": "code",
   "execution_count": null,
   "id": "b7ff4e48",
   "metadata": {},
   "outputs": [],
   "source": []
  },
  {
   "cell_type": "code",
   "execution_count": null,
   "id": "bfb4f500",
   "metadata": {},
   "outputs": [],
   "source": []
  },
  {
   "cell_type": "markdown",
   "id": "4ab944ed",
   "metadata": {},
   "source": [
    "# optional: pdf report generation"
   ]
  },
  {
   "cell_type": "code",
   "execution_count": 141,
   "id": "cf38dbe7",
   "metadata": {},
   "outputs": [],
   "source": [
    "report = reports.iloc[0][\"report\"][4:-4]\n",
    "# remove first and last 4 characters\n",
    "\n",
    "\n",
    "from fpdf import FPDF\n",
    "pdf = FPDF()\n",
    "pdf.add_page()\n",
    "pdf.write_html(report)\n",
    "pdf.output(\"report.pdf\")"
   ]
  },
  {
   "cell_type": "code",
   "execution_count": null,
   "id": "316d1202",
   "metadata": {},
   "outputs": [],
   "source": [
    "# for each report, save it as a pdf in a gcs directory of today's date using fpdf2\n",
    "from fpdf import FPDF\n",
    "import tempfile\n",
    "for _, row in reports.iterrows():\n",
    "    pdf = FPDF()\n",
    "    pdf.add_page()\n",
    "    pdf.set_auto_page_break(auto=True, margin=15)\n",
    "    pdf.set_font(\"Arial\", size=12)\n",
    "\n",
    "    pdf.write_html(row[\"report\"])\n",
    "\n",
    "    # Save to a temporary file\n",
    "    with tempfile.NamedTemporaryFile(delete=False, suffix=\".pdf\") as tmp_file:\n",
    "        pdf.output(tmp_file.name)\n",
    "        tmp_file_path = tmp_file.name\n",
    "\n",
    "    # # Upload to GCS\n",
    "    # bucket_name = \"neuraltwin\"\n",
    "    # destination_blob_name = f\"reports/{TODAY.strftime('%Y_%m_%d')}/{row[pdf_report_receiver].replace(' ', '_')}_report.pdf\"\n",
    "    # bucket = storage_client.bucket(bucket_name)\n",
    "    # blob = bucket.blob(destination_blob_name)\n",
    "    # blob.upload_from_filename(tmp_file_path)\n",
    "\n",
    "    # print(f\"Uploaded report for {row[pdf_report_receiver]} to gs://{bucket_name}/{destination_blob_name}\")\n",
    "\n",
    "    # # Clean up temporary file\n",
    "    # os.remove(tmp_file_path)"
   ]
  }
 ],
 "metadata": {
  "kernelspec": {
   "display_name": "neuraltwin",
   "language": "python",
   "name": "python3"
  },
  "language_info": {
   "codemirror_mode": {
    "name": "ipython",
    "version": 3
   },
   "file_extension": ".py",
   "mimetype": "text/x-python",
   "name": "python",
   "nbconvert_exporter": "python",
   "pygments_lexer": "ipython3",
   "version": "3.11.9"
  }
 },
 "nbformat": 4,
 "nbformat_minor": 5
}
